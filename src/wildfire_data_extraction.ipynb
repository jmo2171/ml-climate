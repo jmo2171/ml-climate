{
  "nbformat": 4,
  "nbformat_minor": 0,
  "metadata": {
    "colab": {
      "provenance": [],
      "collapsed_sections": [
        "5z1AiDPOYWKZ",
        "w09wnI6PkYzR",
        "Fw5cQ_3Skh_s",
        "mfWHCLtoxy-x"
      ],
      "authorship_tag": "ABX9TyPgT55wYM51orjZsFY6KqYA",
      "include_colab_link": true
    },
    "kernelspec": {
      "name": "python3",
      "display_name": "Python 3"
    },
    "language_info": {
      "name": "python"
    }
  },
  "cells": [
    {
      "cell_type": "markdown",
      "metadata": {
        "id": "view-in-github",
        "colab_type": "text"
      },
      "source": [
        "<a href=\"https://colab.research.google.com/github/jmo2171/ml-climate/blob/main/src/wildfire_data_extraction.ipynb\" target=\"_parent\"><img src=\"https://colab.research.google.com/assets/colab-badge.svg\" alt=\"Open In Colab\"/></a>"
      ]
    },
    {
      "cell_type": "markdown",
      "source": [
        "# setup"
      ],
      "metadata": {
        "id": "jFwzkrQaGjD-"
      }
    },
    {
      "cell_type": "markdown",
      "source": [
        "### imports"
      ],
      "metadata": {
        "id": "AWlZ3lMKGrwk"
      }
    },
    {
      "cell_type": "code",
      "source": [
        "import zipfile\n",
        "import sqlite3\n",
        "import pandas as pd\n",
        "from tqdm import tqdm\n",
        "import numpy as np\n",
        "import glob\n",
        "import ast"
      ],
      "metadata": {
        "id": "_c90G5ImG6DN"
      },
      "execution_count": 1,
      "outputs": []
    },
    {
      "cell_type": "code",
      "source": [
        "import datetime\n",
        "\n",
        "def julian_to_datetime(julian_date):\n",
        "    # Julian Day 0 = 4713-11-24 BCE (proleptic Gregorian calendar)\n",
        "    # Astronomical JD 2440587.5 = Unix time 0 (1970-01-01T00:00:00Z)\n",
        "    unix_time_seconds = (julian_date - 2440587.5) * 86400.0\n",
        "    return datetime.datetime.utcfromtimestamp(unix_time_seconds)"
      ],
      "metadata": {
        "id": "Sice5Rx2aLw_"
      },
      "execution_count": 2,
      "outputs": []
    },
    {
      "cell_type": "markdown",
      "source": [
        "### google drive"
      ],
      "metadata": {
        "id": "9bVyl7iVGtkZ"
      }
    },
    {
      "cell_type": "code",
      "source": [
        "from google.colab import drive\n",
        "drive.mount('/content/drive')"
      ],
      "metadata": {
        "colab": {
          "base_uri": "https://localhost:8080/"
        },
        "id": "0OSuoj5SGzOP",
        "outputId": "597954c8-b05a-4e98-9226-25654496ef9b"
      },
      "execution_count": 3,
      "outputs": [
        {
          "output_type": "stream",
          "name": "stdout",
          "text": [
            "Mounted at /content/drive\n"
          ]
        }
      ]
    },
    {
      "cell_type": "markdown",
      "source": [
        "### google earth engine"
      ],
      "metadata": {
        "id": "_1Oi-Y8YGp_r"
      }
    },
    {
      "cell_type": "code",
      "execution_count": 4,
      "metadata": {
        "id": "znrANBpVGR5-"
      },
      "outputs": [],
      "source": [
        "import ee"
      ]
    },
    {
      "cell_type": "code",
      "source": [
        "# Trigger the authentication flow.\n",
        "ee.Authenticate()\n",
        "\n",
        "# Initialize the library.\n",
        "ee.Initialize(project='cvproject-421022')"
      ],
      "metadata": {
        "id": "4Zqj_2XMGe1W"
      },
      "execution_count": 5,
      "outputs": []
    },
    {
      "cell_type": "markdown",
      "source": [
        "# load 1.88 mil wildfire data"
      ],
      "metadata": {
        "id": "vCimkQgNGlgw"
      }
    },
    {
      "cell_type": "code",
      "source": [
        "with zipfile.ZipFile('/content/drive/MyDrive/Spring 2025/ML and Climate/wildfire_project/fod.zip', 'r') as zip_ref:\n",
        "    zip_ref.extractall('/content/fod')\n"
      ],
      "metadata": {
        "id": "sI9WkLH0G2dO"
      },
      "execution_count": 6,
      "outputs": []
    },
    {
      "cell_type": "code",
      "source": [
        "con = sqlite3.connect('/content/fod/FPA_FOD_20170508.sqlite')\n",
        "cur = con.cursor()\n",
        "\n",
        "# for row in cur.execute('SELECT COUNT(*) FROM Fires F WHERE F.STATE=\"CA\"'):\n",
        "#   print(row)\n",
        "\n",
        "\n",
        "# for row in cur.execute('SELECT FOD_ID, FIRE_NAME, FIRE_SIZE, FIRE_SIZE_CLASS, FIRE_YEAR, DISCOVERY_DATE, STAT_CAUSE_DESCR, STATE, LATITUDE, LONGITUDE FROM Fires F WHERE F.STATE=\"CA\" LIMIT 2'):\n",
        "#   print(row)\n",
        "# con.close()\n",
        "\n",
        "ca_fires = pd.read_sql('SELECT FOD_ID, FIRE_NAME, FIRE_SIZE, FIRE_SIZE_CLASS, FIRE_YEAR, DISCOVERY_DATE, STAT_CAUSE_DESCR, STATE, LATITUDE, LONGITUDE FROM Fires F WHERE F.STATE=\"CA\"', con)\n",
        "# all_fires = pd.read_sql('SELECT FOD_ID, FIRE_NAME, FIRE_SIZE, FIRE_SIZE_CLASS, FIRE_YEAR, DISCOVERY_DATE, STAT_CAUSE_DESCR, STATE, LATITUDE, LONGITUDE FROM Fires F', con)\n"
      ],
      "metadata": {
        "id": "JULmKSEPH5Xu"
      },
      "execution_count": 31,
      "outputs": []
    },
    {
      "cell_type": "code",
      "source": [
        "test_fires = pd.read_sql('SELECT FOD_ID, FIRE_NAME, FIRE_SIZE, FIRE_SIZE_CLASS, FIRE_YEAR, DISCOVERY_DATE, STAT_CAUSE_DESCR, STATE, LATITUDE, LONGITUDE FROM Fires F LIMIT 15', con)\n",
        "test_fires"
      ],
      "metadata": {
        "id": "rNxniuDsMnVr"
      },
      "execution_count": null,
      "outputs": []
    },
    {
      "cell_type": "code",
      "source": [
        "# ca_fires[ca_fires['FIRE_SIZE_CLASS']=='E']\n",
        "ca_fires['FIRE_SIZE_CLASS'].unique()"
      ],
      "metadata": {
        "colab": {
          "base_uri": "https://localhost:8080/"
        },
        "id": "q2UNmSlOLkZ5",
        "outputId": "6074ef0c-4d3d-4ffe-bb03-90b3c6f28d89"
      },
      "execution_count": 8,
      "outputs": [
        {
          "output_type": "execute_result",
          "data": {
            "text/plain": [
              "array(['A', 'B', 'G', 'C', 'F', 'D', 'E'], dtype=object)"
            ]
          },
          "metadata": {},
          "execution_count": 8
        }
      ]
    },
    {
      "cell_type": "code",
      "source": [
        "ca_fires[\"date\"] = ca_fires[\"DISCOVERY_DATE\"].apply(julian_to_datetime)"
      ],
      "metadata": {
        "id": "9NAuKyFLbIrJ"
      },
      "execution_count": 33,
      "outputs": []
    },
    {
      "cell_type": "code",
      "source": [
        "print(ca_fires['FOD_ID'].nunique())\n",
        "print(ca_fires['date'].nunique())\n",
        "ca_fires[(ca_fires['LATITUDE']==37.375) & (ca_fires['LONGITUDE']==-120.62305555) & (ca_fires['date']=='2007-09-28 0:00:00')]\n",
        "\n",
        "print(ca_fires[ca_fires['date']>='2000-02-18'].shape[0])\n",
        "ca_2000_fires = ca_fires[ca_fires['date']>='2000-02-18']"
      ],
      "metadata": {
        "colab": {
          "base_uri": "https://localhost:8080/"
        },
        "id": "NAZ6cvh-cCM9",
        "outputId": "14287a63-37fc-4326-bac4-e48fadad5d5b"
      },
      "execution_count": 34,
      "outputs": [
        {
          "output_type": "stream",
          "name": "stdout",
          "text": [
            "189550\n",
            "8324\n",
            "121328\n"
          ]
        }
      ]
    },
    {
      "cell_type": "markdown",
      "source": [
        "# augment with earth engine data"
      ],
      "metadata": {
        "id": "YOMF3gLFMhrc"
      }
    },
    {
      "cell_type": "markdown",
      "source": [
        "## single point test"
      ],
      "metadata": {
        "id": "5z1AiDPOYWKZ"
      }
    },
    {
      "cell_type": "code",
      "source": [
        "gridmet = ee.ImageCollection('IDAHO_EPSCOR/GRIDMET')\n",
        "# maximumTemperature = dataset.select('tmmx')\n",
        "\n",
        "\n",
        "\n",
        "row = ca_fires.iloc[0]\n",
        "print(row)\n",
        "print(julian_to_datetime(row['DISCOVERY_DATE']))\n",
        "idx = 1\n",
        "point = ee.Geometry.Point([row['LONGITUDE'], row['LATITUDE']])\n",
        "feature = ee.Feature(point, {\n",
        "            'id': str(idx),\n",
        "            'date': julian_to_datetime(row['DISCOVERY_DATE'])\n",
        "        })\n",
        "date = ee.Date(feature.get('date'))\n",
        "\n",
        "image = gridmet.filterDate(date, date.advance(1, 'day')).first()\n",
        "max_temp = image.select('tmmx')\n",
        "# print(image)\n",
        "max_temp_value = max_temp.reduceRegion(\n",
        "        reducer=ee.Reducer.first(),\n",
        "        geometry=feature.geometry(),\n",
        "        scale=1000\n",
        "    ).get('tmmx').getInfo()\n",
        "print(max_temp_value)\n",
        "# Print the elevation near Lyon, France.\n",
        "# lst_urban_point = dataset.mean().sample(u_poi, scale).first().get('tmmx').getInfo()\n",
        "# print(lst_urban_point - 273.15)\n",
        "# print('Average daytime LST at urban point:', round(lst_urban_point*0.02 -273.15, 2), '°C')\n"
      ],
      "metadata": {
        "colab": {
          "base_uri": "https://localhost:8080/"
        },
        "id": "PFrmw366YOhk",
        "outputId": "2934d12a-8908-4db2-d12b-8f79cea2927a"
      },
      "execution_count": null,
      "outputs": [
        {
          "output_type": "stream",
          "name": "stdout",
          "text": [
            "FOD_ID                          1\n",
            "FIRE_NAME                FOUNTAIN\n",
            "FIRE_SIZE                     0.1\n",
            "FIRE_SIZE_CLASS                 A\n",
            "FIRE_YEAR                    2005\n",
            "DISCOVERY_DATE          2453403.5\n",
            "STAT_CAUSE_DESCR    Miscellaneous\n",
            "STATE                          CA\n",
            "LATITUDE                40.036944\n",
            "LONGITUDE             -121.005833\n",
            "Name: 0, dtype: object\n",
            "2005-02-02 00:00:00\n",
            "280.87799072265625\n"
          ]
        }
      ]
    },
    {
      "cell_type": "code",
      "source": [
        "pop = ee.ImageCollection('CIESIN/GPWv411/GPW_Population_Density')\n",
        "\n",
        "row = ca_fires.iloc[0]\n",
        "print(row)\n",
        "print(julian_to_datetime(row['DISCOVERY_DATE']))\n",
        "idx = 1\n",
        "point = ee.Geometry.Point([row['LONGITUDE'], row['LATITUDE']])\n",
        "feature = ee.Feature(point, {\n",
        "            'id': str(idx),\n",
        "            'date': julian_to_datetime(row['DISCOVERY_DATE']),\n",
        "            \"year\": 5 * round(julian_to_datetime(row['DISCOVERY_DATE']).year/5)\n",
        "        })\n",
        "year = feature.get('year')\n",
        "date = ee.Date.fromYMD(year, 1, 1)\n",
        "\n",
        "image = pop.filterDate(date, date.advance(1, 'year')).first()\n",
        "# print(image)\n",
        "\n",
        "\n",
        "population_density = image.select('population_density')\n",
        "\n",
        "# Sample at the feature's location\n",
        "population_density_value = population_density.reduceRegion(\n",
        "    reducer=ee.Reducer.first(),\n",
        "    geometry=feature.geometry(),\n",
        "    scale=1000).get('population_density').getInfo()\n",
        "\n",
        "print(population_density_value)\n"
      ],
      "metadata": {
        "colab": {
          "base_uri": "https://localhost:8080/"
        },
        "id": "IvBUYeAEoasT",
        "outputId": "7e4d89d3-e859-4f27-e6e3-018ad2205dbf"
      },
      "execution_count": null,
      "outputs": [
        {
          "output_type": "stream",
          "name": "stdout",
          "text": [
            "FOD_ID                                1\n",
            "FIRE_NAME                      FOUNTAIN\n",
            "FIRE_SIZE                           0.1\n",
            "FIRE_SIZE_CLASS                       A\n",
            "FIRE_YEAR                          2005\n",
            "DISCOVERY_DATE                2453403.5\n",
            "STAT_CAUSE_DESCR          Miscellaneous\n",
            "STATE                                CA\n",
            "LATITUDE                      40.036944\n",
            "LONGITUDE                   -121.005833\n",
            "date                2005-02-02 00:00:00\n",
            "Name: 0, dtype: object\n",
            "2005-02-02 00:00:00\n",
            "4.473303318023682\n"
          ]
        }
      ]
    },
    {
      "cell_type": "code",
      "source": [
        "veg = ee.ImageCollection('NASA/VIIRS/002/VNP13A1')\n",
        "\n",
        "\n",
        "row = ca_fires.iloc[0]\n",
        "print(row)\n",
        "print(julian_to_datetime(row['DISCOVERY_DATE']))\n",
        "idx = 1\n",
        "point = ee.Geometry.Point([row['LONGITUDE'], row['LATITUDE']])\n",
        "feature = ee.Feature(point, {\n",
        "            'id': str(idx),\n",
        "            'date': julian_to_datetime(row['DISCOVERY_DATE']),\n",
        "            \"year\": 5 * round(julian_to_datetime(row['DISCOVERY_DATE']).year/5)\n",
        "        })\n",
        "\n",
        "date = ee.Date(feature.get('date'))\n",
        "image = veg.filterDate(date, date.advance(1, 'month')).first()# print(image)\n",
        "vegetation = image.select('EVI')\n",
        "\n",
        "population_density = image.select('population_density')\n",
        "# Sample at the feature's location\n",
        "vegetation_value = vegetation.reduceRegion(\n",
        "    reducer=ee.Reducer.first(),\n",
        "    geometry=feature.geometry(),\n",
        "    scale=10000\n",
        ").get('EVI').getInfo()\n",
        "\n",
        "print(vegetation_value)"
      ],
      "metadata": {
        "colab": {
          "base_uri": "https://localhost:8080/",
          "height": 651
        },
        "id": "8ycujWo6wH02",
        "outputId": "12291286-f7e1-4cb8-9462-e65b66493ed0"
      },
      "execution_count": null,
      "outputs": [
        {
          "output_type": "stream",
          "name": "stdout",
          "text": [
            "FOD_ID                                1\n",
            "FIRE_NAME                      FOUNTAIN\n",
            "FIRE_SIZE                           0.1\n",
            "FIRE_SIZE_CLASS                       A\n",
            "FIRE_YEAR                          2005\n",
            "DISCOVERY_DATE                2453403.5\n",
            "STAT_CAUSE_DESCR          Miscellaneous\n",
            "STATE                                CA\n",
            "LATITUDE                      40.036944\n",
            "LONGITUDE                   -121.005833\n",
            "date                2005-02-02 00:00:00\n",
            "Name: 0, dtype: object\n",
            "2005-02-02 00:00:00\n"
          ]
        },
        {
          "output_type": "error",
          "ename": "EEException",
          "evalue": "Image.select: Parameter 'input' is required and may not be null.",
          "traceback": [
            "\u001b[0;31m---------------------------------------------------------------------------\u001b[0m",
            "\u001b[0;31mHttpError\u001b[0m                                 Traceback (most recent call last)",
            "\u001b[0;32m/usr/local/lib/python3.11/dist-packages/ee/data.py\u001b[0m in \u001b[0;36m_execute_cloud_call\u001b[0;34m(call, num_retries)\u001b[0m\n\u001b[1;32m    407\u001b[0m   \u001b[0;32mtry\u001b[0m\u001b[0;34m:\u001b[0m\u001b[0;34m\u001b[0m\u001b[0;34m\u001b[0m\u001b[0m\n\u001b[0;32m--> 408\u001b[0;31m     \u001b[0;32mreturn\u001b[0m \u001b[0mcall\u001b[0m\u001b[0;34m.\u001b[0m\u001b[0mexecute\u001b[0m\u001b[0;34m(\u001b[0m\u001b[0mnum_retries\u001b[0m\u001b[0;34m=\u001b[0m\u001b[0mnum_retries\u001b[0m\u001b[0;34m)\u001b[0m\u001b[0;34m\u001b[0m\u001b[0;34m\u001b[0m\u001b[0m\n\u001b[0m\u001b[1;32m    409\u001b[0m   \u001b[0;32mexcept\u001b[0m \u001b[0mgoogleapiclient\u001b[0m\u001b[0;34m.\u001b[0m\u001b[0merrors\u001b[0m\u001b[0;34m.\u001b[0m\u001b[0mHttpError\u001b[0m \u001b[0;32mas\u001b[0m \u001b[0me\u001b[0m\u001b[0;34m:\u001b[0m\u001b[0;34m\u001b[0m\u001b[0;34m\u001b[0m\u001b[0m\n",
            "\u001b[0;32m/usr/local/lib/python3.11/dist-packages/googleapiclient/_helpers.py\u001b[0m in \u001b[0;36mpositional_wrapper\u001b[0;34m(*args, **kwargs)\u001b[0m\n\u001b[1;32m    129\u001b[0m                     \u001b[0mlogger\u001b[0m\u001b[0;34m.\u001b[0m\u001b[0mwarning\u001b[0m\u001b[0;34m(\u001b[0m\u001b[0mmessage\u001b[0m\u001b[0;34m)\u001b[0m\u001b[0;34m\u001b[0m\u001b[0;34m\u001b[0m\u001b[0m\n\u001b[0;32m--> 130\u001b[0;31m             \u001b[0;32mreturn\u001b[0m \u001b[0mwrapped\u001b[0m\u001b[0;34m(\u001b[0m\u001b[0;34m*\u001b[0m\u001b[0margs\u001b[0m\u001b[0;34m,\u001b[0m \u001b[0;34m**\u001b[0m\u001b[0mkwargs\u001b[0m\u001b[0;34m)\u001b[0m\u001b[0;34m\u001b[0m\u001b[0;34m\u001b[0m\u001b[0m\n\u001b[0m\u001b[1;32m    131\u001b[0m \u001b[0;34m\u001b[0m\u001b[0m\n",
            "\u001b[0;32m/usr/local/lib/python3.11/dist-packages/googleapiclient/http.py\u001b[0m in \u001b[0;36mexecute\u001b[0;34m(self, http, num_retries)\u001b[0m\n\u001b[1;32m    937\u001b[0m         \u001b[0;32mif\u001b[0m \u001b[0mresp\u001b[0m\u001b[0;34m.\u001b[0m\u001b[0mstatus\u001b[0m \u001b[0;34m>=\u001b[0m \u001b[0;36m300\u001b[0m\u001b[0;34m:\u001b[0m\u001b[0;34m\u001b[0m\u001b[0;34m\u001b[0m\u001b[0m\n\u001b[0;32m--> 938\u001b[0;31m             \u001b[0;32mraise\u001b[0m \u001b[0mHttpError\u001b[0m\u001b[0;34m(\u001b[0m\u001b[0mresp\u001b[0m\u001b[0;34m,\u001b[0m \u001b[0mcontent\u001b[0m\u001b[0;34m,\u001b[0m \u001b[0muri\u001b[0m\u001b[0;34m=\u001b[0m\u001b[0mself\u001b[0m\u001b[0;34m.\u001b[0m\u001b[0muri\u001b[0m\u001b[0;34m)\u001b[0m\u001b[0;34m\u001b[0m\u001b[0;34m\u001b[0m\u001b[0m\n\u001b[0m\u001b[1;32m    939\u001b[0m         \u001b[0;32mreturn\u001b[0m \u001b[0mself\u001b[0m\u001b[0;34m.\u001b[0m\u001b[0mpostproc\u001b[0m\u001b[0;34m(\u001b[0m\u001b[0mresp\u001b[0m\u001b[0;34m,\u001b[0m \u001b[0mcontent\u001b[0m\u001b[0;34m)\u001b[0m\u001b[0;34m\u001b[0m\u001b[0;34m\u001b[0m\u001b[0m\n",
            "\u001b[0;31mHttpError\u001b[0m: <HttpError 400 when requesting https://earthengine.googleapis.com/v1/projects/cvproject-421022/value:compute?prettyPrint=false&alt=json returned \"Image.select: Parameter 'input' is required and may not be null.\". Details: \"Image.select: Parameter 'input' is required and may not be null.\">",
            "\nDuring handling of the above exception, another exception occurred:\n",
            "\u001b[0;31mEEException\u001b[0m                               Traceback (most recent call last)",
            "\u001b[0;32m<ipython-input-84-eaaa83718660>\u001b[0m in \u001b[0;36m<cell line: 0>\u001b[0;34m()\u001b[0m\n\u001b[1;32m     23\u001b[0m     \u001b[0mgeometry\u001b[0m\u001b[0;34m=\u001b[0m\u001b[0mfeature\u001b[0m\u001b[0;34m.\u001b[0m\u001b[0mgeometry\u001b[0m\u001b[0;34m(\u001b[0m\u001b[0;34m)\u001b[0m\u001b[0;34m,\u001b[0m\u001b[0;34m\u001b[0m\u001b[0;34m\u001b[0m\u001b[0m\n\u001b[1;32m     24\u001b[0m     \u001b[0mscale\u001b[0m\u001b[0;34m=\u001b[0m\u001b[0;36m10000\u001b[0m\u001b[0;34m\u001b[0m\u001b[0;34m\u001b[0m\u001b[0m\n\u001b[0;32m---> 25\u001b[0;31m ).get('EVI').getInfo()\n\u001b[0m\u001b[1;32m     26\u001b[0m \u001b[0;34m\u001b[0m\u001b[0m\n\u001b[1;32m     27\u001b[0m \u001b[0mprint\u001b[0m\u001b[0;34m(\u001b[0m\u001b[0mvegetation_value\u001b[0m\u001b[0;34m)\u001b[0m\u001b[0;34m\u001b[0m\u001b[0;34m\u001b[0m\u001b[0m\n",
            "\u001b[0;32m/usr/local/lib/python3.11/dist-packages/ee/computedobject.py\u001b[0m in \u001b[0;36mgetInfo\u001b[0;34m(self)\u001b[0m\n\u001b[1;32m    105\u001b[0m       \u001b[0mThe\u001b[0m \u001b[0mobject\u001b[0m \u001b[0mcan\u001b[0m \u001b[0mevaluate\u001b[0m \u001b[0mto\u001b[0m \u001b[0manything\u001b[0m\u001b[0;34m.\u001b[0m\u001b[0;34m\u001b[0m\u001b[0;34m\u001b[0m\u001b[0m\n\u001b[1;32m    106\u001b[0m     \"\"\"\n\u001b[0;32m--> 107\u001b[0;31m     \u001b[0;32mreturn\u001b[0m \u001b[0mdata\u001b[0m\u001b[0;34m.\u001b[0m\u001b[0mcomputeValue\u001b[0m\u001b[0;34m(\u001b[0m\u001b[0mself\u001b[0m\u001b[0;34m)\u001b[0m\u001b[0;34m\u001b[0m\u001b[0;34m\u001b[0m\u001b[0m\n\u001b[0m\u001b[1;32m    108\u001b[0m \u001b[0;34m\u001b[0m\u001b[0m\n\u001b[1;32m    109\u001b[0m   \u001b[0;32mdef\u001b[0m \u001b[0mencode\u001b[0m\u001b[0;34m(\u001b[0m\u001b[0mself\u001b[0m\u001b[0;34m,\u001b[0m \u001b[0mencoder\u001b[0m\u001b[0;34m:\u001b[0m \u001b[0mOptional\u001b[0m\u001b[0;34m[\u001b[0m\u001b[0mCallable\u001b[0m\u001b[0;34m[\u001b[0m\u001b[0;34m...\u001b[0m\u001b[0;34m,\u001b[0m \u001b[0mAny\u001b[0m\u001b[0;34m]\u001b[0m\u001b[0;34m]\u001b[0m\u001b[0;34m)\u001b[0m \u001b[0;34m->\u001b[0m \u001b[0mDict\u001b[0m\u001b[0;34m[\u001b[0m\u001b[0mstr\u001b[0m\u001b[0;34m,\u001b[0m \u001b[0mAny\u001b[0m\u001b[0;34m]\u001b[0m\u001b[0;34m:\u001b[0m\u001b[0;34m\u001b[0m\u001b[0;34m\u001b[0m\u001b[0m\n",
            "\u001b[0;32m/usr/local/lib/python3.11/dist-packages/ee/data.py\u001b[0m in \u001b[0;36mcomputeValue\u001b[0;34m(obj)\u001b[0m\n\u001b[1;32m   1126\u001b[0m   \u001b[0m_maybe_populate_workload_tag\u001b[0m\u001b[0;34m(\u001b[0m\u001b[0mbody\u001b[0m\u001b[0;34m)\u001b[0m\u001b[0;34m\u001b[0m\u001b[0;34m\u001b[0m\u001b[0m\n\u001b[1;32m   1127\u001b[0m \u001b[0;34m\u001b[0m\u001b[0m\n\u001b[0;32m-> 1128\u001b[0;31m   return _execute_cloud_call(\n\u001b[0m\u001b[1;32m   1129\u001b[0m       \u001b[0m_get_cloud_projects\u001b[0m\u001b[0;34m(\u001b[0m\u001b[0;34m)\u001b[0m\u001b[0;34m\u001b[0m\u001b[0;34m\u001b[0m\u001b[0m\n\u001b[1;32m   1130\u001b[0m       \u001b[0;34m.\u001b[0m\u001b[0mvalue\u001b[0m\u001b[0;34m(\u001b[0m\u001b[0;34m)\u001b[0m\u001b[0;34m\u001b[0m\u001b[0;34m\u001b[0m\u001b[0m\n",
            "\u001b[0;32m/usr/local/lib/python3.11/dist-packages/ee/data.py\u001b[0m in \u001b[0;36m_execute_cloud_call\u001b[0;34m(call, num_retries)\u001b[0m\n\u001b[1;32m    408\u001b[0m     \u001b[0;32mreturn\u001b[0m \u001b[0mcall\u001b[0m\u001b[0;34m.\u001b[0m\u001b[0mexecute\u001b[0m\u001b[0;34m(\u001b[0m\u001b[0mnum_retries\u001b[0m\u001b[0;34m=\u001b[0m\u001b[0mnum_retries\u001b[0m\u001b[0;34m)\u001b[0m\u001b[0;34m\u001b[0m\u001b[0;34m\u001b[0m\u001b[0m\n\u001b[1;32m    409\u001b[0m   \u001b[0;32mexcept\u001b[0m \u001b[0mgoogleapiclient\u001b[0m\u001b[0;34m.\u001b[0m\u001b[0merrors\u001b[0m\u001b[0;34m.\u001b[0m\u001b[0mHttpError\u001b[0m \u001b[0;32mas\u001b[0m \u001b[0me\u001b[0m\u001b[0;34m:\u001b[0m\u001b[0;34m\u001b[0m\u001b[0;34m\u001b[0m\u001b[0m\n\u001b[0;32m--> 410\u001b[0;31m     \u001b[0;32mraise\u001b[0m \u001b[0m_translate_cloud_exception\u001b[0m\u001b[0;34m(\u001b[0m\u001b[0me\u001b[0m\u001b[0;34m)\u001b[0m  \u001b[0;31m# pylint: disable=raise-missing-from\u001b[0m\u001b[0;34m\u001b[0m\u001b[0;34m\u001b[0m\u001b[0m\n\u001b[0m\u001b[1;32m    411\u001b[0m \u001b[0;34m\u001b[0m\u001b[0m\n\u001b[1;32m    412\u001b[0m \u001b[0;34m\u001b[0m\u001b[0m\n",
            "\u001b[0;31mEEException\u001b[0m: Image.select: Parameter 'input' is required and may not be null."
          ]
        }
      ]
    },
    {
      "cell_type": "code",
      "source": [
        "veg = ee.ImageCollection('NASA/VIIRS/002/VNP13A1')\n",
        "\n",
        "\n",
        "row = ca_fires.iloc[0]\n",
        "print(row)\n",
        "print(julian_to_datetime(row['DISCOVERY_DATE']))\n",
        "idx = 1\n",
        "point = ee.Geometry.Point([row['LONGITUDE'], row['LATITUDE']])\n",
        "feature = ee.Feature(point, {\n",
        "            'id': str(idx),\n",
        "            'date': julian_to_datetime(row['DISCOVERY_DATE']),\n",
        "            \"year\": 5 * round(julian_to_datetime(row['DISCOVERY_DATE']).year/5)\n",
        "        })\n",
        "\n",
        "date = ee.Date(feature.get('date'))\n",
        "image = veg.filterDate(date, date.advance(1, 'month')).first()# print(image)\n",
        "vegetation = image.select('EVI')\n",
        "\n",
        "population_density = image.select('population_density')\n",
        "# Sample at the feature's location\n",
        "vegetation_value = vegetation.reduceRegion(\n",
        "    reducer=ee.Reducer.first(),\n",
        "    geometry=feature.geometry(),\n",
        "    scale=10000\n",
        ").get('EVI').getInfo()\n",
        "\n",
        "print(vegetation_value)\n",
        "\n",
        "\n",
        "def sample_drought(feature):\n",
        "\n",
        "    date = ee.Date(feature.get('date'))\n",
        "    image = veg.filterDate(date, date.advance(1, 'week')).first()\n",
        "\n",
        "    drought = image.select('pdsi')\n",
        "\n",
        "    # Sample at the feature's location\n",
        "    drought_value = drought.reduceRegion(\n",
        "        reducer=ee.Reducer.first(),\n",
        "        geometry=feature.geometry(),\n",
        "        scale=10000\n",
        "    ).get('pdsi')\n",
        "\n",
        "\n",
        "    return feature.set({\n",
        "        'drought': drought_value,\n",
        "    })"
      ],
      "metadata": {
        "id": "KzhTtIHgyuyI"
      },
      "execution_count": null,
      "outputs": []
    },
    {
      "cell_type": "markdown",
      "source": [
        "## batch processing"
      ],
      "metadata": {
        "id": "pPmA-w4vYY7z"
      }
    },
    {
      "cell_type": "code",
      "source": [
        "tqdm.pandas()\n",
        "\n",
        "def df_to_fc(df):\n",
        "    features = []\n",
        "    for idx, row in tqdm(df.iterrows()):\n",
        "        point = ee.Geometry.Point([row['LONGITUDE'], row['LATITUDE']])\n",
        "        feature = ee.Feature(point, {\n",
        "            'id': row['FOD_ID'],\n",
        "            'date': julian_to_datetime(row['DISCOVERY_DATE']),\n",
        "            \"year\": max(5 * round(julian_to_datetime(row['DISCOVERY_DATE']).year/5), 2000)\n",
        "        })\n",
        "        features.append(feature)\n",
        "    return ee.FeatureCollection(features)\n"
      ],
      "metadata": {
        "id": "kP_uVQWpnKca"
      },
      "execution_count": 11,
      "outputs": []
    },
    {
      "cell_type": "markdown",
      "source": [
        "### gridmet weather data\n"
      ],
      "metadata": {
        "id": "w09wnI6PkYzR"
      }
    },
    {
      "cell_type": "code",
      "source": [
        "gridmet = ee.ImageCollection('IDAHO_EPSCOR/GRIDMET')\n",
        "\n",
        "def sample_weather(feature):\n",
        "    date = ee.Date(feature.get('date'))\n",
        "    image = gridmet.filterDate(date, date.advance(1, 'day')).first()\n",
        "\n",
        "    max_temp = image.select('tmmx')\n",
        "    min_temp = image.select('tmmn')\n",
        "    humidity = image.select('sph')\n",
        "    wind_speed = image.select('vs')\n",
        "    precipitation = image.select('pr')\n",
        "    energy_release = image.select('erc')\n",
        "    dead_fuel_100 = image.select('fm100')\n",
        "    dead_fuel_1000 = image.select('fm1000')\n",
        "\n",
        "    # Sample at the feature's location\n",
        "    max_temp_value = max_temp.reduceRegion(\n",
        "        reducer=ee.Reducer.mean(),\n",
        "        geometry=feature.geometry(),\n",
        "        scale=10000\n",
        "    ).get('tmmx')\n",
        "\n",
        "    min_temp_value = min_temp.reduceRegion(\n",
        "        reducer=ee.Reducer.mean(),\n",
        "        geometry=feature.geometry(),\n",
        "        scale=10000\n",
        "    ).get('tmmn')\n",
        "\n",
        "    humidity_value = humidity.reduceRegion(\n",
        "        reducer=ee.Reducer.mean(),\n",
        "        geometry=feature.geometry(),\n",
        "        scale=10000\n",
        "    ).get('sph')\n",
        "\n",
        "    wind_speed_value = wind_speed.reduceRegion(\n",
        "        reducer=ee.Reducer.mean(),\n",
        "        geometry=feature.geometry(),\n",
        "        scale=10000\n",
        "    ).get('vs')\n",
        "\n",
        "    precipitation_value = precipitation.reduceRegion(\n",
        "        reducer=ee.Reducer.mean(),\n",
        "        geometry=feature.geometry(),\n",
        "        scale=10000\n",
        "    ).get('pr')\n",
        "\n",
        "    energy_release_value = energy_release.reduceRegion(\n",
        "        reducer=ee.Reducer.mean(),\n",
        "        geometry=feature.geometry(),\n",
        "        scale=10000\n",
        "    ).get('erc')\n",
        "\n",
        "    dead_fuel_100_value = dead_fuel_100.reduceRegion(\n",
        "        reducer=ee.Reducer.mean(),\n",
        "        geometry=feature.geometry(),\n",
        "        scale=10000\n",
        "    ).get('fm100')\n",
        "\n",
        "    dead_fuel_1000_value = dead_fuel_1000.reduceRegion(\n",
        "        reducer=ee.Reducer.mean(),\n",
        "        geometry=feature.geometry(),\n",
        "        scale=10000\n",
        "    ).get('fm1000')\n",
        "\n",
        "\n",
        "\n",
        "    return feature.set({\n",
        "        'max_temp_K': max_temp_value,\n",
        "        'min_temp_K': min_temp_value,\n",
        "        'humidity': humidity_value,\n",
        "        'wind_speed' : wind_speed_value,\n",
        "        'precipitation' : precipitation_value,\n",
        "        'energy_release' : energy_release_value,\n",
        "        'dead_fuel_100' : dead_fuel_100_value,\n",
        "        'dead_fuel_1000' : dead_fuel_1000_value\n",
        "    })\n",
        "\n"
      ],
      "metadata": {
        "id": "NTUieWbnWpMD"
      },
      "execution_count": 14,
      "outputs": []
    },
    {
      "cell_type": "code",
      "source": [
        "chunk_size = 20000\n",
        "chunks = np.array_split(ca_fires, np.ceil(len(ca_fires) / chunk_size))\n",
        "\n",
        "\n",
        "\n",
        "for idx, chunk in enumerate(chunks):\n",
        "    print(f'Processing chunk {idx+1}/{len(chunks)}...')\n",
        "\n",
        "    # Convert this chunk into a FeatureCollection\n",
        "    fc_chunk = df_to_fc(chunk)\n",
        "\n",
        "    # Sample weather\n",
        "    sampled_chunk = fc_chunk.map(sample_weather)\n",
        "\n",
        "    # Export this chunk\n",
        "    task = ee.batch.Export.table.toDrive(\n",
        "        collection=sampled_chunk,\n",
        "        description=f'export_weather_points_batch_{idx}',\n",
        "        fileFormat='CSV',\n",
        "        folder='earthengine_try3',\n",
        "        fileNamePrefix=f'weather_points_batch_{idx}'\n",
        "    )\n",
        "    task.start()"
      ],
      "metadata": {
        "colab": {
          "base_uri": "https://localhost:8080/"
        },
        "id": "VP0zr4TRWaKF",
        "outputId": "d8aa9939-d502-4c9a-f6d7-59949eb65057"
      },
      "execution_count": 16,
      "outputs": [
        {
          "output_type": "stream",
          "name": "stderr",
          "text": [
            "/usr/local/lib/python3.11/dist-packages/numpy/_core/fromnumeric.py:57: FutureWarning: 'DataFrame.swapaxes' is deprecated and will be removed in a future version. Please use 'DataFrame.transpose' instead.\n",
            "  return bound(*args, **kwds)\n"
          ]
        },
        {
          "output_type": "stream",
          "name": "stdout",
          "text": [
            "Processing chunk 1/10...\n"
          ]
        },
        {
          "output_type": "stream",
          "name": "stderr",
          "text": [
            "18955it [00:02, 6877.56it/s]\n"
          ]
        },
        {
          "output_type": "stream",
          "name": "stdout",
          "text": [
            "Processing chunk 2/10...\n"
          ]
        },
        {
          "output_type": "stream",
          "name": "stderr",
          "text": [
            "18955it [00:02, 9311.33it/s]\n"
          ]
        },
        {
          "output_type": "stream",
          "name": "stdout",
          "text": [
            "Processing chunk 3/10...\n"
          ]
        },
        {
          "output_type": "stream",
          "name": "stderr",
          "text": [
            "18955it [00:02, 8744.18it/s]\n"
          ]
        },
        {
          "output_type": "stream",
          "name": "stdout",
          "text": [
            "Processing chunk 4/10...\n"
          ]
        },
        {
          "output_type": "stream",
          "name": "stderr",
          "text": [
            "18955it [00:02, 7917.06it/s]\n"
          ]
        },
        {
          "output_type": "stream",
          "name": "stdout",
          "text": [
            "Processing chunk 5/10...\n"
          ]
        },
        {
          "output_type": "stream",
          "name": "stderr",
          "text": [
            "18955it [00:02, 7703.57it/s]\n"
          ]
        },
        {
          "output_type": "stream",
          "name": "stdout",
          "text": [
            "Processing chunk 6/10...\n"
          ]
        },
        {
          "output_type": "stream",
          "name": "stderr",
          "text": [
            "18955it [00:03, 6226.72it/s]\n"
          ]
        },
        {
          "output_type": "stream",
          "name": "stdout",
          "text": [
            "Processing chunk 7/10...\n"
          ]
        },
        {
          "output_type": "stream",
          "name": "stderr",
          "text": [
            "18955it [00:02, 9351.51it/s]\n"
          ]
        },
        {
          "output_type": "stream",
          "name": "stdout",
          "text": [
            "Processing chunk 8/10...\n"
          ]
        },
        {
          "output_type": "stream",
          "name": "stderr",
          "text": [
            "18955it [00:03, 5026.13it/s]\n"
          ]
        },
        {
          "output_type": "stream",
          "name": "stdout",
          "text": [
            "Processing chunk 9/10...\n"
          ]
        },
        {
          "output_type": "stream",
          "name": "stderr",
          "text": [
            "18955it [00:02, 9177.66it/s]\n"
          ]
        },
        {
          "output_type": "stream",
          "name": "stdout",
          "text": [
            "Processing chunk 10/10...\n"
          ]
        },
        {
          "output_type": "stream",
          "name": "stderr",
          "text": [
            "18955it [00:02, 9186.30it/s]\n"
          ]
        }
      ]
    },
    {
      "cell_type": "markdown",
      "source": [
        "### population gpwv4 data"
      ],
      "metadata": {
        "id": "Fw5cQ_3Skh_s"
      }
    },
    {
      "cell_type": "code",
      "source": [
        "pop = ee.ImageCollection('CIESIN/GPWv411/GPW_Population_Density')\n",
        "\n",
        "def sample_population(feature):\n",
        "\n",
        "    year = feature.get('year')\n",
        "    date = ee.Date.fromYMD(year, 1, 1)\n",
        "    image = pop.filterDate(date, date.advance(1, 'year')).first()\n",
        "\n",
        "    population_density = image.select('population_density')\n",
        "\n",
        "    # Sample at the feature's location\n",
        "    population_density_value = population_density.reduceRegion(\n",
        "        reducer=ee.Reducer.mean(),\n",
        "        geometry=feature.geometry(),\n",
        "        scale=10000\n",
        "    ).get('population_density')\n",
        "\n",
        "\n",
        "    return feature.set({\n",
        "        'population_density': population_density_value,\n",
        "    })\n",
        "\n"
      ],
      "metadata": {
        "id": "eXFwrbn1kiQ5"
      },
      "execution_count": 17,
      "outputs": []
    },
    {
      "cell_type": "code",
      "source": [
        "chunk_size = 20000\n",
        "chunks = np.array_split(ca_2000_fires, np.ceil(len(ca_2000_fires) / chunk_size))\n",
        "\n",
        "for idx, chunk in enumerate(chunks):\n",
        "    print(f'Processing chunk {idx+1}/{len(chunks)}...')\n",
        "\n",
        "    # Convert this chunk into a FeatureCollection\n",
        "    fc_chunk = df_to_fc(chunk)\n",
        "\n",
        "    # Sample weather\n",
        "    sampled_chunk = fc_chunk.map(sample_population)\n",
        "\n",
        "    # Export this chunk\n",
        "    task = ee.batch.Export.table.toDrive(\n",
        "        collection=sampled_chunk,\n",
        "        description=f'export_population_points_batch_{idx}',\n",
        "        fileFormat='CSV',\n",
        "        folder='earthengine_try3',\n",
        "        fileNamePrefix=f'population_points_batch_{idx}'\n",
        "    )\n",
        "    task.start()"
      ],
      "metadata": {
        "colab": {
          "base_uri": "https://localhost:8080/"
        },
        "id": "Orv--99llClv",
        "outputId": "31e8751a-ed91-42f9-e1ea-944b87f349a2"
      },
      "execution_count": 20,
      "outputs": [
        {
          "output_type": "stream",
          "name": "stderr",
          "text": [
            "/usr/local/lib/python3.11/dist-packages/numpy/_core/fromnumeric.py:57: FutureWarning: 'DataFrame.swapaxes' is deprecated and will be removed in a future version. Please use 'DataFrame.transpose' instead.\n",
            "  return bound(*args, **kwds)\n"
          ]
        },
        {
          "output_type": "stream",
          "name": "stdout",
          "text": [
            "Processing chunk 1/7...\n"
          ]
        },
        {
          "output_type": "stream",
          "name": "stderr",
          "text": [
            "17333it [00:02, 6651.33it/s]\n"
          ]
        },
        {
          "output_type": "stream",
          "name": "stdout",
          "text": [
            "Processing chunk 2/7...\n"
          ]
        },
        {
          "output_type": "stream",
          "name": "stderr",
          "text": [
            "17333it [00:02, 5865.21it/s]\n"
          ]
        },
        {
          "output_type": "stream",
          "name": "stdout",
          "text": [
            "Processing chunk 3/7...\n"
          ]
        },
        {
          "output_type": "stream",
          "name": "stderr",
          "text": [
            "17333it [00:03, 4828.52it/s]\n"
          ]
        },
        {
          "output_type": "stream",
          "name": "stdout",
          "text": [
            "Processing chunk 4/7...\n"
          ]
        },
        {
          "output_type": "stream",
          "name": "stderr",
          "text": [
            "17333it [00:01, 9283.36it/s]\n"
          ]
        },
        {
          "output_type": "stream",
          "name": "stdout",
          "text": [
            "Processing chunk 5/7...\n"
          ]
        },
        {
          "output_type": "stream",
          "name": "stderr",
          "text": [
            "17332it [00:02, 6968.06it/s]\n"
          ]
        },
        {
          "output_type": "stream",
          "name": "stdout",
          "text": [
            "Processing chunk 6/7...\n"
          ]
        },
        {
          "output_type": "stream",
          "name": "stderr",
          "text": [
            "17332it [00:01, 9108.52it/s]\n"
          ]
        },
        {
          "output_type": "stream",
          "name": "stdout",
          "text": [
            "Processing chunk 7/7...\n"
          ]
        },
        {
          "output_type": "stream",
          "name": "stderr",
          "text": [
            "17332it [00:02, 5970.87it/s]\n"
          ]
        }
      ]
    },
    {
      "cell_type": "markdown",
      "source": [
        "### vegetation modi3"
      ],
      "metadata": {
        "id": "8Ae1vzQ6u40x"
      }
    },
    {
      "cell_type": "code",
      "source": [
        "veg = ee.ImageCollection('MODIS/061/MOD13A2')\n",
        "\n",
        "def sample_vegetation(feature):\n",
        "\n",
        "    date = ee.Date(feature.get('date'))\n",
        "    image = veg.filterDate(date, date.advance(1, 'month')).first()\n",
        "\n",
        "    vegetation = image.select('EVI')\n",
        "\n",
        "    # Sample at the feature's location\n",
        "    vegetation_value = vegetation.reduceRegion(\n",
        "        reducer=ee.Reducer.mean(),\n",
        "        geometry=feature.geometry(),\n",
        "        scale=10000\n",
        "    ).get('EVI')\n",
        "\n",
        "\n",
        "    return feature.set({\n",
        "        'vegetation': vegetation_value,\n",
        "    })\n",
        "\n"
      ],
      "metadata": {
        "id": "2Smby-f6u4R_"
      },
      "execution_count": 21,
      "outputs": []
    },
    {
      "cell_type": "code",
      "source": [
        "chunk_size = 20000\n",
        "chunks = np.array_split(ca_2000_fires, np.ceil(len(ca_2000_fires) / chunk_size))\n",
        "\n",
        "for idx, chunk in enumerate(chunks):\n",
        "    print(f'Processing chunk {idx+1}/{len(chunks)}...')\n",
        "\n",
        "    # Convert this chunk into a FeatureCollection\n",
        "    fc_chunk = df_to_fc(chunk)\n",
        "\n",
        "    # Sample weather\n",
        "    sampled_chunk = fc_chunk.map(sample_vegetation)\n",
        "\n",
        "    # Export this chunk\n",
        "    task = ee.batch.Export.table.toDrive(\n",
        "        collection=sampled_chunk,\n",
        "        description=f'export_vegetation_points_batch_{idx}',\n",
        "        fileFormat='CSV',\n",
        "        folder='earthengine_try3',\n",
        "        fileNamePrefix=f'vegetation_points_batch_{idx}'\n",
        "    )\n",
        "    task.start()"
      ],
      "metadata": {
        "colab": {
          "base_uri": "https://localhost:8080/"
        },
        "id": "iKO-bpsSvBJf",
        "outputId": "5ce9edab-adcc-4f62-8831-261546cd9318"
      },
      "execution_count": 22,
      "outputs": [
        {
          "output_type": "stream",
          "name": "stderr",
          "text": [
            "/usr/local/lib/python3.11/dist-packages/numpy/_core/fromnumeric.py:57: FutureWarning: 'DataFrame.swapaxes' is deprecated and will be removed in a future version. Please use 'DataFrame.transpose' instead.\n",
            "  return bound(*args, **kwds)\n"
          ]
        },
        {
          "output_type": "stream",
          "name": "stdout",
          "text": [
            "Processing chunk 1/7...\n"
          ]
        },
        {
          "output_type": "stream",
          "name": "stderr",
          "text": [
            "17333it [00:01, 9191.79it/s]\n"
          ]
        },
        {
          "output_type": "stream",
          "name": "stdout",
          "text": [
            "Processing chunk 2/7...\n"
          ]
        },
        {
          "output_type": "stream",
          "name": "stderr",
          "text": [
            "17333it [00:03, 5204.81it/s]\n"
          ]
        },
        {
          "output_type": "stream",
          "name": "stdout",
          "text": [
            "Processing chunk 3/7...\n"
          ]
        },
        {
          "output_type": "stream",
          "name": "stderr",
          "text": [
            "17333it [00:01, 9218.72it/s]\n"
          ]
        },
        {
          "output_type": "stream",
          "name": "stdout",
          "text": [
            "Processing chunk 4/7...\n"
          ]
        },
        {
          "output_type": "stream",
          "name": "stderr",
          "text": [
            "17333it [00:01, 9078.21it/s]\n"
          ]
        },
        {
          "output_type": "stream",
          "name": "stdout",
          "text": [
            "Processing chunk 5/7...\n"
          ]
        },
        {
          "output_type": "stream",
          "name": "stderr",
          "text": [
            "17332it [00:02, 7682.86it/s]\n"
          ]
        },
        {
          "output_type": "stream",
          "name": "stdout",
          "text": [
            "Processing chunk 6/7...\n"
          ]
        },
        {
          "output_type": "stream",
          "name": "stderr",
          "text": [
            "17332it [00:02, 6036.82it/s]\n"
          ]
        },
        {
          "output_type": "stream",
          "name": "stdout",
          "text": [
            "Processing chunk 7/7...\n"
          ]
        },
        {
          "output_type": "stream",
          "name": "stderr",
          "text": [
            "17332it [00:01, 9065.61it/s]\n"
          ]
        }
      ]
    },
    {
      "cell_type": "markdown",
      "source": [
        "### drought gridmet drought"
      ],
      "metadata": {
        "id": "mfWHCLtoxy-x"
      }
    },
    {
      "cell_type": "code",
      "source": [
        "drought = ee.ImageCollection('GRIDMET/DROUGHT')\n",
        "\n",
        "def sample_drought(feature):\n",
        "\n",
        "    date = ee.Date(feature.get('date'))\n",
        "    image = drought.filterDate(date, date.advance(1, 'week')).first()\n",
        "\n",
        "    drought_index = image.select('pdsi')\n",
        "\n",
        "    # Sample at the feature's location\n",
        "    drought_index_value = drought_index.reduceRegion(\n",
        "        reducer=ee.Reducer.mean(),\n",
        "        geometry=feature.geometry(),\n",
        "        scale=10000\n",
        "    ).get('pdsi')\n",
        "\n",
        "\n",
        "    return feature.set({\n",
        "        'drought_index': drought_index_value,\n",
        "    })\n"
      ],
      "metadata": {
        "id": "YoD1CEIPxyXf"
      },
      "execution_count": 23,
      "outputs": []
    },
    {
      "cell_type": "code",
      "source": [
        "chunk_size = 20000\n",
        "chunks = np.array_split(ca_2000_fires, np.ceil(len(ca_2000_fires) / chunk_size))\n",
        "\n",
        "for idx, chunk in enumerate(chunks):\n",
        "    print(f'Processing chunk {idx+1}/{len(chunks)}...')\n",
        "\n",
        "    # Convert this chunk into a FeatureCollection\n",
        "    fc_chunk = df_to_fc(chunk)\n",
        "\n",
        "    # Sample weather\n",
        "    sampled_chunk = fc_chunk.map(sample_drought)\n",
        "\n",
        "    # Export this chunk\n",
        "    task = ee.batch.Export.table.toDrive(\n",
        "        collection=sampled_chunk,\n",
        "        description=f'export_drought_points_batch_{idx}',\n",
        "        fileFormat='CSV',\n",
        "        folder='earthengine_try3',\n",
        "        fileNamePrefix=f'drought_points_batch_{idx}'\n",
        "    )\n",
        "    task.start()"
      ],
      "metadata": {
        "colab": {
          "base_uri": "https://localhost:8080/"
        },
        "id": "hqfZo60iyQL2",
        "outputId": "219e5cc5-f923-4654-c374-17ca5aa88f16"
      },
      "execution_count": 24,
      "outputs": [
        {
          "output_type": "stream",
          "name": "stderr",
          "text": [
            "/usr/local/lib/python3.11/dist-packages/numpy/_core/fromnumeric.py:57: FutureWarning: 'DataFrame.swapaxes' is deprecated and will be removed in a future version. Please use 'DataFrame.transpose' instead.\n",
            "  return bound(*args, **kwds)\n"
          ]
        },
        {
          "output_type": "stream",
          "name": "stdout",
          "text": [
            "Processing chunk 1/7...\n"
          ]
        },
        {
          "output_type": "stream",
          "name": "stderr",
          "text": [
            "17333it [00:02, 6575.33it/s]\n"
          ]
        },
        {
          "output_type": "stream",
          "name": "stdout",
          "text": [
            "Processing chunk 2/7...\n"
          ]
        },
        {
          "output_type": "stream",
          "name": "stderr",
          "text": [
            "17333it [00:01, 9199.20it/s]\n"
          ]
        },
        {
          "output_type": "stream",
          "name": "stdout",
          "text": [
            "Processing chunk 3/7...\n"
          ]
        },
        {
          "output_type": "stream",
          "name": "stderr",
          "text": [
            "17333it [00:01, 9089.52it/s]\n"
          ]
        },
        {
          "output_type": "stream",
          "name": "stdout",
          "text": [
            "Processing chunk 4/7...\n"
          ]
        },
        {
          "output_type": "stream",
          "name": "stderr",
          "text": [
            "17333it [00:02, 7496.49it/s]\n"
          ]
        },
        {
          "output_type": "stream",
          "name": "stdout",
          "text": [
            "Processing chunk 5/7...\n"
          ]
        },
        {
          "output_type": "stream",
          "name": "stderr",
          "text": [
            "17332it [00:02, 6436.67it/s]\n"
          ]
        },
        {
          "output_type": "stream",
          "name": "stdout",
          "text": [
            "Processing chunk 6/7...\n"
          ]
        },
        {
          "output_type": "stream",
          "name": "stderr",
          "text": [
            "17332it [00:02, 7609.94it/s]\n"
          ]
        },
        {
          "output_type": "stream",
          "name": "stdout",
          "text": [
            "Processing chunk 7/7...\n"
          ]
        },
        {
          "output_type": "stream",
          "name": "stderr",
          "text": [
            "17332it [00:02, 7670.36it/s]\n"
          ]
        }
      ]
    },
    {
      "cell_type": "markdown",
      "source": [
        "# merge data"
      ],
      "metadata": {
        "id": "aBhIw7TadgJV"
      }
    },
    {
      "cell_type": "code",
      "source": [
        "batch_files = glob.glob('/content/drive/MyDrive/earthengine_try3/weather_points_batch_*.csv')\n",
        "\n",
        "exported_df = pd.concat((pd.read_csv(f) for f in batch_files), ignore_index=True)\n",
        "exported_df.rename(columns={'id': 'FOD_ID'}, inplace=True)\n",
        "exported_df.drop_duplicates(subset=[\"FOD_ID\"], inplace=True)\n",
        "\n",
        "# Convert from Kelvin to Celsius\n",
        "exported_df['max_temp_C'] = exported_df['max_temp_K'] - 273.15\n",
        "exported_df['min_temp_C'] = exported_df['min_temp_K'] - 273.15\n",
        "\n",
        "print(ca_fires['FOD_ID'].nunique())\n",
        "\n",
        "print(exported_df.columns.tolist())\n",
        "\n"
      ],
      "metadata": {
        "colab": {
          "base_uri": "https://localhost:8080/"
        },
        "id": "ijyPOGmbdfkk",
        "outputId": "dc704a5e-d574-4481-ab76-7d1e32f059b4"
      },
      "execution_count": 35,
      "outputs": [
        {
          "output_type": "stream",
          "name": "stdout",
          "text": [
            "189550\n",
            "['system:index', 'date', 'dead_fuel_100', 'dead_fuel_1000', 'energy_release', 'humidity', 'FOD_ID', 'max_temp_K', 'min_temp_K', 'precipitation', 'wind_speed', 'year', '.geo', 'max_temp_C', 'min_temp_C']\n"
          ]
        }
      ]
    },
    {
      "cell_type": "code",
      "source": [
        "\n",
        "merged_df = ca_2000_fires.merge(exported_df[['FOD_ID', 'dead_fuel_100', 'dead_fuel_1000', 'energy_release', 'humidity', 'max_temp_C', 'min_temp_C', 'precipitation', 'wind_speed']],\n",
        "                           on='FOD_ID', how='left')\n",
        "\n",
        "\n"
      ],
      "metadata": {
        "id": "vp6VUFEbjlDV"
      },
      "execution_count": 36,
      "outputs": []
    },
    {
      "cell_type": "code",
      "source": [
        "batch_files = glob.glob('/content/drive/MyDrive/earthengine_try3/population_points_batch_*.csv')\n",
        "\n",
        "exported_df = pd.concat((pd.read_csv(f) for f in batch_files), ignore_index=True)\n",
        "exported_df.rename(columns={'id': 'FOD_ID'}, inplace=True)\n",
        "exported_df.drop_duplicates(subset=[\"FOD_ID\"], inplace=True)\n"
      ],
      "metadata": {
        "id": "WBf5ZsyPsZon"
      },
      "execution_count": 37,
      "outputs": []
    },
    {
      "cell_type": "code",
      "source": [
        "merged_df = merged_df.merge(exported_df[['FOD_ID', 'population_density']],\n",
        "                           on='FOD_ID', how='left')"
      ],
      "metadata": {
        "id": "A97U_tiKuT6T"
      },
      "execution_count": 38,
      "outputs": []
    },
    {
      "cell_type": "code",
      "source": [
        "batch_files = glob.glob('/content/drive/MyDrive/earthengine_try3/vegetation_points_batch_*.csv')\n",
        "\n",
        "exported_df = pd.concat((pd.read_csv(f) for f in batch_files), ignore_index=True)\n",
        "exported_df.rename(columns={'id': 'FOD_ID'}, inplace=True)\n",
        "exported_df.drop_duplicates(subset=[\"FOD_ID\"], inplace=True)\n"
      ],
      "metadata": {
        "id": "2Ai_cg4fv3og"
      },
      "execution_count": 39,
      "outputs": []
    },
    {
      "cell_type": "code",
      "source": [
        "merged_df = merged_df.merge(exported_df[['FOD_ID', 'vegetation']],\n",
        "                           on='FOD_ID', how='left')"
      ],
      "metadata": {
        "id": "7AeXZSXPv44u"
      },
      "execution_count": 40,
      "outputs": []
    },
    {
      "cell_type": "code",
      "source": [
        "batch_files = glob.glob('/content/drive/MyDrive/earthengine_try3/drought_points_batch_*.csv')\n",
        "\n",
        "exported_df = pd.concat((pd.read_csv(f) for f in batch_files), ignore_index=True)\n",
        "exported_df.rename(columns={'id': 'FOD_ID'}, inplace=True)\n",
        "exported_df.drop_duplicates(subset=[\"FOD_ID\"], inplace=True)\n"
      ],
      "metadata": {
        "id": "TEZkiS7e4OnP"
      },
      "execution_count": 41,
      "outputs": []
    },
    {
      "cell_type": "code",
      "source": [
        "merged_df = merged_df.merge(exported_df[['FOD_ID', 'drought_index']],\n",
        "                           on='FOD_ID', how='left')"
      ],
      "metadata": {
        "id": "0XDIfPaI4Pwr"
      },
      "execution_count": 42,
      "outputs": []
    },
    {
      "cell_type": "code",
      "source": [
        "print(merged_df.columns.tolist())\n"
      ],
      "metadata": {
        "colab": {
          "base_uri": "https://localhost:8080/"
        },
        "id": "UUkfQ9Ic-lkL",
        "outputId": "aca4561c-e0c2-470e-b264-edf0175a659c"
      },
      "execution_count": 43,
      "outputs": [
        {
          "output_type": "stream",
          "name": "stdout",
          "text": [
            "['FOD_ID', 'FIRE_NAME', 'FIRE_SIZE', 'FIRE_SIZE_CLASS', 'FIRE_YEAR', 'DISCOVERY_DATE', 'STAT_CAUSE_DESCR', 'STATE', 'LATITUDE', 'LONGITUDE', 'date', 'dead_fuel_100', 'dead_fuel_1000', 'energy_release', 'humidity', 'max_temp_C', 'min_temp_C', 'precipitation', 'wind_speed', 'population_density', 'vegetation', 'drought_index']\n"
          ]
        }
      ]
    },
    {
      "cell_type": "code",
      "source": [
        "merged_df"
      ],
      "metadata": {
        "colab": {
          "base_uri": "https://localhost:8080/",
          "height": 461
        },
        "id": "ch_J74S8fYfQ",
        "outputId": "7e81e2f0-ce67-4390-9a65-a5709b23eaca"
      },
      "execution_count": 44,
      "outputs": [
        {
          "output_type": "execute_result",
          "data": {
            "text/plain": [
              "           FOD_ID                  FIRE_NAME  FIRE_SIZE FIRE_SIZE_CLASS  \\\n",
              "0               1                   FOUNTAIN       0.10               A   \n",
              "1               2                     PIGEON       0.25               A   \n",
              "2               3                      SLACK       0.10               A   \n",
              "3               4                       DEER       0.10               A   \n",
              "4               5                   STEVENOT       0.10               A   \n",
              "...           ...                        ...        ...             ...   \n",
              "121323  300348363                   ODESSA 2       0.01               A   \n",
              "121324  300348373                       None       0.20               A   \n",
              "121325  300348375                       None       0.10               A   \n",
              "121326  300348377                       None       2.00               B   \n",
              "121327  300348399  BARKER BL  BIG_BEAR_LAKE_       0.10               A   \n",
              "\n",
              "        FIRE_YEAR  DISCOVERY_DATE   STAT_CAUSE_DESCR STATE   LATITUDE  \\\n",
              "0            2005       2453403.5      Miscellaneous    CA  40.036944   \n",
              "1            2004       2453137.5          Lightning    CA  38.933056   \n",
              "2            2004       2453156.5     Debris Burning    CA  38.984167   \n",
              "3            2004       2453184.5          Lightning    CA  38.559167   \n",
              "4            2004       2453184.5          Lightning    CA  38.559167   \n",
              "...           ...             ...                ...   ...        ...   \n",
              "121323       2015       2457291.5  Missing/Undefined    CA  40.481637   \n",
              "121324       2015       2457300.5      Miscellaneous    CA  37.617619   \n",
              "121325       2015       2457144.5  Missing/Undefined    CA  37.617619   \n",
              "121326       2015       2457309.5  Missing/Undefined    CA  37.672235   \n",
              "121327       2015       2457095.5      Miscellaneous    CA  34.263217   \n",
              "\n",
              "         LONGITUDE  ... dead_fuel_1000  energy_release  humidity  max_temp_C  \\\n",
              "0      -121.005833  ...      21.963203       22.056320  0.002912    7.498254   \n",
              "1      -120.404444  ...      12.930136       47.595642  0.003536   15.886743   \n",
              "2      -120.735556  ...      11.582568       55.798500  0.005862   26.379541   \n",
              "3      -119.913333  ...       8.259057       76.284248  0.004474   20.343042   \n",
              "4      -119.933056  ...       8.259057       76.284248  0.004474   20.343042   \n",
              "...            ...  ...            ...             ...       ...         ...   \n",
              "121323 -122.389375  ...       8.107708       76.157257  0.006148   33.893488   \n",
              "121324 -120.938570  ...       8.788897       64.763962  0.006864   26.668207   \n",
              "121325 -120.938570  ...      10.918760       63.418705  0.006537   32.813928   \n",
              "121326 -120.898356  ...       9.216611       67.622978  0.007353   32.346643   \n",
              "121327 -116.830950  ...      12.917595       52.845024  0.003320   17.421777   \n",
              "\n",
              "        min_temp_C  precipitation  wind_speed  population_density  vegetation  \\\n",
              "0        -2.186072            0.0    6.620363            1.478607      2929.0   \n",
              "1         0.414148            0.0    3.208708            0.004660      3590.0   \n",
              "2        13.118188            0.0    2.040178            6.677308      4518.0   \n",
              "3         7.937524            0.0    2.230986            0.000000      2384.0   \n",
              "4         7.937524            0.0    2.230986            0.000000      2384.0   \n",
              "...            ...            ...         ...                 ...         ...   \n",
              "121323   16.492151            0.0    2.316175           40.920891      2216.0   \n",
              "121324   13.650201            0.0    1.466999          646.360901      2263.0   \n",
              "121325   13.751520            0.0    3.065458          646.360901      2653.0   \n",
              "121326   17.716425            0.0    3.537143         1565.474243      2068.0   \n",
              "121327    0.351434            0.0    2.437837          234.670151      1662.0   \n",
              "\n",
              "        drought_index  \n",
              "0             -0.3500  \n",
              "1             -2.2075  \n",
              "2             -2.7800  \n",
              "3             -2.6175  \n",
              "4             -2.6175  \n",
              "...               ...  \n",
              "121323        -3.3700  \n",
              "121324        -2.6900  \n",
              "121325        -3.1725  \n",
              "121326        -2.7975  \n",
              "121327        -2.3000  \n",
              "\n",
              "[121328 rows x 22 columns]"
            ],
            "text/html": [
              "\n",
              "  <div id=\"df-3eeba963-fb6f-4249-b6f5-c5c5ad509b83\" class=\"colab-df-container\">\n",
              "    <div>\n",
              "<style scoped>\n",
              "    .dataframe tbody tr th:only-of-type {\n",
              "        vertical-align: middle;\n",
              "    }\n",
              "\n",
              "    .dataframe tbody tr th {\n",
              "        vertical-align: top;\n",
              "    }\n",
              "\n",
              "    .dataframe thead th {\n",
              "        text-align: right;\n",
              "    }\n",
              "</style>\n",
              "<table border=\"1\" class=\"dataframe\">\n",
              "  <thead>\n",
              "    <tr style=\"text-align: right;\">\n",
              "      <th></th>\n",
              "      <th>FOD_ID</th>\n",
              "      <th>FIRE_NAME</th>\n",
              "      <th>FIRE_SIZE</th>\n",
              "      <th>FIRE_SIZE_CLASS</th>\n",
              "      <th>FIRE_YEAR</th>\n",
              "      <th>DISCOVERY_DATE</th>\n",
              "      <th>STAT_CAUSE_DESCR</th>\n",
              "      <th>STATE</th>\n",
              "      <th>LATITUDE</th>\n",
              "      <th>LONGITUDE</th>\n",
              "      <th>...</th>\n",
              "      <th>dead_fuel_1000</th>\n",
              "      <th>energy_release</th>\n",
              "      <th>humidity</th>\n",
              "      <th>max_temp_C</th>\n",
              "      <th>min_temp_C</th>\n",
              "      <th>precipitation</th>\n",
              "      <th>wind_speed</th>\n",
              "      <th>population_density</th>\n",
              "      <th>vegetation</th>\n",
              "      <th>drought_index</th>\n",
              "    </tr>\n",
              "  </thead>\n",
              "  <tbody>\n",
              "    <tr>\n",
              "      <th>0</th>\n",
              "      <td>1</td>\n",
              "      <td>FOUNTAIN</td>\n",
              "      <td>0.10</td>\n",
              "      <td>A</td>\n",
              "      <td>2005</td>\n",
              "      <td>2453403.5</td>\n",
              "      <td>Miscellaneous</td>\n",
              "      <td>CA</td>\n",
              "      <td>40.036944</td>\n",
              "      <td>-121.005833</td>\n",
              "      <td>...</td>\n",
              "      <td>21.963203</td>\n",
              "      <td>22.056320</td>\n",
              "      <td>0.002912</td>\n",
              "      <td>7.498254</td>\n",
              "      <td>-2.186072</td>\n",
              "      <td>0.0</td>\n",
              "      <td>6.620363</td>\n",
              "      <td>1.478607</td>\n",
              "      <td>2929.0</td>\n",
              "      <td>-0.3500</td>\n",
              "    </tr>\n",
              "    <tr>\n",
              "      <th>1</th>\n",
              "      <td>2</td>\n",
              "      <td>PIGEON</td>\n",
              "      <td>0.25</td>\n",
              "      <td>A</td>\n",
              "      <td>2004</td>\n",
              "      <td>2453137.5</td>\n",
              "      <td>Lightning</td>\n",
              "      <td>CA</td>\n",
              "      <td>38.933056</td>\n",
              "      <td>-120.404444</td>\n",
              "      <td>...</td>\n",
              "      <td>12.930136</td>\n",
              "      <td>47.595642</td>\n",
              "      <td>0.003536</td>\n",
              "      <td>15.886743</td>\n",
              "      <td>0.414148</td>\n",
              "      <td>0.0</td>\n",
              "      <td>3.208708</td>\n",
              "      <td>0.004660</td>\n",
              "      <td>3590.0</td>\n",
              "      <td>-2.2075</td>\n",
              "    </tr>\n",
              "    <tr>\n",
              "      <th>2</th>\n",
              "      <td>3</td>\n",
              "      <td>SLACK</td>\n",
              "      <td>0.10</td>\n",
              "      <td>A</td>\n",
              "      <td>2004</td>\n",
              "      <td>2453156.5</td>\n",
              "      <td>Debris Burning</td>\n",
              "      <td>CA</td>\n",
              "      <td>38.984167</td>\n",
              "      <td>-120.735556</td>\n",
              "      <td>...</td>\n",
              "      <td>11.582568</td>\n",
              "      <td>55.798500</td>\n",
              "      <td>0.005862</td>\n",
              "      <td>26.379541</td>\n",
              "      <td>13.118188</td>\n",
              "      <td>0.0</td>\n",
              "      <td>2.040178</td>\n",
              "      <td>6.677308</td>\n",
              "      <td>4518.0</td>\n",
              "      <td>-2.7800</td>\n",
              "    </tr>\n",
              "    <tr>\n",
              "      <th>3</th>\n",
              "      <td>4</td>\n",
              "      <td>DEER</td>\n",
              "      <td>0.10</td>\n",
              "      <td>A</td>\n",
              "      <td>2004</td>\n",
              "      <td>2453184.5</td>\n",
              "      <td>Lightning</td>\n",
              "      <td>CA</td>\n",
              "      <td>38.559167</td>\n",
              "      <td>-119.913333</td>\n",
              "      <td>...</td>\n",
              "      <td>8.259057</td>\n",
              "      <td>76.284248</td>\n",
              "      <td>0.004474</td>\n",
              "      <td>20.343042</td>\n",
              "      <td>7.937524</td>\n",
              "      <td>0.0</td>\n",
              "      <td>2.230986</td>\n",
              "      <td>0.000000</td>\n",
              "      <td>2384.0</td>\n",
              "      <td>-2.6175</td>\n",
              "    </tr>\n",
              "    <tr>\n",
              "      <th>4</th>\n",
              "      <td>5</td>\n",
              "      <td>STEVENOT</td>\n",
              "      <td>0.10</td>\n",
              "      <td>A</td>\n",
              "      <td>2004</td>\n",
              "      <td>2453184.5</td>\n",
              "      <td>Lightning</td>\n",
              "      <td>CA</td>\n",
              "      <td>38.559167</td>\n",
              "      <td>-119.933056</td>\n",
              "      <td>...</td>\n",
              "      <td>8.259057</td>\n",
              "      <td>76.284248</td>\n",
              "      <td>0.004474</td>\n",
              "      <td>20.343042</td>\n",
              "      <td>7.937524</td>\n",
              "      <td>0.0</td>\n",
              "      <td>2.230986</td>\n",
              "      <td>0.000000</td>\n",
              "      <td>2384.0</td>\n",
              "      <td>-2.6175</td>\n",
              "    </tr>\n",
              "    <tr>\n",
              "      <th>...</th>\n",
              "      <td>...</td>\n",
              "      <td>...</td>\n",
              "      <td>...</td>\n",
              "      <td>...</td>\n",
              "      <td>...</td>\n",
              "      <td>...</td>\n",
              "      <td>...</td>\n",
              "      <td>...</td>\n",
              "      <td>...</td>\n",
              "      <td>...</td>\n",
              "      <td>...</td>\n",
              "      <td>...</td>\n",
              "      <td>...</td>\n",
              "      <td>...</td>\n",
              "      <td>...</td>\n",
              "      <td>...</td>\n",
              "      <td>...</td>\n",
              "      <td>...</td>\n",
              "      <td>...</td>\n",
              "      <td>...</td>\n",
              "      <td>...</td>\n",
              "    </tr>\n",
              "    <tr>\n",
              "      <th>121323</th>\n",
              "      <td>300348363</td>\n",
              "      <td>ODESSA 2</td>\n",
              "      <td>0.01</td>\n",
              "      <td>A</td>\n",
              "      <td>2015</td>\n",
              "      <td>2457291.5</td>\n",
              "      <td>Missing/Undefined</td>\n",
              "      <td>CA</td>\n",
              "      <td>40.481637</td>\n",
              "      <td>-122.389375</td>\n",
              "      <td>...</td>\n",
              "      <td>8.107708</td>\n",
              "      <td>76.157257</td>\n",
              "      <td>0.006148</td>\n",
              "      <td>33.893488</td>\n",
              "      <td>16.492151</td>\n",
              "      <td>0.0</td>\n",
              "      <td>2.316175</td>\n",
              "      <td>40.920891</td>\n",
              "      <td>2216.0</td>\n",
              "      <td>-3.3700</td>\n",
              "    </tr>\n",
              "    <tr>\n",
              "      <th>121324</th>\n",
              "      <td>300348373</td>\n",
              "      <td>None</td>\n",
              "      <td>0.20</td>\n",
              "      <td>A</td>\n",
              "      <td>2015</td>\n",
              "      <td>2457300.5</td>\n",
              "      <td>Miscellaneous</td>\n",
              "      <td>CA</td>\n",
              "      <td>37.617619</td>\n",
              "      <td>-120.938570</td>\n",
              "      <td>...</td>\n",
              "      <td>8.788897</td>\n",
              "      <td>64.763962</td>\n",
              "      <td>0.006864</td>\n",
              "      <td>26.668207</td>\n",
              "      <td>13.650201</td>\n",
              "      <td>0.0</td>\n",
              "      <td>1.466999</td>\n",
              "      <td>646.360901</td>\n",
              "      <td>2263.0</td>\n",
              "      <td>-2.6900</td>\n",
              "    </tr>\n",
              "    <tr>\n",
              "      <th>121325</th>\n",
              "      <td>300348375</td>\n",
              "      <td>None</td>\n",
              "      <td>0.10</td>\n",
              "      <td>A</td>\n",
              "      <td>2015</td>\n",
              "      <td>2457144.5</td>\n",
              "      <td>Missing/Undefined</td>\n",
              "      <td>CA</td>\n",
              "      <td>37.617619</td>\n",
              "      <td>-120.938570</td>\n",
              "      <td>...</td>\n",
              "      <td>10.918760</td>\n",
              "      <td>63.418705</td>\n",
              "      <td>0.006537</td>\n",
              "      <td>32.813928</td>\n",
              "      <td>13.751520</td>\n",
              "      <td>0.0</td>\n",
              "      <td>3.065458</td>\n",
              "      <td>646.360901</td>\n",
              "      <td>2653.0</td>\n",
              "      <td>-3.1725</td>\n",
              "    </tr>\n",
              "    <tr>\n",
              "      <th>121326</th>\n",
              "      <td>300348377</td>\n",
              "      <td>None</td>\n",
              "      <td>2.00</td>\n",
              "      <td>B</td>\n",
              "      <td>2015</td>\n",
              "      <td>2457309.5</td>\n",
              "      <td>Missing/Undefined</td>\n",
              "      <td>CA</td>\n",
              "      <td>37.672235</td>\n",
              "      <td>-120.898356</td>\n",
              "      <td>...</td>\n",
              "      <td>9.216611</td>\n",
              "      <td>67.622978</td>\n",
              "      <td>0.007353</td>\n",
              "      <td>32.346643</td>\n",
              "      <td>17.716425</td>\n",
              "      <td>0.0</td>\n",
              "      <td>3.537143</td>\n",
              "      <td>1565.474243</td>\n",
              "      <td>2068.0</td>\n",
              "      <td>-2.7975</td>\n",
              "    </tr>\n",
              "    <tr>\n",
              "      <th>121327</th>\n",
              "      <td>300348399</td>\n",
              "      <td>BARKER BL  BIG_BEAR_LAKE_</td>\n",
              "      <td>0.10</td>\n",
              "      <td>A</td>\n",
              "      <td>2015</td>\n",
              "      <td>2457095.5</td>\n",
              "      <td>Miscellaneous</td>\n",
              "      <td>CA</td>\n",
              "      <td>34.263217</td>\n",
              "      <td>-116.830950</td>\n",
              "      <td>...</td>\n",
              "      <td>12.917595</td>\n",
              "      <td>52.845024</td>\n",
              "      <td>0.003320</td>\n",
              "      <td>17.421777</td>\n",
              "      <td>0.351434</td>\n",
              "      <td>0.0</td>\n",
              "      <td>2.437837</td>\n",
              "      <td>234.670151</td>\n",
              "      <td>1662.0</td>\n",
              "      <td>-2.3000</td>\n",
              "    </tr>\n",
              "  </tbody>\n",
              "</table>\n",
              "<p>121328 rows × 22 columns</p>\n",
              "</div>\n",
              "    <div class=\"colab-df-buttons\">\n",
              "\n",
              "  <div class=\"colab-df-container\">\n",
              "    <button class=\"colab-df-convert\" onclick=\"convertToInteractive('df-3eeba963-fb6f-4249-b6f5-c5c5ad509b83')\"\n",
              "            title=\"Convert this dataframe to an interactive table.\"\n",
              "            style=\"display:none;\">\n",
              "\n",
              "  <svg xmlns=\"http://www.w3.org/2000/svg\" height=\"24px\" viewBox=\"0 -960 960 960\">\n",
              "    <path d=\"M120-120v-720h720v720H120Zm60-500h600v-160H180v160Zm220 220h160v-160H400v160Zm0 220h160v-160H400v160ZM180-400h160v-160H180v160Zm440 0h160v-160H620v160ZM180-180h160v-160H180v160Zm440 0h160v-160H620v160Z\"/>\n",
              "  </svg>\n",
              "    </button>\n",
              "\n",
              "  <style>\n",
              "    .colab-df-container {\n",
              "      display:flex;\n",
              "      gap: 12px;\n",
              "    }\n",
              "\n",
              "    .colab-df-convert {\n",
              "      background-color: #E8F0FE;\n",
              "      border: none;\n",
              "      border-radius: 50%;\n",
              "      cursor: pointer;\n",
              "      display: none;\n",
              "      fill: #1967D2;\n",
              "      height: 32px;\n",
              "      padding: 0 0 0 0;\n",
              "      width: 32px;\n",
              "    }\n",
              "\n",
              "    .colab-df-convert:hover {\n",
              "      background-color: #E2EBFA;\n",
              "      box-shadow: 0px 1px 2px rgba(60, 64, 67, 0.3), 0px 1px 3px 1px rgba(60, 64, 67, 0.15);\n",
              "      fill: #174EA6;\n",
              "    }\n",
              "\n",
              "    .colab-df-buttons div {\n",
              "      margin-bottom: 4px;\n",
              "    }\n",
              "\n",
              "    [theme=dark] .colab-df-convert {\n",
              "      background-color: #3B4455;\n",
              "      fill: #D2E3FC;\n",
              "    }\n",
              "\n",
              "    [theme=dark] .colab-df-convert:hover {\n",
              "      background-color: #434B5C;\n",
              "      box-shadow: 0px 1px 3px 1px rgba(0, 0, 0, 0.15);\n",
              "      filter: drop-shadow(0px 1px 2px rgba(0, 0, 0, 0.3));\n",
              "      fill: #FFFFFF;\n",
              "    }\n",
              "  </style>\n",
              "\n",
              "    <script>\n",
              "      const buttonEl =\n",
              "        document.querySelector('#df-3eeba963-fb6f-4249-b6f5-c5c5ad509b83 button.colab-df-convert');\n",
              "      buttonEl.style.display =\n",
              "        google.colab.kernel.accessAllowed ? 'block' : 'none';\n",
              "\n",
              "      async function convertToInteractive(key) {\n",
              "        const element = document.querySelector('#df-3eeba963-fb6f-4249-b6f5-c5c5ad509b83');\n",
              "        const dataTable =\n",
              "          await google.colab.kernel.invokeFunction('convertToInteractive',\n",
              "                                                    [key], {});\n",
              "        if (!dataTable) return;\n",
              "\n",
              "        const docLinkHtml = 'Like what you see? Visit the ' +\n",
              "          '<a target=\"_blank\" href=https://colab.research.google.com/notebooks/data_table.ipynb>data table notebook</a>'\n",
              "          + ' to learn more about interactive tables.';\n",
              "        element.innerHTML = '';\n",
              "        dataTable['output_type'] = 'display_data';\n",
              "        await google.colab.output.renderOutput(dataTable, element);\n",
              "        const docLink = document.createElement('div');\n",
              "        docLink.innerHTML = docLinkHtml;\n",
              "        element.appendChild(docLink);\n",
              "      }\n",
              "    </script>\n",
              "  </div>\n",
              "\n",
              "\n",
              "    <div id=\"df-d825704c-49b8-44f3-8896-409929b4697e\">\n",
              "      <button class=\"colab-df-quickchart\" onclick=\"quickchart('df-d825704c-49b8-44f3-8896-409929b4697e')\"\n",
              "                title=\"Suggest charts\"\n",
              "                style=\"display:none;\">\n",
              "\n",
              "<svg xmlns=\"http://www.w3.org/2000/svg\" height=\"24px\"viewBox=\"0 0 24 24\"\n",
              "     width=\"24px\">\n",
              "    <g>\n",
              "        <path d=\"M19 3H5c-1.1 0-2 .9-2 2v14c0 1.1.9 2 2 2h14c1.1 0 2-.9 2-2V5c0-1.1-.9-2-2-2zM9 17H7v-7h2v7zm4 0h-2V7h2v10zm4 0h-2v-4h2v4z\"/>\n",
              "    </g>\n",
              "</svg>\n",
              "      </button>\n",
              "\n",
              "<style>\n",
              "  .colab-df-quickchart {\n",
              "      --bg-color: #E8F0FE;\n",
              "      --fill-color: #1967D2;\n",
              "      --hover-bg-color: #E2EBFA;\n",
              "      --hover-fill-color: #174EA6;\n",
              "      --disabled-fill-color: #AAA;\n",
              "      --disabled-bg-color: #DDD;\n",
              "  }\n",
              "\n",
              "  [theme=dark] .colab-df-quickchart {\n",
              "      --bg-color: #3B4455;\n",
              "      --fill-color: #D2E3FC;\n",
              "      --hover-bg-color: #434B5C;\n",
              "      --hover-fill-color: #FFFFFF;\n",
              "      --disabled-bg-color: #3B4455;\n",
              "      --disabled-fill-color: #666;\n",
              "  }\n",
              "\n",
              "  .colab-df-quickchart {\n",
              "    background-color: var(--bg-color);\n",
              "    border: none;\n",
              "    border-radius: 50%;\n",
              "    cursor: pointer;\n",
              "    display: none;\n",
              "    fill: var(--fill-color);\n",
              "    height: 32px;\n",
              "    padding: 0;\n",
              "    width: 32px;\n",
              "  }\n",
              "\n",
              "  .colab-df-quickchart:hover {\n",
              "    background-color: var(--hover-bg-color);\n",
              "    box-shadow: 0 1px 2px rgba(60, 64, 67, 0.3), 0 1px 3px 1px rgba(60, 64, 67, 0.15);\n",
              "    fill: var(--button-hover-fill-color);\n",
              "  }\n",
              "\n",
              "  .colab-df-quickchart-complete:disabled,\n",
              "  .colab-df-quickchart-complete:disabled:hover {\n",
              "    background-color: var(--disabled-bg-color);\n",
              "    fill: var(--disabled-fill-color);\n",
              "    box-shadow: none;\n",
              "  }\n",
              "\n",
              "  .colab-df-spinner {\n",
              "    border: 2px solid var(--fill-color);\n",
              "    border-color: transparent;\n",
              "    border-bottom-color: var(--fill-color);\n",
              "    animation:\n",
              "      spin 1s steps(1) infinite;\n",
              "  }\n",
              "\n",
              "  @keyframes spin {\n",
              "    0% {\n",
              "      border-color: transparent;\n",
              "      border-bottom-color: var(--fill-color);\n",
              "      border-left-color: var(--fill-color);\n",
              "    }\n",
              "    20% {\n",
              "      border-color: transparent;\n",
              "      border-left-color: var(--fill-color);\n",
              "      border-top-color: var(--fill-color);\n",
              "    }\n",
              "    30% {\n",
              "      border-color: transparent;\n",
              "      border-left-color: var(--fill-color);\n",
              "      border-top-color: var(--fill-color);\n",
              "      border-right-color: var(--fill-color);\n",
              "    }\n",
              "    40% {\n",
              "      border-color: transparent;\n",
              "      border-right-color: var(--fill-color);\n",
              "      border-top-color: var(--fill-color);\n",
              "    }\n",
              "    60% {\n",
              "      border-color: transparent;\n",
              "      border-right-color: var(--fill-color);\n",
              "    }\n",
              "    80% {\n",
              "      border-color: transparent;\n",
              "      border-right-color: var(--fill-color);\n",
              "      border-bottom-color: var(--fill-color);\n",
              "    }\n",
              "    90% {\n",
              "      border-color: transparent;\n",
              "      border-bottom-color: var(--fill-color);\n",
              "    }\n",
              "  }\n",
              "</style>\n",
              "\n",
              "      <script>\n",
              "        async function quickchart(key) {\n",
              "          const quickchartButtonEl =\n",
              "            document.querySelector('#' + key + ' button');\n",
              "          quickchartButtonEl.disabled = true;  // To prevent multiple clicks.\n",
              "          quickchartButtonEl.classList.add('colab-df-spinner');\n",
              "          try {\n",
              "            const charts = await google.colab.kernel.invokeFunction(\n",
              "                'suggestCharts', [key], {});\n",
              "          } catch (error) {\n",
              "            console.error('Error during call to suggestCharts:', error);\n",
              "          }\n",
              "          quickchartButtonEl.classList.remove('colab-df-spinner');\n",
              "          quickchartButtonEl.classList.add('colab-df-quickchart-complete');\n",
              "        }\n",
              "        (() => {\n",
              "          let quickchartButtonEl =\n",
              "            document.querySelector('#df-d825704c-49b8-44f3-8896-409929b4697e button');\n",
              "          quickchartButtonEl.style.display =\n",
              "            google.colab.kernel.accessAllowed ? 'block' : 'none';\n",
              "        })();\n",
              "      </script>\n",
              "    </div>\n",
              "\n",
              "  <div id=\"id_aa175f6c-b487-4a43-bdb1-80ecfce3e9ac\">\n",
              "    <style>\n",
              "      .colab-df-generate {\n",
              "        background-color: #E8F0FE;\n",
              "        border: none;\n",
              "        border-radius: 50%;\n",
              "        cursor: pointer;\n",
              "        display: none;\n",
              "        fill: #1967D2;\n",
              "        height: 32px;\n",
              "        padding: 0 0 0 0;\n",
              "        width: 32px;\n",
              "      }\n",
              "\n",
              "      .colab-df-generate:hover {\n",
              "        background-color: #E2EBFA;\n",
              "        box-shadow: 0px 1px 2px rgba(60, 64, 67, 0.3), 0px 1px 3px 1px rgba(60, 64, 67, 0.15);\n",
              "        fill: #174EA6;\n",
              "      }\n",
              "\n",
              "      [theme=dark] .colab-df-generate {\n",
              "        background-color: #3B4455;\n",
              "        fill: #D2E3FC;\n",
              "      }\n",
              "\n",
              "      [theme=dark] .colab-df-generate:hover {\n",
              "        background-color: #434B5C;\n",
              "        box-shadow: 0px 1px 3px 1px rgba(0, 0, 0, 0.15);\n",
              "        filter: drop-shadow(0px 1px 2px rgba(0, 0, 0, 0.3));\n",
              "        fill: #FFFFFF;\n",
              "      }\n",
              "    </style>\n",
              "    <button class=\"colab-df-generate\" onclick=\"generateWithVariable('merged_df')\"\n",
              "            title=\"Generate code using this dataframe.\"\n",
              "            style=\"display:none;\">\n",
              "\n",
              "  <svg xmlns=\"http://www.w3.org/2000/svg\" height=\"24px\"viewBox=\"0 0 24 24\"\n",
              "       width=\"24px\">\n",
              "    <path d=\"M7,19H8.4L18.45,9,17,7.55,7,17.6ZM5,21V16.75L18.45,3.32a2,2,0,0,1,2.83,0l1.4,1.43a1.91,1.91,0,0,1,.58,1.4,1.91,1.91,0,0,1-.58,1.4L9.25,21ZM18.45,9,17,7.55Zm-12,3A5.31,5.31,0,0,0,4.9,8.1,5.31,5.31,0,0,0,1,6.5,5.31,5.31,0,0,0,4.9,4.9,5.31,5.31,0,0,0,6.5,1,5.31,5.31,0,0,0,8.1,4.9,5.31,5.31,0,0,0,12,6.5,5.46,5.46,0,0,0,6.5,12Z\"/>\n",
              "  </svg>\n",
              "    </button>\n",
              "    <script>\n",
              "      (() => {\n",
              "      const buttonEl =\n",
              "        document.querySelector('#id_aa175f6c-b487-4a43-bdb1-80ecfce3e9ac button.colab-df-generate');\n",
              "      buttonEl.style.display =\n",
              "        google.colab.kernel.accessAllowed ? 'block' : 'none';\n",
              "\n",
              "      buttonEl.onclick = () => {\n",
              "        google.colab.notebook.generateWithVariable('merged_df');\n",
              "      }\n",
              "      })();\n",
              "    </script>\n",
              "  </div>\n",
              "\n",
              "    </div>\n",
              "  </div>\n"
            ],
            "application/vnd.google.colaboratory.intrinsic+json": {
              "type": "dataframe",
              "variable_name": "merged_df"
            }
          },
          "metadata": {},
          "execution_count": 44
        }
      ]
    },
    {
      "cell_type": "code",
      "source": [
        "merged_df.to_csv(\"/content/drive/MyDrive/Spring 2025/ML and Climate/wildfire_project/ca_2000_mean_fire_earth_data.csv\", index=False)"
      ],
      "metadata": {
        "id": "l25lMwAN6GeV"
      },
      "execution_count": 45,
      "outputs": []
    }
  ]
}