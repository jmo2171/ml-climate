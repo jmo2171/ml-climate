{
  "nbformat": 4,
  "nbformat_minor": 0,
  "metadata": {
    "colab": {
      "provenance": [],
      "collapsed_sections": [
        "I3CvCXfTvRnB"
      ],
      "authorship_tag": "ABX9TyMjdIbDFFtQM7PUvE/vprYN",
      "include_colab_link": true
    },
    "kernelspec": {
      "name": "python3",
      "display_name": "Python 3"
    },
    "language_info": {
      "name": "python"
    }
  },
  "cells": [
    {
      "cell_type": "markdown",
      "metadata": {
        "id": "view-in-github",
        "colab_type": "text"
      },
      "source": [
        "<a href=\"https://colab.research.google.com/github/jmo2171/ml-climate/blob/main/src/wildfire_causal_models.ipynb\" target=\"_parent\"><img src=\"https://colab.research.google.com/assets/colab-badge.svg\" alt=\"Open In Colab\"/></a>"
      ]
    },
    {
      "cell_type": "markdown",
      "source": [
        "# imports"
      ],
      "metadata": {
        "id": "QGyFQUrMFjnp"
      }
    },
    {
      "cell_type": "code",
      "source": [
        "! pip install dowhy"
      ],
      "metadata": {
        "colab": {
          "base_uri": "https://localhost:8080/"
        },
        "collapsed": true,
        "id": "2f2jTlAjFwK1",
        "outputId": "d47aa532-8227-4c2f-c844-36fa4fbcd48e"
      },
      "execution_count": 16,
      "outputs": [
        {
          "output_type": "stream",
          "name": "stdout",
          "text": [
            "Requirement already satisfied: dowhy in /usr/local/lib/python3.11/dist-packages (0.12)\n",
            "Requirement already satisfied: causal-learn>=0.1.3.0 in /usr/local/lib/python3.11/dist-packages (from dowhy) (0.1.4.1)\n",
            "Requirement already satisfied: cvxpy>=1.2.2 in /usr/local/lib/python3.11/dist-packages (from dowhy) (1.6.5)\n",
            "Requirement already satisfied: cython<3.0 in /usr/local/lib/python3.11/dist-packages (from dowhy) (0.29.37)\n",
            "Requirement already satisfied: joblib>=1.1.0 in /usr/local/lib/python3.11/dist-packages (from dowhy) (1.4.2)\n",
            "Requirement already satisfied: networkx>=2.8.5 in /usr/local/lib/python3.11/dist-packages (from dowhy) (3.4.2)\n",
            "Requirement already satisfied: numba>=0.59 in /usr/local/lib/python3.11/dist-packages (from dowhy) (0.60.0)\n",
            "Requirement already satisfied: numpy>1.0 in /usr/local/lib/python3.11/dist-packages (from dowhy) (2.0.2)\n",
            "Requirement already satisfied: pandas>1.0 in /usr/local/lib/python3.11/dist-packages (from dowhy) (2.2.2)\n",
            "Requirement already satisfied: scikit-learn>1.0 in /usr/local/lib/python3.11/dist-packages (from dowhy) (1.4.2)\n",
            "Requirement already satisfied: scipy>=1.10 in /usr/local/lib/python3.11/dist-packages (from dowhy) (1.14.1)\n",
            "Requirement already satisfied: statsmodels>=0.13.5 in /usr/local/lib/python3.11/dist-packages (from dowhy) (0.14.4)\n",
            "Requirement already satisfied: sympy>=1.10.1 in /usr/local/lib/python3.11/dist-packages (from dowhy) (1.13.1)\n",
            "Requirement already satisfied: tqdm>=4.64.0 in /usr/local/lib/python3.11/dist-packages (from dowhy) (4.67.1)\n",
            "Requirement already satisfied: graphviz in /usr/local/lib/python3.11/dist-packages (from causal-learn>=0.1.3.0->dowhy) (0.20.3)\n",
            "Requirement already satisfied: matplotlib in /usr/local/lib/python3.11/dist-packages (from causal-learn>=0.1.3.0->dowhy) (3.10.0)\n",
            "Requirement already satisfied: pydot in /usr/local/lib/python3.11/dist-packages (from causal-learn>=0.1.3.0->dowhy) (3.0.4)\n",
            "Requirement already satisfied: momentchi2 in /usr/local/lib/python3.11/dist-packages (from causal-learn>=0.1.3.0->dowhy) (0.1.8)\n",
            "Requirement already satisfied: osqp>=0.6.2 in /usr/local/lib/python3.11/dist-packages (from cvxpy>=1.2.2->dowhy) (1.0.3)\n",
            "Requirement already satisfied: clarabel>=0.5.0 in /usr/local/lib/python3.11/dist-packages (from cvxpy>=1.2.2->dowhy) (0.10.0)\n",
            "Requirement already satisfied: scs>=3.2.4.post1 in /usr/local/lib/python3.11/dist-packages (from cvxpy>=1.2.2->dowhy) (3.2.7.post2)\n",
            "Requirement already satisfied: llvmlite<0.44,>=0.43.0dev0 in /usr/local/lib/python3.11/dist-packages (from numba>=0.59->dowhy) (0.43.0)\n",
            "Requirement already satisfied: python-dateutil>=2.8.2 in /usr/local/lib/python3.11/dist-packages (from pandas>1.0->dowhy) (2.8.2)\n",
            "Requirement already satisfied: pytz>=2020.1 in /usr/local/lib/python3.11/dist-packages (from pandas>1.0->dowhy) (2025.2)\n",
            "Requirement already satisfied: tzdata>=2022.7 in /usr/local/lib/python3.11/dist-packages (from pandas>1.0->dowhy) (2025.2)\n",
            "Requirement already satisfied: threadpoolctl>=2.0.0 in /usr/local/lib/python3.11/dist-packages (from scikit-learn>1.0->dowhy) (3.6.0)\n",
            "Requirement already satisfied: patsy>=0.5.6 in /usr/local/lib/python3.11/dist-packages (from statsmodels>=0.13.5->dowhy) (1.0.1)\n",
            "Requirement already satisfied: packaging>=21.3 in /usr/local/lib/python3.11/dist-packages (from statsmodels>=0.13.5->dowhy) (24.2)\n",
            "Requirement already satisfied: mpmath<1.4,>=1.1.0 in /usr/local/lib/python3.11/dist-packages (from sympy>=1.10.1->dowhy) (1.3.0)\n",
            "Requirement already satisfied: jinja2 in /usr/local/lib/python3.11/dist-packages (from osqp>=0.6.2->cvxpy>=1.2.2->dowhy) (3.1.6)\n",
            "Requirement already satisfied: setuptools in /usr/local/lib/python3.11/dist-packages (from osqp>=0.6.2->cvxpy>=1.2.2->dowhy) (75.2.0)\n",
            "Requirement already satisfied: six>=1.5 in /usr/local/lib/python3.11/dist-packages (from python-dateutil>=2.8.2->pandas>1.0->dowhy) (1.17.0)\n",
            "Requirement already satisfied: contourpy>=1.0.1 in /usr/local/lib/python3.11/dist-packages (from matplotlib->causal-learn>=0.1.3.0->dowhy) (1.3.2)\n",
            "Requirement already satisfied: cycler>=0.10 in /usr/local/lib/python3.11/dist-packages (from matplotlib->causal-learn>=0.1.3.0->dowhy) (0.12.1)\n",
            "Requirement already satisfied: fonttools>=4.22.0 in /usr/local/lib/python3.11/dist-packages (from matplotlib->causal-learn>=0.1.3.0->dowhy) (4.57.0)\n",
            "Requirement already satisfied: kiwisolver>=1.3.1 in /usr/local/lib/python3.11/dist-packages (from matplotlib->causal-learn>=0.1.3.0->dowhy) (1.4.8)\n",
            "Requirement already satisfied: pillow>=8 in /usr/local/lib/python3.11/dist-packages (from matplotlib->causal-learn>=0.1.3.0->dowhy) (11.1.0)\n",
            "Requirement already satisfied: pyparsing>=2.3.1 in /usr/local/lib/python3.11/dist-packages (from matplotlib->causal-learn>=0.1.3.0->dowhy) (3.2.3)\n",
            "Requirement already satisfied: MarkupSafe>=2.0 in /usr/local/lib/python3.11/dist-packages (from jinja2->osqp>=0.6.2->cvxpy>=1.2.2->dowhy) (3.0.2)\n"
          ]
        }
      ]
    },
    {
      "cell_type": "code",
      "source": [
        "import pandas as pd\n",
        "import dowhy\n",
        "from dowhy import CausalModel, gcm\n",
        "import networkx as nx\n",
        "import numpy as np"
      ],
      "metadata": {
        "id": "K-oyC3B2Fnqn"
      },
      "execution_count": 17,
      "outputs": []
    },
    {
      "cell_type": "code",
      "execution_count": 18,
      "metadata": {
        "colab": {
          "base_uri": "https://localhost:8080/"
        },
        "id": "BTNDS9P9FSRK",
        "outputId": "cb0d66b5-07f3-404f-9589-6b165eb380f6"
      },
      "outputs": [
        {
          "output_type": "stream",
          "name": "stdout",
          "text": [
            "Drive already mounted at /content/drive; to attempt to forcibly remount, call drive.mount(\"/content/drive\", force_remount=True).\n"
          ]
        }
      ],
      "source": [
        "from google.colab import drive\n",
        "drive.mount('/content/drive')"
      ]
    },
    {
      "cell_type": "code",
      "source": [
        "!pip install scikit-learn==1.4.2\n",
        "# do why requires an older version of sklearn\n",
        "import sklearn\n",
        "print(sklearn.__version__)"
      ],
      "metadata": {
        "colab": {
          "base_uri": "https://localhost:8080/"
        },
        "id": "IyX1RFBFtut6",
        "outputId": "e67ff36c-2c50-4874-f7a3-40102119d41b"
      },
      "execution_count": 19,
      "outputs": [
        {
          "output_type": "stream",
          "name": "stdout",
          "text": [
            "Requirement already satisfied: scikit-learn==1.4.2 in /usr/local/lib/python3.11/dist-packages (1.4.2)\n",
            "Requirement already satisfied: numpy>=1.19.5 in /usr/local/lib/python3.11/dist-packages (from scikit-learn==1.4.2) (2.0.2)\n",
            "Requirement already satisfied: scipy>=1.6.0 in /usr/local/lib/python3.11/dist-packages (from scikit-learn==1.4.2) (1.14.1)\n",
            "Requirement already satisfied: joblib>=1.2.0 in /usr/local/lib/python3.11/dist-packages (from scikit-learn==1.4.2) (1.4.2)\n",
            "Requirement already satisfied: threadpoolctl>=2.0.0 in /usr/local/lib/python3.11/dist-packages (from scikit-learn==1.4.2) (3.6.0)\n",
            "1.4.2\n"
          ]
        }
      ]
    },
    {
      "cell_type": "markdown",
      "source": [
        "# load data"
      ],
      "metadata": {
        "id": "Elwum9IKGQgn"
      }
    },
    {
      "cell_type": "code",
      "source": [
        "data = pd.read_csv(\"/content/drive/MyDrive/Spring 2025/ML and Climate/wildfire_project/fire_earth_data.csv\")"
      ],
      "metadata": {
        "id": "qkZ3tYQ2GQLx"
      },
      "execution_count": 20,
      "outputs": []
    },
    {
      "cell_type": "markdown",
      "source": [
        "# causal model"
      ],
      "metadata": {
        "id": "DOdpWTsSGKJh"
      }
    },
    {
      "cell_type": "code",
      "source": [
        "print(data.columns.tolist())\n",
        "drop_cols = ['FOD_ID', 'FIRE_NAME', 'FIRE_SIZE_CLASS', 'FIRE_YEAR', 'DISCOVERY_DATE', 'STAT_CAUSE_DESCR', 'STATE', 'LATITUDE', 'LONGITUDE', 'date', 'dead_fuel_100','max_temp_K', 'min_temp_K']\n",
        "data = data.drop(columns=drop_cols)"
      ],
      "metadata": {
        "colab": {
          "base_uri": "https://localhost:8080/"
        },
        "id": "kMXVqmv6IBs7",
        "outputId": "ae2d83dc-bd9a-4db8-f00b-50ec249352e6"
      },
      "execution_count": 21,
      "outputs": [
        {
          "output_type": "stream",
          "name": "stdout",
          "text": [
            "['FOD_ID', 'FIRE_NAME', 'FIRE_SIZE', 'FIRE_SIZE_CLASS', 'FIRE_YEAR', 'DISCOVERY_DATE', 'STAT_CAUSE_DESCR', 'STATE', 'LATITUDE', 'LONGITUDE', 'date', 'dead_fuel_100', 'dead_fuel_1000', 'energy_release', 'humidity', 'max_temp_K', 'min_temp_K', 'precipitation', 'wind_speed', 'max_temp_C', 'min_temp_C', 'population_density', 'vegetation', 'drought_index']\n"
          ]
        }
      ]
    },
    {
      "cell_type": "code",
      "source": [
        "\n",
        "print(data.shape[0])\n",
        "data = data.dropna()\n",
        "print(data.shape[0])"
      ],
      "metadata": {
        "colab": {
          "base_uri": "https://localhost:8080/"
        },
        "id": "Qqqu9U6jGMDa",
        "outputId": "c9ac9f03-64f5-47e0-feb5-7fd2442b7dbb"
      },
      "execution_count": 22,
      "outputs": [
        {
          "output_type": "stream",
          "name": "stdout",
          "text": [
            "189550\n",
            "120903\n"
          ]
        }
      ]
    },
    {
      "cell_type": "code",
      "source": [
        "data_np = data.to_numpy()"
      ],
      "metadata": {
        "id": "YXlXH8D1smYN"
      },
      "execution_count": 23,
      "outputs": []
    },
    {
      "cell_type": "markdown",
      "source": [
        "## unused"
      ],
      "metadata": {
        "id": "I3CvCXfTvRnB"
      }
    },
    {
      "cell_type": "code",
      "source": [
        "causal_graph1 = \"\"\"\n",
        "digraph {\n",
        "    humidity -> FIRE_SIZE;\n",
        "    precipitation -> FIRE_SIZE;\n",
        "    wind_speed -> FIRE_SIZE;\n",
        "    drought_index -> FIRE_SIZE;\n",
        "    dead_fuel_1000 -> FIRE_SIZE;\n",
        "    energy_release -> FIRE_SIZE;\n",
        "    max_temp_C -> FIRE_SIZE;\n",
        "    min_temp_C -> FIRE_SIZE;\n",
        "    vegetation -> FIRE_SIZE;\n",
        "    population_density -> FIRE_SIZE;\n",
        "    drought_index -> dead_fuel_1000;\n",
        "}\n",
        "\"\"\"\n"
      ],
      "metadata": {
        "id": "JWv2L9XMoRQ0"
      },
      "execution_count": 24,
      "outputs": []
    },
    {
      "cell_type": "code",
      "source": [
        "# model = CausalModel(\n",
        "#     data=data,\n",
        "#     treatment=['humidity', 'precipitation', 'wind_speed', 'dead_fuel_1000', 'drought_index'],\n",
        "#     outcome='FIRE_SIZE',\n",
        "#     graph=causal_graph1\n",
        "# )\n",
        "\n",
        "# # Visualize the model\n",
        "# model.view_model()\n",
        "\n",
        "# # Identify causal effect\n",
        "# identified_estimand = model.identify_effect()\n",
        "\n",
        "# # Estimate causal effect\n",
        "# causal_estimate = model.estimate_effect(\n",
        "#     identified_estimand,\n",
        "#     method_name=\"backdoor.linear_regression\"\n",
        "# )\n",
        "\n",
        "# print(causal_estimate)\n"
      ],
      "metadata": {
        "collapsed": true,
        "id": "UJAAXJcmoiW6"
      },
      "execution_count": 25,
      "outputs": []
    },
    {
      "cell_type": "markdown",
      "source": [
        "## first pass"
      ],
      "metadata": {
        "id": "e0Lk1d4oqiU-"
      }
    },
    {
      "cell_type": "code",
      "source": [
        "causal_graph = nx.DiGraph([\n",
        "    ('humidity','FIRE_SIZE'),\n",
        "    ('humidity','dead_fuel_1000'),\n",
        "    ('precipitation','FIRE_SIZE'),\n",
        "    ('precipitation','humidity'),\n",
        "    ('precipitation','drought_index'),\n",
        "    ('precipitation','vegetation'),\n",
        "    ('wind_speed','FIRE_SIZE'),\n",
        "     ('drought_index','FIRE_SIZE'),\n",
        "      ('drought_index','energy_release'),\n",
        "       ('drought_index','vegetation'),\n",
        "        ('dead_fuel_1000','FIRE_SIZE'),\n",
        "         ('dead_fuel_1000','energy_release'),\n",
        "          ('energy_release','FIRE_SIZE'),\n",
        "           ('max_temp_C','humidity'),\n",
        "           ('max_temp_C','drought_index'),\n",
        "            ('min_temp_C','humidity'),\n",
        "             ('vegetation','dead_fuel_1000'),\n",
        "              ('population_density','FIRE_SIZE'),\n",
        "               ('population_density','vegetation'),\n",
        "                ('drought_index','dead_fuel_1000'),\n",
        "                 ('drought_index','vegetation')\n",
        "])"
      ],
      "metadata": {
        "id": "A-t6MCuzqjzO"
      },
      "execution_count": 26,
      "outputs": []
    },
    {
      "cell_type": "code",
      "source": [
        "causal_model = gcm.StructuralCausalModel(causal_graph)\n"
      ],
      "metadata": {
        "id": "wB8EUWfFsX71"
      },
      "execution_count": 27,
      "outputs": []
    },
    {
      "cell_type": "code",
      "source": [
        "auto_assignment_summary = gcm.auto.assign_causal_mechanisms(causal_model, data)\n"
      ],
      "metadata": {
        "id": "4VefqoONsbZp"
      },
      "execution_count": 28,
      "outputs": []
    },
    {
      "cell_type": "code",
      "source": [
        "print(auto_assignment_summary)\n"
      ],
      "metadata": {
        "colab": {
          "base_uri": "https://localhost:8080/"
        },
        "id": "GrXLmyras2Fi",
        "outputId": "437002f7-aaaf-439d-ce55-59e9a0adfa2c"
      },
      "execution_count": 29,
      "outputs": [
        {
          "output_type": "stream",
          "name": "stdout",
          "text": [
            "When using this auto assignment function, the given data is used to automatically assign a causal mechanism to each node. Note that causal mechanisms can also be customized and assigned manually.\n",
            "The following types of causal mechanisms are considered for the automatic selection:\n",
            "\n",
            "If root node:\n",
            "An empirical distribution, i.e., the distribution is represented by randomly sampling from the provided data. This provides a flexible and non-parametric way to model the marginal distribution and is valid for all types of data modalities.\n",
            "\n",
            "If non-root node and the data is continuous:\n",
            "Additive Noise Models (ANM) of the form X_i = f(PA_i) + N_i, where PA_i are the parents of X_i and the unobserved noise N_i is assumed to be independent of PA_i.To select the best model for f, different regression models are evaluated and the model with the smallest mean squared error is selected.Note that minimizing the mean squared error here is equivalent to selecting the best choice of an ANM.\n",
            "\n",
            "If non-root node and the data is discrete:\n",
            "Discrete Additive Noise Models have almost the same definition as non-discrete ANMs, but come with an additional constraint for f to only return discrete values.\n",
            "Note that 'discrete' here refers to numerical values with an order. If the data is categorical, consider representing them as strings to ensure proper model selection.\n",
            "\n",
            "If non-root node and the data is categorical:\n",
            "A functional causal model based on a classifier, i.e., X_i = f(PA_i, N_i).\n",
            "Here, N_i follows a uniform distribution on [0, 1] and is used to randomly sample a class (category) using the conditional probability distribution produced by a classification model.Here, different model classes are evaluated using the (negative) F1 score and the best performing model class is selected.\n",
            "\n",
            "In total, 11 nodes were analyzed:\n",
            "\n",
            "--- Node: precipitation\n",
            "Node precipitation is a root node. Therefore, assigning 'Empirical Distribution' to the node representing the marginal distribution.\n",
            "\n",
            "--- Node: wind_speed\n",
            "Node wind_speed is a root node. Therefore, assigning 'Empirical Distribution' to the node representing the marginal distribution.\n",
            "\n",
            "--- Node: max_temp_C\n",
            "Node max_temp_C is a root node. Therefore, assigning 'Empirical Distribution' to the node representing the marginal distribution.\n",
            "\n",
            "--- Node: min_temp_C\n",
            "Node min_temp_C is a root node. Therefore, assigning 'Empirical Distribution' to the node representing the marginal distribution.\n",
            "\n",
            "--- Node: population_density\n",
            "Node population_density is a root node. Therefore, assigning 'Empirical Distribution' to the node representing the marginal distribution.\n",
            "\n",
            "--- Node: drought_index\n",
            "Node drought_index is a non-root node with continuous data. Assigning 'AdditiveNoiseModel using LinearRegression' to the node.\n",
            "This represents the causal relationship as drought_index := f(max_temp_C,precipitation) + N.\n",
            "For the model selection, the following models were evaluated on the mean squared error (MSE) metric:\n",
            "LinearRegression: 6.448981260864254\n",
            "Pipeline(steps=[('polynomialfeatures', PolynomialFeatures(include_bias=False)),\n",
            "                ('linearregression', LinearRegression)]): 6.452722524973739\n",
            "HistGradientBoostingRegressor: 6.459052158738726\n",
            "\n",
            "--- Node: humidity\n",
            "Node humidity is a non-root node with continuous data. Assigning 'AdditiveNoiseModel using Pipeline' to the node.\n",
            "This represents the causal relationship as humidity := f(max_temp_C,min_temp_C,precipitation) + N.\n",
            "For the model selection, the following models were evaluated on the mean squared error (MSE) metric:\n",
            "Pipeline(steps=[('polynomialfeatures', PolynomialFeatures(include_bias=False)),\n",
            "                ('linearregression', LinearRegression)]): 3.423919689509285e-06\n",
            "LinearRegression: 3.4644845662883687e-06\n",
            "HistGradientBoostingRegressor: 3.506627445325177e-06\n",
            "\n",
            "--- Node: vegetation\n",
            "Node vegetation is a non-root node with discrete data. Assigning 'Discrete AdditiveNoiseModel using HistGradientBoostingRegressor' to the node.\n",
            "This represents the discrete causal relationship as vegetation := f(drought_index,population_density,precipitation) + N.\n",
            "For the model selection, the following models were evaluated on the mean squared error (MSE) metric:\n",
            "HistGradientBoostingRegressor: 848982.4039691606\n",
            "LinearRegression: 920513.0636426419\n",
            "Pipeline(steps=[('polynomialfeatures', PolynomialFeatures(include_bias=False)),\n",
            "                ('linearregression', LinearRegression)]): 937729.652866302\n",
            "\n",
            "--- Node: dead_fuel_1000\n",
            "Node dead_fuel_1000 is a non-root node with continuous data. Assigning 'AdditiveNoiseModel using HistGradientBoostingRegressor' to the node.\n",
            "This represents the causal relationship as dead_fuel_1000 := f(drought_index,humidity,vegetation) + N.\n",
            "For the model selection, the following models were evaluated on the mean squared error (MSE) metric:\n",
            "HistGradientBoostingRegressor: 12.985004633699855\n",
            "Pipeline(steps=[('polynomialfeatures', PolynomialFeatures(include_bias=False)),\n",
            "                ('linearregression', LinearRegression)]): 13.429270398397325\n",
            "LinearRegression: 13.56746865004593\n",
            "\n",
            "--- Node: energy_release\n",
            "Node energy_release is a non-root node with continuous data. Assigning 'AdditiveNoiseModel using Pipeline' to the node.\n",
            "This represents the causal relationship as energy_release := f(dead_fuel_1000,drought_index) + N.\n",
            "For the model selection, the following models were evaluated on the mean squared error (MSE) metric:\n",
            "Pipeline(steps=[('polynomialfeatures', PolynomialFeatures(include_bias=False)),\n",
            "                ('linearregression', LinearRegression)]): 49.30580949286012\n",
            "HistGradientBoostingRegressor: 50.048373340170386\n",
            "LinearRegression: 55.58052570722693\n",
            "\n",
            "--- Node: FIRE_SIZE\n",
            "Node FIRE_SIZE is a non-root node with continuous data. Assigning 'AdditiveNoiseModel using LinearRegression' to the node.\n",
            "This represents the causal relationship as FIRE_SIZE := f(dead_fuel_1000,drought_index,energy_release,humidity,population_density,precipitation,wind_speed) + N.\n",
            "For the model selection, the following models were evaluated on the mean squared error (MSE) metric:\n",
            "LinearRegression: 6138112.423114849\n",
            "HistGradientBoostingRegressor: 6294748.743695719\n",
            "\n",
            "===Note===\n",
            "Note, based on the selected auto assignment quality, the set of evaluated models changes.\n",
            "For more insights toward the quality of the fitted graphical causal model, consider using the evaluate_causal_model function after fitting the causal mechanisms.\n"
          ]
        }
      ]
    },
    {
      "cell_type": "code",
      "source": [
        "gcm.fit(causal_model, data)\n"
      ],
      "metadata": {
        "colab": {
          "base_uri": "https://localhost:8080/"
        },
        "id": "FNANwYrvtbaQ",
        "outputId": "91775baa-2aeb-4385-9fb5-552e93650978"
      },
      "execution_count": 30,
      "outputs": [
        {
          "output_type": "stream",
          "name": "stderr",
          "text": [
            "Fitting causal mechanism of node population_density: 100%|██████████| 11/11 [00:03<00:00,  2.96it/s]\n"
          ]
        }
      ]
    },
    {
      "cell_type": "code",
      "source": [
        "print(gcm.evaluate_causal_model(causal_model, data))\n"
      ],
      "metadata": {
        "colab": {
          "base_uri": "https://localhost:8080/"
        },
        "id": "nM3gcOeltf7L",
        "outputId": "a3f70c55-fc16-41a4-b8ad-881054e1273e"
      },
      "execution_count": null,
      "outputs": [
        {
          "output_type": "stream",
          "name": "stderr",
          "text": [
            "Evaluating causal mechanisms...: 100%|██████████| 11/11 [01:37<00:00,  8.82s/it]\n"
          ]
        }
      ]
    },
    {
      "cell_type": "markdown",
      "source": [
        "# causal discovery"
      ],
      "metadata": {
        "id": "aVxheIL6qCVM"
      }
    },
    {
      "cell_type": "code",
      "source": [
        "from causallearn.search.ConstraintBased.PC import pc\n",
        "\n",
        "labels = [f'{col}' for i, col in enumerate(data.columns)]\n",
        "data_np = data.to_numpy()\n",
        "\n",
        "cg = pc(data_np)\n",
        "\n",
        "# Visualization using pydot\n",
        "from causallearn.utils.GraphUtils import GraphUtils\n",
        "import matplotlib.image as mpimg\n",
        "import matplotlib.pyplot as plt\n",
        "import io\n",
        "\n",
        "pyd = GraphUtils.to_pydot(cg.G, labels=labels)\n",
        "tmp_png = pyd.create_png(f=\"png\")\n",
        "fp = io.BytesIO(tmp_png)\n",
        "img = mpimg.imread(fp, format='png')\n",
        "plt.axis('off')\n",
        "plt.imshow(img)\n",
        "plt.show()"
      ],
      "metadata": {
        "id": "_5AlfJPJo2g0"
      },
      "execution_count": null,
      "outputs": []
    },
    {
      "cell_type": "code",
      "source": [
        "from causallearn.search.ScoreBased.GES import ges\n",
        "\n",
        "# default parameters\n",
        "Record = ges(data_np)\n",
        "\n",
        "# Visualization using pydot\n",
        "from causallearn.utils.GraphUtils import GraphUtils\n",
        "import matplotlib.image as mpimg\n",
        "import matplotlib.pyplot as plt\n",
        "import io\n",
        "\n",
        "pyd = GraphUtils.to_pydot(Record['G'], labels=labels)\n",
        "tmp_png = pyd.create_png(f=\"png\")\n",
        "fp = io.BytesIO(tmp_png)\n",
        "img = mpimg.imread(fp, format='png')\n",
        "plt.axis('off')\n",
        "plt.imshow(img)\n",
        "plt.show()"
      ],
      "metadata": {
        "id": "c66iQMZrpkSD"
      },
      "execution_count": null,
      "outputs": []
    },
    {
      "cell_type": "code",
      "source": [
        "from causallearn.search.FCMBased import lingam\n",
        "model = lingam.ICALiNGAM()\n",
        "model.fit(data_np)\n",
        "\n",
        "from causallearn.search.FCMBased.lingam.utils import make_dot\n",
        "make_dot(model.adjacency_matrix_, labels=labels)"
      ],
      "metadata": {
        "id": "hZy5jNQ4p29V"
      },
      "execution_count": null,
      "outputs": []
    }
  ]
}