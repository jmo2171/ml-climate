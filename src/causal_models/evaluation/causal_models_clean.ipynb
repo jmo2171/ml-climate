{
  "cells": [
    {
      "cell_type": "code",
      "execution_count": 7,
      "metadata": {
        "colab": {
          "base_uri": "https://localhost:8080/"
        },
        "id": "5cUYR6G1I3CE",
        "outputId": "cbab6829-0238-40c7-b6a5-2bf32dabad0c"
      },
      "outputs": [
        {
          "output_type": "stream",
          "name": "stdout",
          "text": [
            "Requirement already satisfied: dowhy in /usr/local/lib/python3.11/dist-packages (0.12)\n",
            "Requirement already satisfied: causal-learn>=0.1.3.0 in /usr/local/lib/python3.11/dist-packages (from dowhy) (0.1.4.1)\n",
            "Requirement already satisfied: cvxpy>=1.2.2 in /usr/local/lib/python3.11/dist-packages (from dowhy) (1.6.5)\n",
            "Requirement already satisfied: cython<3.0 in /usr/local/lib/python3.11/dist-packages (from dowhy) (0.29.37)\n",
            "Requirement already satisfied: joblib>=1.1.0 in /usr/local/lib/python3.11/dist-packages (from dowhy) (1.4.2)\n",
            "Requirement already satisfied: networkx>=2.8.5 in /usr/local/lib/python3.11/dist-packages (from dowhy) (3.4.2)\n",
            "Requirement already satisfied: numba>=0.59 in /usr/local/lib/python3.11/dist-packages (from dowhy) (0.60.0)\n",
            "Requirement already satisfied: numpy>1.0 in /usr/local/lib/python3.11/dist-packages (from dowhy) (2.0.2)\n",
            "Requirement already satisfied: pandas>1.0 in /usr/local/lib/python3.11/dist-packages (from dowhy) (2.2.2)\n",
            "Requirement already satisfied: scikit-learn>1.0 in /usr/local/lib/python3.11/dist-packages (from dowhy) (1.4.2)\n",
            "Requirement already satisfied: scipy>=1.10 in /usr/local/lib/python3.11/dist-packages (from dowhy) (1.15.2)\n",
            "Requirement already satisfied: statsmodels>=0.13.5 in /usr/local/lib/python3.11/dist-packages (from dowhy) (0.14.4)\n",
            "Requirement already satisfied: sympy>=1.10.1 in /usr/local/lib/python3.11/dist-packages (from dowhy) (1.13.1)\n",
            "Requirement already satisfied: tqdm>=4.64.0 in /usr/local/lib/python3.11/dist-packages (from dowhy) (4.67.1)\n",
            "Requirement already satisfied: graphviz in /usr/local/lib/python3.11/dist-packages (from causal-learn>=0.1.3.0->dowhy) (0.20.3)\n",
            "Requirement already satisfied: matplotlib in /usr/local/lib/python3.11/dist-packages (from causal-learn>=0.1.3.0->dowhy) (3.10.0)\n",
            "Requirement already satisfied: pydot in /usr/local/lib/python3.11/dist-packages (from causal-learn>=0.1.3.0->dowhy) (3.0.4)\n",
            "Requirement already satisfied: momentchi2 in /usr/local/lib/python3.11/dist-packages (from causal-learn>=0.1.3.0->dowhy) (0.1.8)\n",
            "Requirement already satisfied: osqp>=0.6.2 in /usr/local/lib/python3.11/dist-packages (from cvxpy>=1.2.2->dowhy) (1.0.3)\n",
            "Requirement already satisfied: clarabel>=0.5.0 in /usr/local/lib/python3.11/dist-packages (from cvxpy>=1.2.2->dowhy) (0.10.0)\n",
            "Requirement already satisfied: scs>=3.2.4.post1 in /usr/local/lib/python3.11/dist-packages (from cvxpy>=1.2.2->dowhy) (3.2.7.post2)\n",
            "Requirement already satisfied: llvmlite<0.44,>=0.43.0dev0 in /usr/local/lib/python3.11/dist-packages (from numba>=0.59->dowhy) (0.43.0)\n",
            "Requirement already satisfied: python-dateutil>=2.8.2 in /usr/local/lib/python3.11/dist-packages (from pandas>1.0->dowhy) (2.9.0.post0)\n",
            "Requirement already satisfied: pytz>=2020.1 in /usr/local/lib/python3.11/dist-packages (from pandas>1.0->dowhy) (2025.2)\n",
            "Requirement already satisfied: tzdata>=2022.7 in /usr/local/lib/python3.11/dist-packages (from pandas>1.0->dowhy) (2025.2)\n",
            "Requirement already satisfied: threadpoolctl>=2.0.0 in /usr/local/lib/python3.11/dist-packages (from scikit-learn>1.0->dowhy) (3.6.0)\n",
            "Requirement already satisfied: patsy>=0.5.6 in /usr/local/lib/python3.11/dist-packages (from statsmodels>=0.13.5->dowhy) (1.0.1)\n",
            "Requirement already satisfied: packaging>=21.3 in /usr/local/lib/python3.11/dist-packages (from statsmodels>=0.13.5->dowhy) (24.2)\n",
            "Requirement already satisfied: mpmath<1.4,>=1.1.0 in /usr/local/lib/python3.11/dist-packages (from sympy>=1.10.1->dowhy) (1.3.0)\n",
            "Requirement already satisfied: jinja2 in /usr/local/lib/python3.11/dist-packages (from osqp>=0.6.2->cvxpy>=1.2.2->dowhy) (3.1.6)\n",
            "Requirement already satisfied: setuptools in /usr/local/lib/python3.11/dist-packages (from osqp>=0.6.2->cvxpy>=1.2.2->dowhy) (75.2.0)\n",
            "Requirement already satisfied: six>=1.5 in /usr/local/lib/python3.11/dist-packages (from python-dateutil>=2.8.2->pandas>1.0->dowhy) (1.17.0)\n",
            "Requirement already satisfied: contourpy>=1.0.1 in /usr/local/lib/python3.11/dist-packages (from matplotlib->causal-learn>=0.1.3.0->dowhy) (1.3.2)\n",
            "Requirement already satisfied: cycler>=0.10 in /usr/local/lib/python3.11/dist-packages (from matplotlib->causal-learn>=0.1.3.0->dowhy) (0.12.1)\n",
            "Requirement already satisfied: fonttools>=4.22.0 in /usr/local/lib/python3.11/dist-packages (from matplotlib->causal-learn>=0.1.3.0->dowhy) (4.57.0)\n",
            "Requirement already satisfied: kiwisolver>=1.3.1 in /usr/local/lib/python3.11/dist-packages (from matplotlib->causal-learn>=0.1.3.0->dowhy) (1.4.8)\n",
            "Requirement already satisfied: pillow>=8 in /usr/local/lib/python3.11/dist-packages (from matplotlib->causal-learn>=0.1.3.0->dowhy) (11.2.1)\n",
            "Requirement already satisfied: pyparsing>=2.3.1 in /usr/local/lib/python3.11/dist-packages (from matplotlib->causal-learn>=0.1.3.0->dowhy) (3.2.3)\n",
            "Requirement already satisfied: MarkupSafe>=2.0 in /usr/local/lib/python3.11/dist-packages (from jinja2->osqp>=0.6.2->cvxpy>=1.2.2->dowhy) (3.0.2)\n"
          ]
        }
      ],
      "source": [
        "! pip install dowhy"
      ]
    },
    {
      "cell_type": "code",
      "execution_count": 8,
      "metadata": {
        "colab": {
          "base_uri": "https://localhost:8080/"
        },
        "id": "r8m49yWNURQJ",
        "outputId": "d0a71918-67d4-49a6-86df-2d5b599ee136"
      },
      "outputs": [
        {
          "output_type": "stream",
          "name": "stdout",
          "text": [
            "Requirement already satisfied: dowhy in /usr/local/lib/python3.11/dist-packages (0.12)\n",
            "Requirement already satisfied: causal-learn>=0.1.3.0 in /usr/local/lib/python3.11/dist-packages (from dowhy) (0.1.4.1)\n",
            "Requirement already satisfied: cvxpy>=1.2.2 in /usr/local/lib/python3.11/dist-packages (from dowhy) (1.6.5)\n",
            "Requirement already satisfied: cython<3.0 in /usr/local/lib/python3.11/dist-packages (from dowhy) (0.29.37)\n",
            "Requirement already satisfied: joblib>=1.1.0 in /usr/local/lib/python3.11/dist-packages (from dowhy) (1.4.2)\n",
            "Requirement already satisfied: networkx>=2.8.5 in /usr/local/lib/python3.11/dist-packages (from dowhy) (3.4.2)\n",
            "Requirement already satisfied: numba>=0.59 in /usr/local/lib/python3.11/dist-packages (from dowhy) (0.60.0)\n",
            "Requirement already satisfied: numpy>1.0 in /usr/local/lib/python3.11/dist-packages (from dowhy) (2.0.2)\n",
            "Requirement already satisfied: pandas>1.0 in /usr/local/lib/python3.11/dist-packages (from dowhy) (2.2.2)\n",
            "Requirement already satisfied: scikit-learn>1.0 in /usr/local/lib/python3.11/dist-packages (from dowhy) (1.4.2)\n",
            "Requirement already satisfied: scipy>=1.10 in /usr/local/lib/python3.11/dist-packages (from dowhy) (1.15.2)\n",
            "Requirement already satisfied: statsmodels>=0.13.5 in /usr/local/lib/python3.11/dist-packages (from dowhy) (0.14.4)\n",
            "Requirement already satisfied: sympy>=1.10.1 in /usr/local/lib/python3.11/dist-packages (from dowhy) (1.13.1)\n",
            "Requirement already satisfied: tqdm>=4.64.0 in /usr/local/lib/python3.11/dist-packages (from dowhy) (4.67.1)\n",
            "Requirement already satisfied: graphviz in /usr/local/lib/python3.11/dist-packages (from causal-learn>=0.1.3.0->dowhy) (0.20.3)\n",
            "Requirement already satisfied: matplotlib in /usr/local/lib/python3.11/dist-packages (from causal-learn>=0.1.3.0->dowhy) (3.10.0)\n",
            "Requirement already satisfied: pydot in /usr/local/lib/python3.11/dist-packages (from causal-learn>=0.1.3.0->dowhy) (3.0.4)\n",
            "Requirement already satisfied: momentchi2 in /usr/local/lib/python3.11/dist-packages (from causal-learn>=0.1.3.0->dowhy) (0.1.8)\n",
            "Requirement already satisfied: osqp>=0.6.2 in /usr/local/lib/python3.11/dist-packages (from cvxpy>=1.2.2->dowhy) (1.0.3)\n",
            "Requirement already satisfied: clarabel>=0.5.0 in /usr/local/lib/python3.11/dist-packages (from cvxpy>=1.2.2->dowhy) (0.10.0)\n",
            "Requirement already satisfied: scs>=3.2.4.post1 in /usr/local/lib/python3.11/dist-packages (from cvxpy>=1.2.2->dowhy) (3.2.7.post2)\n",
            "Requirement already satisfied: llvmlite<0.44,>=0.43.0dev0 in /usr/local/lib/python3.11/dist-packages (from numba>=0.59->dowhy) (0.43.0)\n",
            "Requirement already satisfied: python-dateutil>=2.8.2 in /usr/local/lib/python3.11/dist-packages (from pandas>1.0->dowhy) (2.9.0.post0)\n",
            "Requirement already satisfied: pytz>=2020.1 in /usr/local/lib/python3.11/dist-packages (from pandas>1.0->dowhy) (2025.2)\n",
            "Requirement already satisfied: tzdata>=2022.7 in /usr/local/lib/python3.11/dist-packages (from pandas>1.0->dowhy) (2025.2)\n",
            "Requirement already satisfied: threadpoolctl>=2.0.0 in /usr/local/lib/python3.11/dist-packages (from scikit-learn>1.0->dowhy) (3.6.0)\n",
            "Requirement already satisfied: patsy>=0.5.6 in /usr/local/lib/python3.11/dist-packages (from statsmodels>=0.13.5->dowhy) (1.0.1)\n",
            "Requirement already satisfied: packaging>=21.3 in /usr/local/lib/python3.11/dist-packages (from statsmodels>=0.13.5->dowhy) (24.2)\n",
            "Requirement already satisfied: mpmath<1.4,>=1.1.0 in /usr/local/lib/python3.11/dist-packages (from sympy>=1.10.1->dowhy) (1.3.0)\n",
            "Requirement already satisfied: jinja2 in /usr/local/lib/python3.11/dist-packages (from osqp>=0.6.2->cvxpy>=1.2.2->dowhy) (3.1.6)\n",
            "Requirement already satisfied: setuptools in /usr/local/lib/python3.11/dist-packages (from osqp>=0.6.2->cvxpy>=1.2.2->dowhy) (75.2.0)\n",
            "Requirement already satisfied: six>=1.5 in /usr/local/lib/python3.11/dist-packages (from python-dateutil>=2.8.2->pandas>1.0->dowhy) (1.17.0)\n",
            "Requirement already satisfied: contourpy>=1.0.1 in /usr/local/lib/python3.11/dist-packages (from matplotlib->causal-learn>=0.1.3.0->dowhy) (1.3.2)\n",
            "Requirement already satisfied: cycler>=0.10 in /usr/local/lib/python3.11/dist-packages (from matplotlib->causal-learn>=0.1.3.0->dowhy) (0.12.1)\n",
            "Requirement already satisfied: fonttools>=4.22.0 in /usr/local/lib/python3.11/dist-packages (from matplotlib->causal-learn>=0.1.3.0->dowhy) (4.57.0)\n",
            "Requirement already satisfied: kiwisolver>=1.3.1 in /usr/local/lib/python3.11/dist-packages (from matplotlib->causal-learn>=0.1.3.0->dowhy) (1.4.8)\n",
            "Requirement already satisfied: pillow>=8 in /usr/local/lib/python3.11/dist-packages (from matplotlib->causal-learn>=0.1.3.0->dowhy) (11.2.1)\n",
            "Requirement already satisfied: pyparsing>=2.3.1 in /usr/local/lib/python3.11/dist-packages (from matplotlib->causal-learn>=0.1.3.0->dowhy) (3.2.3)\n",
            "Requirement already satisfied: MarkupSafe>=2.0 in /usr/local/lib/python3.11/dist-packages (from jinja2->osqp>=0.6.2->cvxpy>=1.2.2->dowhy) (3.0.2)\n"
          ]
        }
      ],
      "source": [
        "pip install --upgrade dowhy"
      ]
    },
    {
      "cell_type": "code",
      "execution_count": 9,
      "metadata": {
        "colab": {
          "base_uri": "https://localhost:8080/"
        },
        "id": "t0fTQj6tStIv",
        "outputId": "0da55fa0-218f-4e79-aff3-286903c518b0"
      },
      "outputs": [
        {
          "output_type": "stream",
          "name": "stdout",
          "text": [
            "Requirement already satisfied: xgboost in /usr/local/lib/python3.11/dist-packages (2.1.4)\n",
            "Requirement already satisfied: numpy in /usr/local/lib/python3.11/dist-packages (from xgboost) (2.0.2)\n",
            "Requirement already satisfied: nvidia-nccl-cu12 in /usr/local/lib/python3.11/dist-packages (from xgboost) (2.21.5)\n",
            "Requirement already satisfied: scipy in /usr/local/lib/python3.11/dist-packages (from xgboost) (1.15.2)\n"
          ]
        }
      ],
      "source": [
        "! pip install xgboost"
      ]
    },
    {
      "cell_type": "code",
      "execution_count": 10,
      "metadata": {
        "colab": {
          "base_uri": "https://localhost:8080/"
        },
        "id": "Nm8atkOrTEao",
        "outputId": "0f7ba384-6f5b-42f6-903a-e0acb0acde06"
      },
      "outputs": [
        {
          "output_type": "stream",
          "name": "stdout",
          "text": [
            "Requirement already satisfied: mord in /usr/local/lib/python3.11/dist-packages (0.7)\n"
          ]
        }
      ],
      "source": [
        "! pip install mord"
      ]
    },
    {
      "cell_type": "code",
      "execution_count": 11,
      "metadata": {
        "colab": {
          "base_uri": "https://localhost:8080/"
        },
        "id": "nPNKaBMKT8o0",
        "outputId": "243f3547-6ef5-4786-aa56-9b239e791631"
      },
      "outputs": [
        {
          "output_type": "stream",
          "name": "stdout",
          "text": [
            "Requirement already satisfied: scikit-learn==1.4.2 in /usr/local/lib/python3.11/dist-packages (1.4.2)\n",
            "Requirement already satisfied: numpy>=1.19.5 in /usr/local/lib/python3.11/dist-packages (from scikit-learn==1.4.2) (2.0.2)\n",
            "Requirement already satisfied: scipy>=1.6.0 in /usr/local/lib/python3.11/dist-packages (from scikit-learn==1.4.2) (1.15.2)\n",
            "Requirement already satisfied: joblib>=1.2.0 in /usr/local/lib/python3.11/dist-packages (from scikit-learn==1.4.2) (1.4.2)\n",
            "Requirement already satisfied: threadpoolctl>=2.0.0 in /usr/local/lib/python3.11/dist-packages (from scikit-learn==1.4.2) (3.6.0)\n"
          ]
        }
      ],
      "source": [
        "! pip install scikit-learn==1.4.2"
      ]
    },
    {
      "cell_type": "markdown",
      "metadata": {
        "id": "3SslnAVUI_mE"
      },
      "source": [
        "# Setup"
      ]
    },
    {
      "cell_type": "code",
      "execution_count": 12,
      "metadata": {
        "colab": {
          "base_uri": "https://localhost:8080/"
        },
        "id": "MXJsJ4MsJA1C",
        "outputId": "85e83932-fdd4-4eb5-c95b-b92bcf7c183b"
      },
      "outputs": [
        {
          "output_type": "stream",
          "name": "stdout",
          "text": [
            "1.4.2\n"
          ]
        }
      ],
      "source": [
        "import sklearn\n",
        "print(sklearn.__version__)\n",
        "import pandas as pd\n",
        "import dowhy\n",
        "from dowhy import CausalModel, gcm\n",
        "import networkx as nx\n",
        "import numpy as np\n",
        "from dowhy.gcm.falsify import FalsifyConst, falsify_graph, plot_local_insights, run_validations, apply_suggestions\n",
        "from sklearn.ensemble import RandomForestRegressor\n",
        "from sklearn.linear_model import RidgeCV, Ridge\n",
        "from sklearn.pipeline import make_pipeline\n",
        "from sklearn.preprocessing import PolynomialFeatures\n",
        "import dowhy.gcm as gcm\n",
        "from dowhy.gcm.ml import SklearnRegressionModel\n",
        "from xgboost import XGBRegressor\n",
        "import mord\n",
        "\n",
        "from dowhy.gcm import AdditiveNoiseModel, EmpiricalDistribution\n",
        "from xgboost import XGBRegressor\n",
        "import mord\n"
      ]
    },
    {
      "cell_type": "code",
      "execution_count": 13,
      "metadata": {
        "colab": {
          "base_uri": "https://localhost:8080/"
        },
        "id": "CgG018CLJHK9",
        "outputId": "8254536f-403a-4688-a3a1-c25ab32ec000"
      },
      "outputs": [
        {
          "output_type": "stream",
          "name": "stdout",
          "text": [
            "['FOD_ID', 'FIRE_NAME', 'FIRE_SIZE', 'FIRE_SIZE_CLASS', 'FIRE_YEAR', 'DISCOVERY_DATE', 'CONT_DATE', 'DURATION_DAYS', 'STAT_CAUSE_DESCR', 'STATE', 'LATITUDE', 'LONGITUDE', 'DISCOVERY_DOY', 'date', 'dead_fuel_100', 'dead_fuel_1000', 'energy_release', 'humidity', 'max_temp_C', 'min_temp_C', 'precipitation', 'wind_speed', 'population_density', 'vegetation', 'drought_index']\n"
          ]
        }
      ],
      "source": [
        "data = pd.read_csv(\"long_2000_mean_fire_earth_data.csv\")\n",
        "print(data.columns.tolist())"
      ]
    },
    {
      "cell_type": "code",
      "execution_count": 14,
      "metadata": {
        "colab": {
          "base_uri": "https://localhost:8080/"
        },
        "id": "5QWdg3QrJM3Y",
        "outputId": "6ea15ef8-2562-4c9e-f75a-c954f1d911b9"
      },
      "outputs": [
        {
          "output_type": "stream",
          "name": "stdout",
          "text": [
            "['FIRE_SIZE', 'FIRE_SIZE_CLASS', 'CONT_DATE', 'DURATION_DAYS', 'DISCOVERY_DOY', 'dead_fuel_1000', 'energy_release', 'humidity', 'max_temp_C', 'min_temp_C', 'precipitation', 'wind_speed', 'population_density', 'vegetation', 'drought_index', 'temp_C', 'FIRE_SIZE_CLASS_NUM']\n"
          ]
        }
      ],
      "source": [
        "data['temp_C'] = (data['min_temp_C'] + data['max_temp_C'])/2\n",
        "drop_cols = ['FOD_ID', 'FIRE_NAME', 'FIRE_YEAR', 'DISCOVERY_DATE', 'STAT_CAUSE_DESCR', 'STATE', 'LATITUDE', 'LONGITUDE', 'date', 'dead_fuel_100']\n",
        "data = data.drop(columns=drop_cols)\n",
        "\n",
        "# Mapping dictionary\n",
        "class_mapping = {'A': 1, 'B': 2, 'C': 3, 'D': 4, 'E': 5, 'F': 6, 'G': 7, 'H': 8}\n",
        "\n",
        "# Apply the mapping\n",
        "data['FIRE_SIZE_CLASS_NUM'] = data['FIRE_SIZE_CLASS'].map(class_mapping)\n",
        "data = data.dropna()\n",
        "data_np = data.to_numpy()\n",
        "\n",
        "print(data.columns.tolist())"
      ]
    },
    {
      "cell_type": "code",
      "execution_count": 15,
      "metadata": {
        "colab": {
          "base_uri": "https://localhost:8080/"
        },
        "id": "yVsigoP4Jt1m",
        "outputId": "b4c6dac0-4d26-47a9-d88c-4e7f5c9e271a"
      },
      "outputs": [
        {
          "output_type": "stream",
          "name": "stdout",
          "text": [
            "['FIRE_SIZE_CLASS', 'humidity', 'precipitation', 'wind_speed', 'population_density', 'vegetation', 'temp_C']\n"
          ]
        }
      ],
      "source": [
        "ary_data = data.drop(columns=['dead_fuel_1000',\n",
        "                              'energy_release',\n",
        "                              #'population_density',\n",
        "                              'drought_index',\n",
        "                              #'vegetation',\n",
        "                              #'precipitation',\n",
        "                              #'wind_speed',\n",
        "                              'max_temp_C',\n",
        "                              'min_temp_C',\n",
        "                              'DISCOVERY_DOY',\n",
        "                              'CONT_DATE',\n",
        "                              'DURATION_DAYS',\n",
        "                              'FIRE_SIZE_CLASS_NUM',\n",
        "                              'FIRE_SIZE'\n",
        "                              ])\n",
        "ary_data = ary_data.dropna()\n",
        "ary_data_np = ary_data.to_numpy()\n",
        "print(ary_data.columns.tolist())"
      ]
    },
    {
      "cell_type": "markdown",
      "metadata": {
        "id": "PTo4jVroJ-83"
      },
      "source": [
        "# Polynomial Models"
      ]
    },
    {
      "cell_type": "code",
      "execution_count": 16,
      "metadata": {
        "id": "NblbgoXCKL8M"
      },
      "outputs": [],
      "source": [
        "# Define causal graph\n",
        "causal_graph = nx.DiGraph([\n",
        "    ('humidity','temp_C'),\n",
        "    ('humidity','wind_speed'),\n",
        "    ('humidity','precipitation'),\n",
        "    ('humidity','vegetation'),\n",
        "    ('humidity','FIRE_SIZE_CLASS'),\n",
        "\n",
        "    ('precipitation','wind_speed'),\n",
        "    ('precipitation','temp_C'),\n",
        "    ('precipitation','vegetation'),\n",
        "    ('precipitation','FIRE_SIZE_CLASS'),\n",
        "\n",
        "    ('wind_speed','temp_C'),\n",
        "    ('wind_speed','population_density'),\n",
        "    ('wind_speed','FIRE_SIZE_CLASS'),\n",
        "\n",
        "    ('temp_C','vegetation'),\n",
        "    ('temp_C','population_density'),\n",
        "    ('temp_C','FIRE_SIZE_CLASS'),\n",
        "\n",
        "    ('population_density','vegetation'),\n",
        "    ('population_density','FIRE_SIZE_CLASS'),\n",
        "\n",
        "    ('vegetation','FIRE_SIZE_CLASS'),\n",
        "])"
      ]
    },
    {
      "cell_type": "markdown",
      "metadata": {
        "id": "op0ww6wEKBYL"
      },
      "source": [
        "## Linear Model (n=1)"
      ]
    },
    {
      "cell_type": "code",
      "execution_count": 17,
      "metadata": {
        "colab": {
          "base_uri": "https://localhost:8080/"
        },
        "id": "ly_5oVV6KAsO",
        "outputId": "08e2d8c4-f2f1-45a9-abad-bc4fe5491e6f"
      },
      "outputs": [
        {
          "output_type": "stream",
          "name": "stdout",
          "text": [
            "When using this auto assignment function, the given data is used to automatically assign a causal mechanism to each node. Note that causal mechanisms can also be customized and assigned manually.\n",
            "The following types of causal mechanisms are considered for the automatic selection:\n",
            "\n",
            "If root node:\n",
            "An empirical distribution, i.e., the distribution is represented by randomly sampling from the provided data. This provides a flexible and non-parametric way to model the marginal distribution and is valid for all types of data modalities.\n",
            "\n",
            "If non-root node and the data is continuous:\n",
            "Additive Noise Models (ANM) of the form X_i = f(PA_i) + N_i, where PA_i are the parents of X_i and the unobserved noise N_i is assumed to be independent of PA_i.To select the best model for f, different regression models are evaluated and the model with the smallest mean squared error is selected.Note that minimizing the mean squared error here is equivalent to selecting the best choice of an ANM.\n",
            "\n",
            "If non-root node and the data is discrete:\n",
            "Discrete Additive Noise Models have almost the same definition as non-discrete ANMs, but come with an additional constraint for f to only return discrete values.\n",
            "Note that 'discrete' here refers to numerical values with an order. If the data is categorical, consider representing them as strings to ensure proper model selection.\n",
            "\n",
            "If non-root node and the data is categorical:\n",
            "A functional causal model based on a classifier, i.e., X_i = f(PA_i, N_i).\n",
            "Here, N_i follows a uniform distribution on [0, 1] and is used to randomly sample a class (category) using the conditional probability distribution produced by a classification model.Here, different model classes are evaluated using the (negative) F1 score and the best performing model class is selected.\n",
            "\n",
            "In total, 7 nodes were analyzed:\n",
            "\n",
            "--- Node: humidity\n",
            "Node humidity is a root node. Therefore, assigning 'Empirical Distribution' to the node representing the marginal distribution.\n",
            "\n",
            "--- Node: precipitation\n",
            "Node precipitation is a non-root node with continuous data. Assigning 'AdditiveNoiseModel using LinearRegression' to the node.\n",
            "This represents the causal relationship as precipitation := f(humidity) + N.\n",
            "For the model selection, the following models were evaluated on the mean squared error (MSE) metric:\n",
            "LinearRegression: 11.256542037088746\n",
            "Pipeline(steps=[('polynomialfeatures', PolynomialFeatures(include_bias=False)),\n",
            "                ('linearregression', LinearRegression)]): 11.257897446450745\n",
            "HistGradientBoostingRegressor: 11.274244623525194\n",
            "\n",
            "--- Node: wind_speed\n",
            "Node wind_speed is a non-root node with continuous data. Assigning 'AdditiveNoiseModel using HistGradientBoostingRegressor' to the node.\n",
            "This represents the causal relationship as wind_speed := f(humidity,precipitation) + N.\n",
            "For the model selection, the following models were evaluated on the mean squared error (MSE) metric:\n",
            "HistGradientBoostingRegressor: 2.088697712116985\n",
            "Pipeline(steps=[('polynomialfeatures', PolynomialFeatures(include_bias=False)),\n",
            "                ('linearregression', LinearRegression)]): 2.114207015266836\n",
            "LinearRegression: 2.18636959801903\n",
            "\n",
            "--- Node: temp_C\n",
            "Node temp_C is a non-root node with continuous data. Assigning 'AdditiveNoiseModel using HistGradientBoostingRegressor' to the node.\n",
            "This represents the causal relationship as temp_C := f(humidity,precipitation,wind_speed) + N.\n",
            "For the model selection, the following models were evaluated on the mean squared error (MSE) metric:\n",
            "HistGradientBoostingRegressor: 24.15642250730394\n",
            "Pipeline(steps=[('polynomialfeatures', PolynomialFeatures(include_bias=False)),\n",
            "                ('linearregression', LinearRegression)]): 25.14025722512567\n",
            "LinearRegression: 27.012973398307373\n",
            "\n",
            "--- Node: population_density\n",
            "Node population_density is a non-root node with continuous data. Assigning 'AdditiveNoiseModel using Pipeline' to the node.\n",
            "This represents the causal relationship as population_density := f(temp_C,wind_speed) + N.\n",
            "For the model selection, the following models were evaluated on the mean squared error (MSE) metric:\n",
            "Pipeline(steps=[('polynomialfeatures', PolynomialFeatures(include_bias=False)),\n",
            "                ('linearregression', LinearRegression)]): 803739.4975607812\n",
            "HistGradientBoostingRegressor: 804091.4745672604\n",
            "LinearRegression: 804355.1720745853\n",
            "\n",
            "--- Node: vegetation\n",
            "Node vegetation is a non-root node with discrete data. Assigning 'Discrete AdditiveNoiseModel using HistGradientBoostingRegressor' to the node.\n",
            "This represents the discrete causal relationship as vegetation := f(humidity,population_density,precipitation,temp_C) + N.\n",
            "For the model selection, the following models were evaluated on the mean squared error (MSE) metric:\n",
            "HistGradientBoostingRegressor: 866424.4179562023\n",
            "LinearRegression: 1015572.0336488008\n",
            "Pipeline(steps=[('polynomialfeatures', PolynomialFeatures(include_bias=False)),\n",
            "                ('linearregression', LinearRegression)]): 279178217.40210676\n",
            "\n",
            "--- Node: FIRE_SIZE_CLASS\n",
            "Node FIRE_SIZE_CLASS is a non-root node with categorical data. Assigning 'Classifier FCM based on HistGradientBoostingClassifier()' to the node.\n",
            "This represents the causal relationship as FIRE_SIZE_CLASS := f(humidity,population_density,precipitation,temp_C,vegetation,wind_speed,N).\n",
            "For the model selection, the following models were evaluated on the (negative) F1 metric:\n",
            "HistGradientBoostingClassifier: -0.17818724129228414\n",
            "LogisticRegression(max_iter=10000): -0.13069663334880524\n",
            "\n",
            "===Note===\n",
            "Note, based on the selected auto assignment quality, the set of evaluated models changes.\n",
            "For more insights toward the quality of the fitted graphical causal model, consider using the evaluate_causal_model function after fitting the causal mechanisms.\n"
          ]
        }
      ],
      "source": [
        "# Create causal model\n",
        "causal_model_1 = gcm.StructuralCausalModel(causal_graph)\n",
        "auto_assignment_summary = gcm.auto.assign_causal_mechanisms(causal_model_1, ary_data)\n",
        "print(auto_assignment_summary)"
      ]
    },
    {
      "cell_type": "code",
      "execution_count": 18,
      "metadata": {
        "colab": {
          "base_uri": "https://localhost:8080/",
          "height": 1000
        },
        "id": "oMKDQhpaJ8v1",
        "outputId": "ea8c8015-ab59-45ef-bb46-2f47f6785e57"
      },
      "outputs": [
        {
          "output_type": "stream",
          "name": "stderr",
          "text": [
            "Fitting causal mechanism of node population_density: 100%|██████████| 7/7 [00:07<00:00,  1.01s/it]\n",
            "Evaluating causal mechanisms...: 100%|██████████| 7/7 [02:01<00:00, 17.31s/it]\n",
            "Test permutations of given graph: 100%|██████████| 50/50 [00:37<00:00,  1.32it/s]\n"
          ]
        },
        {
          "output_type": "display_data",
          "data": {
            "text/plain": [
              "<Figure size 800x300 with 1 Axes>"
            ],
            "image/png": "[encoded data removed]"
          },
          "metadata": {}
        },
        {
          "output_type": "stream",
          "name": "stdout",
          "text": [
            "Evaluated the performance of the causal mechanisms and the invertibility assumption of the causal mechanisms and the overall average KL divergence between generated and observed distribution and the graph structure. The results are as follows:\n",
            "\n",
            "==== Evaluation of Causal Mechanisms ====\n",
            "The used evaluation metrics are:\n",
            "- KL divergence (only for root-nodes): Evaluates the divergence between the generated and the observed distribution.\n",
            "- Mean Squared Error (MSE): Evaluates the average squared differences between the observed values and the conditional expectation of the causal mechanisms.\n",
            "- Normalized MSE (NMSE): The MSE normalized by the standard deviation for better comparison.\n",
            "- R2 coefficient: Indicates how much variance is explained by the conditional expectations of the mechanisms. Note, however, that this can be misleading for nonlinear relationships.\n",
            "- F1 score (only for categorical non-root nodes): The harmonic mean of the precision and recall indicating the goodness of the underlying classifier model.\n",
            "- (normalized) Continuous Ranked Probability Score (CRPS): The CRPS generalizes the Mean Absolute Percentage Error to probabilistic predictions. This gives insights into the accuracy and calibration of the causal mechanisms.\n",
            "NOTE: Every metric focuses on different aspects and they might not consistently indicate a good or bad performance.\n",
            "We will mostly utilize the CRPS for comparing and interpreting the performance of the mechanisms, since this captures the most important properties for the causal model.\n",
            "\n",
            "--- Node humidity\n",
            "- The KL divergence between generated and observed distribution is 0.00909545889439975.\n",
            "The estimated KL divergence indicates an overall very good representation of the data distribution.\n",
            "\n",
            "--- Node precipitation\n",
            "- The MSE is 11.24808008619502.\n",
            "- The NMSE is 0.9670981721842946.\n",
            "- The R2 coefficient is 0.06471426984334275.\n",
            "- The normalized CRPS is 0.3564816742139068.\n",
            "The estimated CRPS indicates only a fair model performance. Note, however, that a high CRPS could also result from a small signal to noise ratio.\n",
            "\n",
            "--- Node wind_speed\n",
            "- The MSE is 2.0558345473884785.\n",
            "- The NMSE is 0.9574391809027137.\n",
            "- The R2 coefficient is 0.08330903526036418.\n",
            "- The normalized CRPS is 0.5143531398576566.\n",
            "The estimated CRPS indicates only a fair model performance. Note, however, that a high CRPS could also result from a small signal to noise ratio.\n",
            "\n",
            "--- Node temp_C\n",
            "- The MSE is 22.890163242736275.\n",
            "- The NMSE is 0.7263923490742277.\n",
            "- The R2 coefficient is 0.47227187777428065.\n",
            "- The normalized CRPS is 0.40709488917131653.\n",
            "The estimated CRPS indicates only a fair model performance. Note, however, that a high CRPS could also result from a small signal to noise ratio.\n",
            "\n",
            "--- Node population_density\n",
            "- The MSE is 776447.8984701012.\n",
            "- The NMSE is 0.9899789159130554.\n",
            "- The R2 coefficient is 0.01993260610709884.\n",
            "- The normalized CRPS is 0.16181784187874107.\n",
            "The estimated CRPS indicates a very good model performance.\n",
            "\n",
            "--- Node vegetation\n",
            "- The MSE is 794440.7383258296.\n",
            "- The NMSE is 0.8119989513837036.\n",
            "- The R2 coefficient is 0.3406287497420724.\n",
            "- The normalized CRPS is 0.455842152057026.\n",
            "The estimated CRPS indicates only a fair model performance. Note, however, that a high CRPS could also result from a small signal to noise ratio.\n",
            "\n",
            "--- Node FIRE_SIZE_CLASS\n",
            "- The F1 score is 0.18534648670719422.\n",
            "- The normalized CRPS is 0.09902552141601653.\n",
            "The estimated CRPS indicates a very good model performance.\n",
            "\n",
            "==== Evaluation of Invertible Functional Causal Model Assumption ====\n",
            "\n",
            "--- The model assumption for node temp_C is rejected with a p-value of 0.04801413796537701 (after potential adjustment) and a significance level of 0.05.\n",
            "This implies that the model assumption might not be valid. This is, the relationship cannot be represent with this type of mechanism or there is a hidden confounder between the node and its parents.\n",
            "\n",
            "--- The model assumption for node wind_speed is rejected with a p-value of 0.0 (after potential adjustment) and a significance level of 0.05.\n",
            "This implies that the model assumption might not be valid. This is, the relationship cannot be represent with this type of mechanism or there is a hidden confounder between the node and its parents.\n",
            "\n",
            "--- The model assumption for node precipitation is rejected with a p-value of 1.8348977892657103e-07 (after potential adjustment) and a significance level of 0.05.\n",
            "This implies that the model assumption might not be valid. This is, the relationship cannot be represent with this type of mechanism or there is a hidden confounder between the node and its parents.\n",
            "\n",
            "--- The model assumption for node vegetation is not rejected with a p-value of 1.0 (after potential adjustment) and a significance level of 0.05.\n",
            "This implies that the model assumption might be valid.\n",
            "\n",
            "--- The model assumption for node population_density is not rejected with a p-value of 1.0 (after potential adjustment) and a significance level of 0.05.\n",
            "This implies that the model assumption might be valid.\n",
            "\n",
            "Note that these results are based on statistical independence tests, and the fact that the assumption was not rejected does not necessarily imply that it is correct. There is just no evidence against it.\n",
            "\n",
            "==== Evaluation of Generated Distribution ====\n",
            "The overall average KL divergence between the generated and observed distribution is 1.8910967284277749\n",
            "The estimated KL divergence indicates some significant mismatches between the distributions.\n",
            "\n",
            "==== Evaluation of the Causal Graph Structure ====\n",
            "+-------------------------------------------------------------------------------------------------------+\n",
            "|                                         Falsification Summary                                         |\n",
            "+-------------------------------------------------------------------------------------------------------+\n",
            "| The given DAG is informative because 0 / 50 of the permutations lie in the Markov                     |\n",
            "| equivalence class of the given DAG (p-value: 0.00).                                                   |\n",
            "| The given DAG violates 0/3 LMCs and is better than 98.0% of the permuted DAGs (p-value: 0.02).        |\n",
            "| Based on the provided significance level (0.2) and because the DAG is informative,                    |\n",
            "| we do not reject the DAG.                                                                             |\n",
            "+-------------------------------------------------------------------------------------------------------+\n",
            "\n",
            "==== NOTE ====\n",
            "Always double check the made model assumptions with respect to the graph structure and choice of causal mechanisms.\n",
            "All these evaluations give some insight into the goodness of the causal model, but should not be overinterpreted, since some causal relationships can be intrinsically hard to model. Furthermore, many algorithms are fairly robust against misspecifications or poor performances of causal mechanisms.\n"
          ]
        }
      ],
      "source": [
        "# Fit and evaluate\n",
        "gcm.fit(causal_model_1, ary_data)\n",
        "evaluation = gcm.evaluate_causal_model(causal_model_1, ary_data)\n",
        "print(evaluation)"
      ]
    },
    {
      "cell_type": "markdown",
      "metadata": {
        "id": "gGRysY0PKcnb"
      },
      "source": [
        "## General Polynomial Model"
      ]
    },
    {
      "cell_type": "code",
      "execution_count": 35,
      "metadata": {
        "id": "qlgUQ4GDKcDK"
      },
      "outputs": [],
      "source": [
        "from sklearn.pipeline import make_pipeline\n",
        "from sklearn.preprocessing import PolynomialFeatures\n",
        "from sklearn.linear_model import LinearRegression\n",
        "from dowhy.gcm import AdditiveNoiseModel\n",
        "from dowhy.gcm.ml import SklearnRegressionModel\n",
        "\n",
        "def set_polynomial_mechanisms(causal_model, data, degree=2):\n",
        "    auto_assignment_summary = gcm.auto.assign_causal_mechanisms(causal_model, data, override_models=True)\n",
        "    print(auto_assignment_summary)\n",
        "    for node in causal_model.graph.nodes:\n",
        "        parents = list(causal_model.graph.predecessors(node))\n",
        "\n",
        "        print(node)\n",
        "\n",
        "        if not parents:\n",
        "            # Root node — empirical distribution\n",
        "            causal_model.set_causal_mechanism(node, gcm.EmpiricalDistribution())\n",
        "        elif not (node == 'FIRE_SIZE_CLASS'):\n",
        "            # Internal node — polynomial regression\n",
        "            poly_model = make_pipeline(\n",
        "                PolynomialFeatures(degree=degree, include_bias=False),\n",
        "                LinearRegression()\n",
        "            )\n",
        "            causal_model.set_causal_mechanism(node, AdditiveNoiseModel(SklearnRegressionModel(poly_model)))"
      ]
    },
    {
      "cell_type": "markdown",
      "metadata": {
        "id": "kqVCi7TCNF56"
      },
      "source": [
        "### Quadratic Model (n=2)"
      ]
    },
    {
      "cell_type": "code",
      "execution_count": 36,
      "metadata": {
        "colab": {
          "base_uri": "https://localhost:8080/",
          "height": 1000
        },
        "id": "v0XZKUTGLDSi",
        "outputId": "a8375b4b-3809-4815-d061-ff0bfa41f77f"
      },
      "outputs": [
        {
          "output_type": "stream",
          "name": "stdout",
          "text": [
            "When using this auto assignment function, the given data is used to automatically assign a causal mechanism to each node. Note that causal mechanisms can also be customized and assigned manually.\n",
            "The following types of causal mechanisms are considered for the automatic selection:\n",
            "\n",
            "If root node:\n",
            "An empirical distribution, i.e., the distribution is represented by randomly sampling from the provided data. This provides a flexible and non-parametric way to model the marginal distribution and is valid for all types of data modalities.\n",
            "\n",
            "If non-root node and the data is continuous:\n",
            "Additive Noise Models (ANM) of the form X_i = f(PA_i) + N_i, where PA_i are the parents of X_i and the unobserved noise N_i is assumed to be independent of PA_i.To select the best model for f, different regression models are evaluated and the model with the smallest mean squared error is selected.Note that minimizing the mean squared error here is equivalent to selecting the best choice of an ANM.\n",
            "\n",
            "If non-root node and the data is discrete:\n",
            "Discrete Additive Noise Models have almost the same definition as non-discrete ANMs, but come with an additional constraint for f to only return discrete values.\n",
            "Note that 'discrete' here refers to numerical values with an order. If the data is categorical, consider representing them as strings to ensure proper model selection.\n",
            "\n",
            "If non-root node and the data is categorical:\n",
            "A functional causal model based on a classifier, i.e., X_i = f(PA_i, N_i).\n",
            "Here, N_i follows a uniform distribution on [0, 1] and is used to randomly sample a class (category) using the conditional probability distribution produced by a classification model.Here, different model classes are evaluated using the (negative) F1 score and the best performing model class is selected.\n",
            "\n",
            "In total, 7 nodes were analyzed:\n",
            "\n",
            "--- Node: humidity\n",
            "Node humidity is a root node. Therefore, assigning 'Empirical Distribution' to the node representing the marginal distribution.\n",
            "\n",
            "--- Node: precipitation\n",
            "Node precipitation is a non-root node with continuous data. Assigning 'AdditiveNoiseModel using LinearRegression' to the node.\n",
            "This represents the causal relationship as precipitation := f(humidity) + N.\n",
            "For the model selection, the following models were evaluated on the mean squared error (MSE) metric:\n",
            "LinearRegression: 11.25549751043708\n",
            "Pipeline(steps=[('polynomialfeatures', PolynomialFeatures(include_bias=False)),\n",
            "                ('linearregression', LinearRegression)]): 11.258083215046153\n",
            "HistGradientBoostingRegressor: 11.270128034205452\n",
            "\n",
            "--- Node: wind_speed\n",
            "Node wind_speed is a non-root node with continuous data. Assigning 'AdditiveNoiseModel using HistGradientBoostingRegressor' to the node.\n",
            "This represents the causal relationship as wind_speed := f(humidity,precipitation) + N.\n",
            "For the model selection, the following models were evaluated on the mean squared error (MSE) metric:\n",
            "HistGradientBoostingRegressor: 2.0917842682790573\n",
            "Pipeline(steps=[('polynomialfeatures', PolynomialFeatures(include_bias=False)),\n",
            "                ('linearregression', LinearRegression)]): 2.1148519684060267\n",
            "LinearRegression: 2.1864180565289253\n",
            "\n",
            "--- Node: temp_C\n",
            "Node temp_C is a non-root node with continuous data. Assigning 'AdditiveNoiseModel using HistGradientBoostingRegressor' to the node.\n",
            "This represents the causal relationship as temp_C := f(humidity,precipitation,wind_speed) + N.\n",
            "For the model selection, the following models were evaluated on the mean squared error (MSE) metric:\n",
            "HistGradientBoostingRegressor: 24.1599321934382\n",
            "Pipeline(steps=[('polynomialfeatures', PolynomialFeatures(include_bias=False)),\n",
            "                ('linearregression', LinearRegression)]): 25.149645172861774\n",
            "LinearRegression: 27.01672517027244\n",
            "\n",
            "--- Node: population_density\n",
            "Node population_density is a non-root node with continuous data. Assigning 'AdditiveNoiseModel using Pipeline' to the node.\n",
            "This represents the causal relationship as population_density := f(temp_C,wind_speed) + N.\n",
            "For the model selection, the following models were evaluated on the mean squared error (MSE) metric:\n",
            "Pipeline(steps=[('polynomialfeatures', PolynomialFeatures(include_bias=False)),\n",
            "                ('linearregression', LinearRegression)]): 803721.5058045869\n",
            "HistGradientBoostingRegressor: 804025.0765238062\n",
            "LinearRegression: 804359.9805873669\n",
            "\n",
            "--- Node: vegetation\n",
            "Node vegetation is a non-root node with discrete data. Assigning 'Discrete AdditiveNoiseModel using HistGradientBoostingRegressor' to the node.\n",
            "This represents the discrete causal relationship as vegetation := f(humidity,population_density,precipitation,temp_C) + N.\n",
            "For the model selection, the following models were evaluated on the mean squared error (MSE) metric:\n",
            "HistGradientBoostingRegressor: 867028.8421636509\n",
            "LinearRegression: 1013727.8808699138\n",
            "Pipeline(steps=[('polynomialfeatures', PolynomialFeatures(include_bias=False)),\n",
            "                ('linearregression', LinearRegression)]): 273948203.9911358\n",
            "\n",
            "--- Node: FIRE_SIZE_CLASS\n",
            "Node FIRE_SIZE_CLASS is a non-root node with categorical data. Assigning 'Classifier FCM based on HistGradientBoostingClassifier()' to the node.\n",
            "This represents the causal relationship as FIRE_SIZE_CLASS := f(humidity,population_density,precipitation,temp_C,vegetation,wind_speed,N).\n",
            "For the model selection, the following models were evaluated on the (negative) F1 metric:\n",
            "HistGradientBoostingClassifier: -0.17941166844119988\n",
            "LogisticRegression(max_iter=10000): -0.13034259487101313\n",
            "\n",
            "===Note===\n",
            "Note, based on the selected auto assignment quality, the set of evaluated models changes.\n",
            "For more insights toward the quality of the fitted graphical causal model, consider using the evaluate_causal_model function after fitting the causal mechanisms.\n",
            "humidity\n",
            "temp_C\n",
            "wind_speed\n",
            "precipitation\n",
            "vegetation\n",
            "FIRE_SIZE_CLASS\n",
            "population_density\n"
          ]
        },
        {
          "output_type": "stream",
          "name": "stderr",
          "text": [
            "Fitting causal mechanism of node population_density: 100%|██████████| 7/7 [00:03<00:00,  2.27it/s]\n",
            "Evaluating causal mechanisms...: 100%|██████████| 7/7 [00:41<00:00,  5.92s/it]\n",
            "Test permutations of given graph: 100%|██████████| 50/50 [00:36<00:00,  1.35it/s]\n"
          ]
        },
        {
          "output_type": "display_data",
          "data": {
            "text/plain": [
              "<Figure size 800x300 with 1 Axes>"
            ],
            "image/png": "[encoded data removed]"
          },
          "metadata": {}
        },
        {
          "output_type": "stream",
          "name": "stdout",
          "text": [
            "Evaluated the performance of the causal mechanisms and the invertibility assumption of the causal mechanisms and the overall average KL divergence between generated and observed distribution and the graph structure. The results are as follows:\n",
            "\n",
            "==== Evaluation of Causal Mechanisms ====\n",
            "The used evaluation metrics are:\n",
            "- KL divergence (only for root-nodes): Evaluates the divergence between the generated and the observed distribution.\n",
            "- Mean Squared Error (MSE): Evaluates the average squared differences between the observed values and the conditional expectation of the causal mechanisms.\n",
            "- Normalized MSE (NMSE): The MSE normalized by the standard deviation for better comparison.\n",
            "- R2 coefficient: Indicates how much variance is explained by the conditional expectations of the mechanisms. Note, however, that this can be misleading for nonlinear relationships.\n",
            "- F1 score (only for categorical non-root nodes): The harmonic mean of the precision and recall indicating the goodness of the underlying classifier model.\n",
            "- (normalized) Continuous Ranked Probability Score (CRPS): The CRPS generalizes the Mean Absolute Percentage Error to probabilistic predictions. This gives insights into the accuracy and calibration of the causal mechanisms.\n",
            "NOTE: Every metric focuses on different aspects and they might not consistently indicate a good or bad performance.\n",
            "We will mostly utilize the CRPS for comparing and interpreting the performance of the mechanisms, since this captures the most important properties for the causal model.\n",
            "\n",
            "--- Node humidity\n",
            "- The KL divergence between generated and observed distribution is 0.035684658201861834.\n",
            "The estimated KL divergence indicates an overall very good representation of the data distribution.\n",
            "\n",
            "--- Node precipitation\n",
            "- The MSE is 11.254069259399758.\n",
            "- The NMSE is 0.9673738257701245.\n",
            "- The R2 coefficient is 0.06416065649487852.\n",
            "- The normalized CRPS is 0.3564739956251548.\n",
            "The estimated CRPS indicates only a fair model performance. Note, however, that a high CRPS could also result from a small signal to noise ratio.\n",
            "\n",
            "--- Node wind_speed\n",
            "- The MSE is 2.092476581269892.\n",
            "- The NMSE is 0.9659334844013205.\n",
            "- The R2 coefficient is 0.0669637192624829.\n",
            "- The normalized CRPS is 0.5180842389079149.\n",
            "The estimated CRPS indicates only a fair model performance. Note, however, that a high CRPS could also result from a small signal to noise ratio.\n",
            "\n",
            "--- Node temp_C\n",
            "- The MSE is 24.13669232748729.\n",
            "- The NMSE is 0.7458424225970729.\n",
            "- The R2 coefficient is 0.4437095077926211.\n",
            "- The normalized CRPS is 0.41914316724298073.\n",
            "The estimated CRPS indicates only a fair model performance. Note, however, that a high CRPS could also result from a small signal to noise ratio.\n",
            "\n",
            "--- Node population_density\n",
            "- The MSE is 776479.730059417.\n",
            "- The NMSE is 0.9902601839378906.\n",
            "- The R2 coefficient is 0.019378417855173358.\n",
            "- The normalized CRPS is 0.1613102095623784.\n",
            "The estimated CRPS indicates a very good model performance.\n",
            "\n",
            "--- Node vegetation\n",
            "- The MSE is 942091.0375600677.\n",
            "- The NMSE is 0.8841907448884534.\n",
            "- The R2 coefficient is 0.2181686283126147.\n",
            "- The normalized CRPS is 0.49713073060734825.\n",
            "The estimated CRPS indicates only a fair model performance. Note, however, that a high CRPS could also result from a small signal to noise ratio.\n",
            "\n",
            "--- Node FIRE_SIZE_CLASS\n",
            "- The F1 score is 0.18338348552422715.\n",
            "- The normalized CRPS is 0.09889239219914375.\n",
            "The estimated CRPS indicates a very good model performance.\n",
            "\n",
            "==== Evaluation of Invertible Functional Causal Model Assumption ====\n",
            "\n",
            "--- The model assumption for node temp_C is rejected with a p-value of 0.02274744660660799 (after potential adjustment) and a significance level of 0.05.\n",
            "This implies that the model assumption might not be valid. This is, the relationship cannot be represent with this type of mechanism or there is a hidden confounder between the node and its parents.\n",
            "\n",
            "--- The model assumption for node wind_speed is rejected with a p-value of 2.886579864025407e-13 (after potential adjustment) and a significance level of 0.05.\n",
            "This implies that the model assumption might not be valid. This is, the relationship cannot be represent with this type of mechanism or there is a hidden confounder between the node and its parents.\n",
            "\n",
            "--- The model assumption for node precipitation is rejected with a p-value of 7.930449291704278e-06 (after potential adjustment) and a significance level of 0.05.\n",
            "This implies that the model assumption might not be valid. This is, the relationship cannot be represent with this type of mechanism or there is a hidden confounder between the node and its parents.\n",
            "\n",
            "--- The model assumption for node vegetation is not rejected with a p-value of 0.650790696173717 (after potential adjustment) and a significance level of 0.05.\n",
            "This implies that the model assumption might be valid.\n",
            "\n",
            "--- The model assumption for node population_density is not rejected with a p-value of 1.0 (after potential adjustment) and a significance level of 0.05.\n",
            "This implies that the model assumption might be valid.\n",
            "\n",
            "Note that these results are based on statistical independence tests, and the fact that the assumption was not rejected does not necessarily imply that it is correct. There is just no evidence against it.\n",
            "\n",
            "==== Evaluation of Generated Distribution ====\n",
            "The overall average KL divergence between the generated and observed distribution is 1.576547131834399\n",
            "The estimated KL divergence indicates some significant mismatches between the distributions.\n",
            "\n",
            "==== Evaluation of the Causal Graph Structure ====\n",
            "+-------------------------------------------------------------------------------------------------------+\n",
            "|                                         Falsification Summary                                         |\n",
            "+-------------------------------------------------------------------------------------------------------+\n",
            "| The given DAG is informative because 0 / 50 of the permutations lie in the Markov                     |\n",
            "| equivalence class of the given DAG (p-value: 0.00).                                                   |\n",
            "| The given DAG violates 0/3 LMCs and is better than 98.0% of the permuted DAGs (p-value: 0.02).        |\n",
            "| Based on the provided significance level (0.2) and because the DAG is informative,                    |\n",
            "| we do not reject the DAG.                                                                             |\n",
            "+-------------------------------------------------------------------------------------------------------+\n",
            "\n",
            "==== NOTE ====\n",
            "Always double check the made model assumptions with respect to the graph structure and choice of causal mechanisms.\n",
            "All these evaluations give some insight into the goodness of the causal model, but should not be overinterpreted, since some causal relationships can be intrinsically hard to model. Furthermore, many algorithms are fairly robust against misspecifications or poor performances of causal mechanisms.\n"
          ]
        }
      ],
      "source": [
        "causal_model_2 = gcm.StructuralCausalModel(causal_graph)\n",
        "set_polynomial_mechanisms(causal_model_2, ary_data, degree=2)\n",
        "\n",
        "gcm.fit(causal_model_2, ary_data)\n",
        "evaluation = gcm.evaluate_causal_model(causal_model_2, ary_data)\n",
        "print(evaluation)\n"
      ]
    },
    {
      "cell_type": "markdown",
      "metadata": {
        "id": "ujJGVJxyNQES"
      },
      "source": [
        "### Cubic Model (n=3)"
      ]
    },
    {
      "cell_type": "code",
      "execution_count": 37,
      "metadata": {
        "colab": {
          "base_uri": "https://localhost:8080/",
          "height": 1000
        },
        "id": "Hw9g-SDGNncr",
        "outputId": "8ad4b7e7-e7fc-4f77-ed3d-702f11e1d9a2"
      },
      "outputs": [
        {
          "output_type": "stream",
          "name": "stdout",
          "text": [
            "When using this auto assignment function, the given data is used to automatically assign a causal mechanism to each node. Note that causal mechanisms can also be customized and assigned manually.\n",
            "The following types of causal mechanisms are considered for the automatic selection:\n",
            "\n",
            "If root node:\n",
            "An empirical distribution, i.e., the distribution is represented by randomly sampling from the provided data. This provides a flexible and non-parametric way to model the marginal distribution and is valid for all types of data modalities.\n",
            "\n",
            "If non-root node and the data is continuous:\n",
            "Additive Noise Models (ANM) of the form X_i = f(PA_i) + N_i, where PA_i are the parents of X_i and the unobserved noise N_i is assumed to be independent of PA_i.To select the best model for f, different regression models are evaluated and the model with the smallest mean squared error is selected.Note that minimizing the mean squared error here is equivalent to selecting the best choice of an ANM.\n",
            "\n",
            "If non-root node and the data is discrete:\n",
            "Discrete Additive Noise Models have almost the same definition as non-discrete ANMs, but come with an additional constraint for f to only return discrete values.\n",
            "Note that 'discrete' here refers to numerical values with an order. If the data is categorical, consider representing them as strings to ensure proper model selection.\n",
            "\n",
            "If non-root node and the data is categorical:\n",
            "A functional causal model based on a classifier, i.e., X_i = f(PA_i, N_i).\n",
            "Here, N_i follows a uniform distribution on [0, 1] and is used to randomly sample a class (category) using the conditional probability distribution produced by a classification model.Here, different model classes are evaluated using the (negative) F1 score and the best performing model class is selected.\n",
            "\n",
            "In total, 7 nodes were analyzed:\n",
            "\n",
            "--- Node: humidity\n",
            "Node humidity is a root node. Therefore, assigning 'Empirical Distribution' to the node representing the marginal distribution.\n",
            "\n",
            "--- Node: precipitation\n",
            "Node precipitation is a non-root node with continuous data. Assigning 'AdditiveNoiseModel using LinearRegression' to the node.\n",
            "This represents the causal relationship as precipitation := f(humidity) + N.\n",
            "For the model selection, the following models were evaluated on the mean squared error (MSE) metric:\n",
            "LinearRegression: 11.255829708946106\n",
            "Pipeline(steps=[('polynomialfeatures', PolynomialFeatures(include_bias=False)),\n",
            "                ('linearregression', LinearRegression)]): 11.25757625722254\n",
            "HistGradientBoostingRegressor: 11.273744527458694\n",
            "\n",
            "--- Node: wind_speed\n",
            "Node wind_speed is a non-root node with continuous data. Assigning 'AdditiveNoiseModel using HistGradientBoostingRegressor' to the node.\n",
            "This represents the causal relationship as wind_speed := f(humidity,precipitation) + N.\n",
            "For the model selection, the following models were evaluated on the mean squared error (MSE) metric:\n",
            "HistGradientBoostingRegressor: 2.090026384851455\n",
            "Pipeline(steps=[('polynomialfeatures', PolynomialFeatures(include_bias=False)),\n",
            "                ('linearregression', LinearRegression)]): 2.1147157918865425\n",
            "LinearRegression: 2.186030875065957\n",
            "\n",
            "--- Node: temp_C\n",
            "Node temp_C is a non-root node with continuous data. Assigning 'AdditiveNoiseModel using HistGradientBoostingRegressor' to the node.\n",
            "This represents the causal relationship as temp_C := f(humidity,precipitation,wind_speed) + N.\n",
            "For the model selection, the following models were evaluated on the mean squared error (MSE) metric:\n",
            "HistGradientBoostingRegressor: 24.19589171144\n",
            "Pipeline(steps=[('polynomialfeatures', PolynomialFeatures(include_bias=False)),\n",
            "                ('linearregression', LinearRegression)]): 25.173403812548834\n",
            "LinearRegression: 27.01187350636284\n",
            "\n",
            "--- Node: population_density\n",
            "Node population_density is a non-root node with continuous data. Assigning 'AdditiveNoiseModel using Pipeline' to the node.\n",
            "This represents the causal relationship as population_density := f(temp_C,wind_speed) + N.\n",
            "For the model selection, the following models were evaluated on the mean squared error (MSE) metric:\n",
            "Pipeline(steps=[('polynomialfeatures', PolynomialFeatures(include_bias=False)),\n",
            "                ('linearregression', LinearRegression)]): 803725.9774863601\n",
            "HistGradientBoostingRegressor: 803986.615889911\n",
            "LinearRegression: 804358.3801705968\n",
            "\n",
            "--- Node: vegetation\n",
            "Node vegetation is a non-root node with discrete data. Assigning 'Discrete AdditiveNoiseModel using HistGradientBoostingRegressor' to the node.\n",
            "This represents the discrete causal relationship as vegetation := f(humidity,population_density,precipitation,temp_C) + N.\n",
            "For the model selection, the following models were evaluated on the mean squared error (MSE) metric:\n",
            "HistGradientBoostingRegressor: 866944.9526442497\n",
            "LinearRegression: 1013985.5463693505\n",
            "Pipeline(steps=[('polynomialfeatures', PolynomialFeatures(include_bias=False)),\n",
            "                ('linearregression', LinearRegression)]): 275837607.651666\n",
            "\n",
            "--- Node: FIRE_SIZE_CLASS\n",
            "Node FIRE_SIZE_CLASS is a non-root node with categorical data. Assigning 'Classifier FCM based on HistGradientBoostingClassifier()' to the node.\n",
            "This represents the causal relationship as FIRE_SIZE_CLASS := f(humidity,population_density,precipitation,temp_C,vegetation,wind_speed,N).\n",
            "For the model selection, the following models were evaluated on the (negative) F1 metric:\n",
            "HistGradientBoostingClassifier: -0.17569550357309552\n",
            "LogisticRegression(max_iter=10000): -0.1310623312432568\n",
            "\n",
            "===Note===\n",
            "Note, based on the selected auto assignment quality, the set of evaluated models changes.\n",
            "For more insights toward the quality of the fitted graphical causal model, consider using the evaluate_causal_model function after fitting the causal mechanisms.\n",
            "humidity\n",
            "temp_C\n",
            "wind_speed\n",
            "precipitation\n",
            "vegetation\n",
            "FIRE_SIZE_CLASS\n",
            "population_density\n"
          ]
        },
        {
          "output_type": "stream",
          "name": "stderr",
          "text": [
            "Fitting causal mechanism of node population_density: 100%|██████████| 7/7 [00:04<00:00,  1.62it/s]\n",
            "Evaluating causal mechanisms...: 100%|██████████| 7/7 [00:45<00:00,  6.52s/it]\n",
            "Test permutations of given graph: 100%|██████████| 50/50 [00:39<00:00,  1.26it/s]\n"
          ]
        },
        {
          "output_type": "display_data",
          "data": {
            "text/plain": [
              "<Figure size 800x300 with 1 Axes>"
            ],
            "image/png": "[encoded data removed]"
          },
          "metadata": {}
        },
        {
          "output_type": "stream",
          "name": "stdout",
          "text": [
            "Evaluated the performance of the causal mechanisms and the invertibility assumption of the causal mechanisms and the overall average KL divergence between generated and observed distribution and the graph structure. The results are as follows:\n",
            "\n",
            "==== Evaluation of Causal Mechanisms ====\n",
            "The used evaluation metrics are:\n",
            "- KL divergence (only for root-nodes): Evaluates the divergence between the generated and the observed distribution.\n",
            "- Mean Squared Error (MSE): Evaluates the average squared differences between the observed values and the conditional expectation of the causal mechanisms.\n",
            "- Normalized MSE (NMSE): The MSE normalized by the standard deviation for better comparison.\n",
            "- R2 coefficient: Indicates how much variance is explained by the conditional expectations of the mechanisms. Note, however, that this can be misleading for nonlinear relationships.\n",
            "- F1 score (only for categorical non-root nodes): The harmonic mean of the precision and recall indicating the goodness of the underlying classifier model.\n",
            "- (normalized) Continuous Ranked Probability Score (CRPS): The CRPS generalizes the Mean Absolute Percentage Error to probabilistic predictions. This gives insights into the accuracy and calibration of the causal mechanisms.\n",
            "NOTE: Every metric focuses on different aspects and they might not consistently indicate a good or bad performance.\n",
            "We will mostly utilize the CRPS for comparing and interpreting the performance of the mechanisms, since this captures the most important properties for the causal model.\n",
            "\n",
            "--- Node humidity\n",
            "- The KL divergence between generated and observed distribution is 0.024522713791574658.\n",
            "The estimated KL divergence indicates an overall very good representation of the data distribution.\n",
            "\n",
            "--- Node precipitation\n",
            "- The MSE is 11.255035586310008.\n",
            "- The NMSE is 0.9673619014786871.\n",
            "- The R2 coefficient is 0.06418745315436672.\n",
            "- The normalized CRPS is 0.35718045205211274.\n",
            "The estimated CRPS indicates only a fair model performance. Note, however, that a high CRPS could also result from a small signal to noise ratio.\n",
            "\n",
            "--- Node wind_speed\n",
            "- The MSE is 2.071817274499524.\n",
            "- The NMSE is 0.961100416058037.\n",
            "- The R2 coefficient is 0.07628503502540729.\n",
            "- The normalized CRPS is 0.5155832311916981.\n",
            "The estimated CRPS indicates only a fair model performance. Note, however, that a high CRPS could also result from a small signal to noise ratio.\n",
            "\n",
            "--- Node temp_C\n",
            "- The MSE is 23.494244434005488.\n",
            "- The NMSE is 0.7358385503411626.\n",
            "- The R2 coefficient is 0.45853458083784177.\n",
            "- The normalized CRPS is 0.4133645617830938.\n",
            "The estimated CRPS indicates only a fair model performance. Note, however, that a high CRPS could also result from a small signal to noise ratio.\n",
            "\n",
            "--- Node population_density\n",
            "- The MSE is 774968.3988116634.\n",
            "- The NMSE is 0.9890232773384395.\n",
            "- The R2 coefficient is 0.02182913520308858.\n",
            "- The normalized CRPS is 0.1580610996548253.\n",
            "The estimated CRPS indicates a very good model performance.\n",
            "\n",
            "--- Node vegetation\n",
            "- The MSE is 1145066.521374454.\n",
            "- The NMSE is 0.9587634833361728.\n",
            "- The R2 coefficient is 0.05330138047686637.\n",
            "- The normalized CRPS is 0.4947452703513876.\n",
            "The estimated CRPS indicates only a fair model performance. Note, however, that a high CRPS could also result from a small signal to noise ratio.\n",
            "\n",
            "--- Node FIRE_SIZE_CLASS\n",
            "- The F1 score is 0.18218111359808842.\n",
            "- The normalized CRPS is 0.09892723120532512.\n",
            "The estimated CRPS indicates a very good model performance.\n",
            "\n",
            "==== Evaluation of Invertible Functional Causal Model Assumption ====\n",
            "\n",
            "--- The model assumption for node temp_C is rejected with a p-value of 0.005143495123849373 (after potential adjustment) and a significance level of 0.05.\n",
            "This implies that the model assumption might not be valid. This is, the relationship cannot be represent with this type of mechanism or there is a hidden confounder between the node and its parents.\n",
            "\n",
            "--- The model assumption for node wind_speed is rejected with a p-value of 2.7755575615628914e-15 (after potential adjustment) and a significance level of 0.05.\n",
            "This implies that the model assumption might not be valid. This is, the relationship cannot be represent with this type of mechanism or there is a hidden confounder between the node and its parents.\n",
            "\n",
            "--- The model assumption for node precipitation is rejected with a p-value of 0.0001388078204267451 (after potential adjustment) and a significance level of 0.05.\n",
            "This implies that the model assumption might not be valid. This is, the relationship cannot be represent with this type of mechanism or there is a hidden confounder between the node and its parents.\n",
            "\n",
            "--- The model assumption for node vegetation is not rejected with a p-value of 1.0 (after potential adjustment) and a significance level of 0.05.\n",
            "This implies that the model assumption might be valid.\n",
            "\n",
            "--- The model assumption for node population_density is not rejected with a p-value of 0.3646465747952021 (after potential adjustment) and a significance level of 0.05.\n",
            "This implies that the model assumption might be valid.\n",
            "\n",
            "Note that these results are based on statistical independence tests, and the fact that the assumption was not rejected does not necessarily imply that it is correct. There is just no evidence against it.\n",
            "\n",
            "==== Evaluation of Generated Distribution ====\n",
            "The overall average KL divergence between the generated and observed distribution is 1.5536665826074127\n",
            "The estimated KL divergence indicates some significant mismatches between the distributions.\n",
            "\n",
            "==== Evaluation of the Causal Graph Structure ====\n",
            "+-------------------------------------------------------------------------------------------------------+\n",
            "|                                         Falsification Summary                                         |\n",
            "+-------------------------------------------------------------------------------------------------------+\n",
            "| The given DAG is informative because 0 / 50 of the permutations lie in the Markov                     |\n",
            "| equivalence class of the given DAG (p-value: 0.00).                                                   |\n",
            "| The given DAG violates 0/3 LMCs and is better than 98.0% of the permuted DAGs (p-value: 0.02).        |\n",
            "| Based on the provided significance level (0.2) and because the DAG is informative,                    |\n",
            "| we do not reject the DAG.                                                                             |\n",
            "+-------------------------------------------------------------------------------------------------------+\n",
            "\n",
            "==== NOTE ====\n",
            "Always double check the made model assumptions with respect to the graph structure and choice of causal mechanisms.\n",
            "All these evaluations give some insight into the goodness of the causal model, but should not be overinterpreted, since some causal relationships can be intrinsically hard to model. Furthermore, many algorithms are fairly robust against misspecifications or poor performances of causal mechanisms.\n"
          ]
        }
      ],
      "source": [
        "causal_model_3 = gcm.StructuralCausalModel(causal_graph)\n",
        "\n",
        "set_polynomial_mechanisms(causal_model_3, ary_data, degree=3)\n",
        "\n",
        "gcm.fit(causal_model_3, ary_data)\n",
        "evaluation = gcm.evaluate_causal_model(causal_model_3, ary_data)\n",
        "print(evaluation)"
      ]
    },
    {
      "cell_type": "markdown",
      "metadata": {
        "id": "IsrlfOC0NuJM"
      },
      "source": [
        "### Quartic Model (n=4)"
      ]
    },
    {
      "cell_type": "code",
      "execution_count": 38,
      "metadata": {
        "colab": {
          "base_uri": "https://localhost:8080/",
          "height": 1000
        },
        "id": "PD2BSWCANz7U",
        "outputId": "d94cf57b-0080-44b4-8213-dcf6a8cf0b1e"
      },
      "outputs": [
        {
          "output_type": "stream",
          "name": "stdout",
          "text": [
            "When using this auto assignment function, the given data is used to automatically assign a causal mechanism to each node. Note that causal mechanisms can also be customized and assigned manually.\n",
            "The following types of causal mechanisms are considered for the automatic selection:\n",
            "\n",
            "If root node:\n",
            "An empirical distribution, i.e., the distribution is represented by randomly sampling from the provided data. This provides a flexible and non-parametric way to model the marginal distribution and is valid for all types of data modalities.\n",
            "\n",
            "If non-root node and the data is continuous:\n",
            "Additive Noise Models (ANM) of the form X_i = f(PA_i) + N_i, where PA_i are the parents of X_i and the unobserved noise N_i is assumed to be independent of PA_i.To select the best model for f, different regression models are evaluated and the model with the smallest mean squared error is selected.Note that minimizing the mean squared error here is equivalent to selecting the best choice of an ANM.\n",
            "\n",
            "If non-root node and the data is discrete:\n",
            "Discrete Additive Noise Models have almost the same definition as non-discrete ANMs, but come with an additional constraint for f to only return discrete values.\n",
            "Note that 'discrete' here refers to numerical values with an order. If the data is categorical, consider representing them as strings to ensure proper model selection.\n",
            "\n",
            "If non-root node and the data is categorical:\n",
            "A functional causal model based on a classifier, i.e., X_i = f(PA_i, N_i).\n",
            "Here, N_i follows a uniform distribution on [0, 1] and is used to randomly sample a class (category) using the conditional probability distribution produced by a classification model.Here, different model classes are evaluated using the (negative) F1 score and the best performing model class is selected.\n",
            "\n",
            "In total, 7 nodes were analyzed:\n",
            "\n",
            "--- Node: humidity\n",
            "Node humidity is a root node. Therefore, assigning 'Empirical Distribution' to the node representing the marginal distribution.\n",
            "\n",
            "--- Node: precipitation\n",
            "Node precipitation is a non-root node with continuous data. Assigning 'AdditiveNoiseModel using LinearRegression' to the node.\n",
            "This represents the causal relationship as precipitation := f(humidity) + N.\n",
            "For the model selection, the following models were evaluated on the mean squared error (MSE) metric:\n",
            "LinearRegression: 11.258622132491434\n",
            "Pipeline(steps=[('polynomialfeatures', PolynomialFeatures(include_bias=False)),\n",
            "                ('linearregression', LinearRegression)]): 11.266331406312322\n",
            "HistGradientBoostingRegressor: 11.27401174707229\n",
            "\n",
            "--- Node: wind_speed\n",
            "Node wind_speed is a non-root node with continuous data. Assigning 'AdditiveNoiseModel using HistGradientBoostingRegressor' to the node.\n",
            "This represents the causal relationship as wind_speed := f(humidity,precipitation) + N.\n",
            "For the model selection, the following models were evaluated on the mean squared error (MSE) metric:\n",
            "HistGradientBoostingRegressor: 2.095859064731903\n",
            "Pipeline(steps=[('polynomialfeatures', PolynomialFeatures(include_bias=False)),\n",
            "                ('linearregression', LinearRegression)]): 2.117259842831295\n",
            "LinearRegression: 2.1860402993939094\n",
            "\n",
            "--- Node: temp_C\n",
            "Node temp_C is a non-root node with continuous data. Assigning 'AdditiveNoiseModel using HistGradientBoostingRegressor' to the node.\n",
            "This represents the causal relationship as temp_C := f(humidity,precipitation,wind_speed) + N.\n",
            "For the model selection, the following models were evaluated on the mean squared error (MSE) metric:\n",
            "HistGradientBoostingRegressor: 24.127228810770596\n",
            "Pipeline(steps=[('polynomialfeatures', PolynomialFeatures(include_bias=False)),\n",
            "                ('linearregression', LinearRegression)]): 25.142777921090943\n",
            "LinearRegression: 27.012163990657903\n",
            "\n",
            "--- Node: population_density\n",
            "Node population_density is a non-root node with continuous data. Assigning 'AdditiveNoiseModel using Pipeline' to the node.\n",
            "This represents the causal relationship as population_density := f(temp_C,wind_speed) + N.\n",
            "For the model selection, the following models were evaluated on the mean squared error (MSE) metric:\n",
            "Pipeline(steps=[('polynomialfeatures', PolynomialFeatures(include_bias=False)),\n",
            "                ('linearregression', LinearRegression)]): 803714.9719571517\n",
            "HistGradientBoostingRegressor: 804094.0812258441\n",
            "LinearRegression: 804354.8216701882\n",
            "\n",
            "--- Node: vegetation\n",
            "Node vegetation is a non-root node with discrete data. Assigning 'Discrete AdditiveNoiseModel using HistGradientBoostingRegressor' to the node.\n",
            "This represents the discrete causal relationship as vegetation := f(humidity,population_density,precipitation,temp_C) + N.\n",
            "For the model selection, the following models were evaluated on the mean squared error (MSE) metric:\n",
            "HistGradientBoostingRegressor: 871389.7919128478\n",
            "LinearRegression: 1016942.5242016846\n",
            "Pipeline(steps=[('polynomialfeatures', PolynomialFeatures(include_bias=False)),\n",
            "                ('linearregression', LinearRegression)]): 256786891.0903656\n",
            "\n",
            "--- Node: FIRE_SIZE_CLASS\n",
            "Node FIRE_SIZE_CLASS is a non-root node with categorical data. Assigning 'Classifier FCM based on HistGradientBoostingClassifier()' to the node.\n",
            "This represents the causal relationship as FIRE_SIZE_CLASS := f(humidity,population_density,precipitation,temp_C,vegetation,wind_speed,N).\n",
            "For the model selection, the following models were evaluated on the (negative) F1 metric:\n",
            "HistGradientBoostingClassifier: -0.17802715768906088\n",
            "LogisticRegression(max_iter=10000): -0.13059668477547404\n",
            "\n",
            "===Note===\n",
            "Note, based on the selected auto assignment quality, the set of evaluated models changes.\n",
            "For more insights toward the quality of the fitted graphical causal model, consider using the evaluate_causal_model function after fitting the causal mechanisms.\n",
            "humidity\n",
            "temp_C\n",
            "wind_speed\n",
            "precipitation\n",
            "vegetation\n",
            "FIRE_SIZE_CLASS\n",
            "population_density\n"
          ]
        },
        {
          "output_type": "stream",
          "name": "stderr",
          "text": [
            "Fitting causal mechanism of node population_density: 100%|██████████| 7/7 [00:04<00:00,  1.62it/s]\n",
            "Evaluating causal mechanisms...: 100%|██████████| 7/7 [00:46<00:00,  6.65s/it]\n",
            "Test permutations of given graph: 100%|██████████| 50/50 [00:36<00:00,  1.35it/s]\n"
          ]
        },
        {
          "output_type": "display_data",
          "data": {
            "text/plain": [
              "<Figure size 800x300 with 1 Axes>"
            ],
            "image/png": "[encoded data removed]"
          },
          "metadata": {}
        },
        {
          "output_type": "stream",
          "name": "stdout",
          "text": [
            "Evaluated the performance of the causal mechanisms and the invertibility assumption of the causal mechanisms and the overall average KL divergence between generated and observed distribution and the graph structure. The results are as follows:\n",
            "\n",
            "==== Evaluation of Causal Mechanisms ====\n",
            "The used evaluation metrics are:\n",
            "- KL divergence (only for root-nodes): Evaluates the divergence between the generated and the observed distribution.\n",
            "- Mean Squared Error (MSE): Evaluates the average squared differences between the observed values and the conditional expectation of the causal mechanisms.\n",
            "- Normalized MSE (NMSE): The MSE normalized by the standard deviation for better comparison.\n",
            "- R2 coefficient: Indicates how much variance is explained by the conditional expectations of the mechanisms. Note, however, that this can be misleading for nonlinear relationships.\n",
            "- F1 score (only for categorical non-root nodes): The harmonic mean of the precision and recall indicating the goodness of the underlying classifier model.\n",
            "- (normalized) Continuous Ranked Probability Score (CRPS): The CRPS generalizes the Mean Absolute Percentage Error to probabilistic predictions. This gives insights into the accuracy and calibration of the causal mechanisms.\n",
            "NOTE: Every metric focuses on different aspects and they might not consistently indicate a good or bad performance.\n",
            "We will mostly utilize the CRPS for comparing and interpreting the performance of the mechanisms, since this captures the most important properties for the causal model.\n",
            "\n",
            "--- Node humidity\n",
            "- The KL divergence between generated and observed distribution is 0.020742613847153236.\n",
            "The estimated KL divergence indicates an overall very good representation of the data distribution.\n",
            "\n",
            "--- Node precipitation\n",
            "- The MSE is 11.230803840514595.\n",
            "- The NMSE is 0.9662523127039984.\n",
            "- The R2 coefficient is 0.06635085121331157.\n",
            "- The normalized CRPS is 0.3567962211071621.\n",
            "The estimated CRPS indicates only a fair model performance. Note, however, that a high CRPS could also result from a small signal to noise ratio.\n",
            "\n",
            "--- Node wind_speed\n",
            "- The MSE is 2.6408917843896496.\n",
            "- The NMSE is 1.0616143742490747.\n",
            "- The R2 coefficient is -0.16882920459001433.\n",
            "- The normalized CRPS is 0.5175400841079951.\n",
            "The estimated CRPS indicates only a fair model performance. Note, however, that a high CRPS could also result from a small signal to noise ratio.\n",
            "\n",
            "--- Node temp_C\n",
            "- The MSE is 23.40786364753081.\n",
            "- The NMSE is 0.7345704624739522.\n",
            "- The R2 coefficient is 0.46036761145436006.\n",
            "- The normalized CRPS is 0.4120039682614111.\n",
            "The estimated CRPS indicates only a fair model performance. Note, however, that a high CRPS could also result from a small signal to noise ratio.\n",
            "\n",
            "--- Node population_density\n",
            "- The MSE is 775777.2071893023.\n",
            "- The NMSE is 0.9896806146086228.\n",
            "- The R2 coefficient is 0.02052426950864299.\n",
            "- The normalized CRPS is 0.15834435200955965.\n",
            "The estimated CRPS indicates a very good model performance.\n",
            "\n",
            "--- Node vegetation\n",
            "- The MSE is 1140733409.064285.\n",
            "- The NMSE is 17.45936691304762.\n",
            "- The R2 coefficient is -945.5473530104794.\n",
            "- The normalized CRPS is 1.7593568964480955.\n",
            "The estimated CRPS indicates a very bad model performance. Consider trying alternative causal mechanism types.\n",
            "\n",
            "--- Node FIRE_SIZE_CLASS\n",
            "- The F1 score is 0.1831510414944469.\n",
            "- The normalized CRPS is 0.0989405768758255.\n",
            "The estimated CRPS indicates a very good model performance.\n",
            "\n",
            "==== Evaluation of Invertible Functional Causal Model Assumption ====\n",
            "\n",
            "--- The model assumption for node temp_C is not rejected with a p-value of 0.07393664123123977 (after potential adjustment) and a significance level of 0.05.\n",
            "This implies that the model assumption might be valid.\n",
            "\n",
            "--- The model assumption for node wind_speed is rejected with a p-value of 2.7755575615628914e-15 (after potential adjustment) and a significance level of 0.05.\n",
            "This implies that the model assumption might not be valid. This is, the relationship cannot be represent with this type of mechanism or there is a hidden confounder between the node and its parents.\n",
            "\n",
            "--- The model assumption for node precipitation is rejected with a p-value of 0.00023137189281152715 (after potential adjustment) and a significance level of 0.05.\n",
            "This implies that the model assumption might not be valid. This is, the relationship cannot be represent with this type of mechanism or there is a hidden confounder between the node and its parents.\n",
            "\n",
            "--- The model assumption for node vegetation is rejected with a p-value of 0.0 (after potential adjustment) and a significance level of 0.05.\n",
            "This implies that the model assumption might not be valid. This is, the relationship cannot be represent with this type of mechanism or there is a hidden confounder between the node and its parents.\n",
            "\n",
            "--- The model assumption for node population_density is rejected with a p-value of 0.019235385198018706 (after potential adjustment) and a significance level of 0.05.\n",
            "This implies that the model assumption might not be valid. This is, the relationship cannot be represent with this type of mechanism or there is a hidden confounder between the node and its parents.\n",
            "\n",
            "Note that these results are based on statistical independence tests, and the fact that the assumption was not rejected does not necessarily imply that it is correct. There is just no evidence against it.\n",
            "\n",
            "==== Evaluation of Generated Distribution ====\n",
            "The overall average KL divergence between the generated and observed distribution is 1.7701642455924698\n",
            "The estimated KL divergence indicates some significant mismatches between the distributions.\n",
            "\n",
            "==== Evaluation of the Causal Graph Structure ====\n",
            "+-------------------------------------------------------------------------------------------------------+\n",
            "|                                         Falsification Summary                                         |\n",
            "+-------------------------------------------------------------------------------------------------------+\n",
            "| The given DAG is informative because 0 / 50 of the permutations lie in the Markov                     |\n",
            "| equivalence class of the given DAG (p-value: 0.00).                                                   |\n",
            "| The given DAG violates 0/3 LMCs and is better than 94.0% of the permuted DAGs (p-value: 0.06).        |\n",
            "| Based on the provided significance level (0.2) and because the DAG is informative,                    |\n",
            "| we do not reject the DAG.                                                                             |\n",
            "+-------------------------------------------------------------------------------------------------------+\n",
            "\n",
            "==== NOTE ====\n",
            "Always double check the made model assumptions with respect to the graph structure and choice of causal mechanisms.\n",
            "All these evaluations give some insight into the goodness of the causal model, but should not be overinterpreted, since some causal relationships can be intrinsically hard to model. Furthermore, many algorithms are fairly robust against misspecifications or poor performances of causal mechanisms.\n"
          ]
        }
      ],
      "source": [
        "causal_model_4 = gcm.StructuralCausalModel(causal_graph)\n",
        "\n",
        "set_polynomial_mechanisms(causal_model_4, ary_data, degree=4)\n",
        "\n",
        "gcm.fit(causal_model_4, ary_data)\n",
        "evaluation = gcm.evaluate_causal_model(causal_model_4, ary_data)\n",
        "print(evaluation)"
      ]
    },
    {
      "cell_type": "markdown",
      "metadata": {
        "id": "PuTQVyTLScAd"
      },
      "source": [
        "# XGBoost and Mord Models"
      ]
    },
    {
      "cell_type": "code",
      "execution_count": 42,
      "metadata": {
        "id": "nQq4LsBnSjXc"
      },
      "outputs": [],
      "source": [
        "# Define causal graph\n",
        "causal_graph = nx.DiGraph([\n",
        "    ('humidity','temp_C'),\n",
        "    ('humidity','wind_speed'),\n",
        "    ('humidity','precipitation'),\n",
        "    ('humidity','vegetation'),\n",
        "    ('humidity','FIRE_SIZE_CLASS'),\n",
        "\n",
        "    ('precipitation','wind_speed'),\n",
        "    ('precipitation','temp_C'),\n",
        "    ('precipitation','vegetation'),\n",
        "    ('precipitation','FIRE_SIZE_CLASS'),\n",
        "\n",
        "    ('wind_speed','temp_C'),\n",
        "    ('wind_speed','population_density'),\n",
        "    ('wind_speed','FIRE_SIZE_CLASS'),\n",
        "\n",
        "    ('temp_C','vegetation'),\n",
        "    ('temp_C','population_density'),\n",
        "    ('temp_C','FIRE_SIZE_CLASS'),\n",
        "\n",
        "    ('population_density','vegetation'),\n",
        "    ('population_density','FIRE_SIZE_CLASS'),\n",
        "\n",
        "    ('vegetation','FIRE_SIZE_CLASS'),\n",
        "])"
      ]
    },
    {
      "cell_type": "code",
      "execution_count": 48,
      "metadata": {
        "id": "bKr4OJPNTV_z"
      },
      "outputs": [],
      "source": [
        "def set_mechanisms_with_xgboost_and_mord(causal_model, data, ordinal_target='FIRE_SIZE_CLASS_NUM'):\n",
        "    auto_assignment_summary = gcm.auto.assign_causal_mechanisms(causal_model, data, override_models=True)\n",
        "    for node in causal_model.graph.nodes:\n",
        "        parents = list(causal_model.graph.predecessors(node))\n",
        "\n",
        "        if not parents:\n",
        "            # Root node: use empirical distribution\n",
        "            causal_model.set_causal_mechanism(node, EmpiricalDistribution())\n",
        "            '''elif node == ordinal_target:\n",
        "            # Ordinal regression for FIRE_SIZE_CLASS_NUM using mord\n",
        "            ordinal_model = mord.LogisticAT()\n",
        "            wrapped_model = SklearnRegressionModel(ordinal_model)\n",
        "            causal_model.set_causal_mechanism(node, AdditiveNoiseModel(wrapped_model))'''\n",
        "        elif not node == 'FIRE_SIZE_CLASS':\n",
        "            # All other nodes: use XGBoost\n",
        "            xgb_model = XGBRegressor(n_estimators=100, max_depth=4, verbosity=0)\n",
        "            wrapped_model = SklearnRegressionModel(xgb_model)\n",
        "            causal_model.set_causal_mechanism(node, AdditiveNoiseModel(wrapped_model))\n"
      ]
    },
    {
      "cell_type": "code",
      "execution_count": 49,
      "metadata": {
        "colab": {
          "base_uri": "https://localhost:8080/",
          "height": 1000
        },
        "id": "K0QyptVdSn9e",
        "outputId": "998e0b88-6e8c-4865-ceae-15dc7a3e5a4e"
      },
      "outputs": [
        {
          "output_type": "stream",
          "name": "stderr",
          "text": [
            "Fitting causal mechanism of node population_density: 100%|██████████| 7/7 [00:05<00:00,  1.27it/s]\n",
            "Evaluating causal mechanisms...: 100%|██████████| 7/7 [01:28<00:00, 12.63s/it]\n",
            "Test permutations of given graph: 100%|██████████| 50/50 [00:35<00:00,  1.39it/s]\n"
          ]
        },
        {
          "output_type": "display_data",
          "data": {
            "text/plain": [
              "<Figure size 800x300 with 1 Axes>"
            ],
            "image/png": "[encoded data removed]"
          },
          "metadata": {}
        },
        {
          "output_type": "stream",
          "name": "stdout",
          "text": [
            "Evaluated the performance of the causal mechanisms and the invertibility assumption of the causal mechanisms and the overall average KL divergence between generated and observed distribution and the graph structure. The results are as follows:\n",
            "\n",
            "==== Evaluation of Causal Mechanisms ====\n",
            "The used evaluation metrics are:\n",
            "- KL divergence (only for root-nodes): Evaluates the divergence between the generated and the observed distribution.\n",
            "- Mean Squared Error (MSE): Evaluates the average squared differences between the observed values and the conditional expectation of the causal mechanisms.\n",
            "- Normalized MSE (NMSE): The MSE normalized by the standard deviation for better comparison.\n",
            "- R2 coefficient: Indicates how much variance is explained by the conditional expectations of the mechanisms. Note, however, that this can be misleading for nonlinear relationships.\n",
            "- F1 score (only for categorical non-root nodes): The harmonic mean of the precision and recall indicating the goodness of the underlying classifier model.\n",
            "- (normalized) Continuous Ranked Probability Score (CRPS): The CRPS generalizes the Mean Absolute Percentage Error to probabilistic predictions. This gives insights into the accuracy and calibration of the causal mechanisms.\n",
            "NOTE: Every metric focuses on different aspects and they might not consistently indicate a good or bad performance.\n",
            "We will mostly utilize the CRPS for comparing and interpreting the performance of the mechanisms, since this captures the most important properties for the causal model.\n",
            "\n",
            "--- Node humidity\n",
            "- The KL divergence between generated and observed distribution is 0.024806302946129885.\n",
            "The estimated KL divergence indicates an overall very good representation of the data distribution.\n",
            "\n",
            "--- Node precipitation\n",
            "- The MSE is 11.236657101261239.\n",
            "- The NMSE is 0.9665507767541561.\n",
            "- The R2 coefficient is 0.06577790769692989.\n",
            "- The normalized CRPS is 0.3576426678061735.\n",
            "The estimated CRPS indicates only a fair model performance. Note, however, that a high CRPS could also result from a small signal to noise ratio.\n",
            "\n",
            "--- Node wind_speed\n",
            "- The MSE is 2.0660261956877233.\n",
            "- The NMSE is 0.959912561782365.\n",
            "- The R2 coefficient is 0.07855713198402903.\n",
            "- The normalized CRPS is 0.5160844294143325.\n",
            "The estimated CRPS indicates only a fair model performance. Note, however, that a high CRPS could also result from a small signal to noise ratio.\n",
            "\n",
            "--- Node temp_C\n",
            "- The MSE is 23.035194314757316.\n",
            "- The NMSE is 0.7288326340625583.\n",
            "- The R2 coefficient is 0.4686927911485249.\n",
            "- The normalized CRPS is 0.40803629274030984.\n",
            "The estimated CRPS indicates only a fair model performance. Note, however, that a high CRPS could also result from a small signal to noise ratio.\n",
            "\n",
            "--- Node population_density\n",
            "- The MSE is 777887.1816430374.\n",
            "- The NMSE is 0.990843508755521.\n",
            "- The R2 coefficient is 0.01807870373720082.\n",
            "- The normalized CRPS is 0.17431195827061047.\n",
            "The estimated CRPS indicates a very good model performance.\n",
            "\n",
            "--- Node vegetation\n",
            "- The MSE is 797231.2297541949.\n",
            "- The NMSE is 0.8133925455108905.\n",
            "- The R2 coefficient is 0.3383713403789228.\n",
            "- The normalized CRPS is 0.45725921154708715.\n",
            "The estimated CRPS indicates only a fair model performance. Note, however, that a high CRPS could also result from a small signal to noise ratio.\n",
            "\n",
            "--- Node FIRE_SIZE_CLASS\n",
            "- The F1 score is 0.18403030457994432.\n",
            "- The normalized CRPS is 0.0989181595942672.\n",
            "The estimated CRPS indicates a very good model performance.\n",
            "\n",
            "==== Evaluation of Invertible Functional Causal Model Assumption ====\n",
            "\n",
            "--- The model assumption for node temp_C is rejected with a p-value of 0.04762294078693163 (after potential adjustment) and a significance level of 0.05.\n",
            "This implies that the model assumption might not be valid. This is, the relationship cannot be represent with this type of mechanism or there is a hidden confounder between the node and its parents.\n",
            "\n",
            "--- The model assumption for node wind_speed is rejected with a p-value of 2.3015922501201658e-09 (after potential adjustment) and a significance level of 0.05.\n",
            "This implies that the model assumption might not be valid. This is, the relationship cannot be represent with this type of mechanism or there is a hidden confounder between the node and its parents.\n",
            "\n",
            "--- The model assumption for node precipitation is rejected with a p-value of 0.0011259747072278614 (after potential adjustment) and a significance level of 0.05.\n",
            "This implies that the model assumption might not be valid. This is, the relationship cannot be represent with this type of mechanism or there is a hidden confounder between the node and its parents.\n",
            "\n",
            "--- The model assumption for node vegetation is not rejected with a p-value of 1.0 (after potential adjustment) and a significance level of 0.05.\n",
            "This implies that the model assumption might be valid.\n",
            "\n",
            "--- The model assumption for node population_density is not rejected with a p-value of 1.0 (after potential adjustment) and a significance level of 0.05.\n",
            "This implies that the model assumption might be valid.\n",
            "\n",
            "Note that these results are based on statistical independence tests, and the fact that the assumption was not rejected does not necessarily imply that it is correct. There is just no evidence against it.\n",
            "\n",
            "==== Evaluation of Generated Distribution ====\n",
            "The overall average KL divergence between the generated and observed distribution is 1.571683548692666\n",
            "The estimated KL divergence indicates some significant mismatches between the distributions.\n",
            "\n",
            "==== Evaluation of the Causal Graph Structure ====\n",
            "+-------------------------------------------------------------------------------------------------------+\n",
            "|                                         Falsification Summary                                         |\n",
            "+-------------------------------------------------------------------------------------------------------+\n",
            "| The given DAG is informative because 0 / 50 of the permutations lie in the Markov                     |\n",
            "| equivalence class of the given DAG (p-value: 0.00).                                                   |\n",
            "| The given DAG violates 1/3 LMCs and is better than 58.0% of the permuted DAGs (p-value: 0.42).        |\n",
            "| Based on the provided significance level (0.2) and because the DAG is informative,                    |\n",
            "| we reject the DAG.                                                                                    |\n",
            "+-------------------------------------------------------------------------------------------------------+\n",
            "\n",
            "==== NOTE ====\n",
            "Always double check the made model assumptions with respect to the graph structure and choice of causal mechanisms.\n",
            "All these evaluations give some insight into the goodness of the causal model, but should not be overinterpreted, since some causal relationships can be intrinsically hard to model. Furthermore, many algorithms are fairly robust against misspecifications or poor performances of causal mechanisms.\n"
          ]
        }
      ],
      "source": [
        "# Create causal model\n",
        "causal_model_xg = gcm.StructuralCausalModel(causal_graph)\n",
        "set_mechanisms_with_xgboost_and_mord(causal_model_xg, ary_data)\n",
        "gcm.fit(causal_model_xg, ary_data)\n",
        "evaluation = gcm.evaluate_causal_model(causal_model_xg, ary_data)\n",
        "print(evaluation)"
      ]
    },
    {
      "cell_type": "markdown",
      "metadata": {
        "id": "kuw8cD5IYyCY"
      },
      "source": [
        "# Optimum Mix Model"
      ]
    },
    {
      "cell_type": "code",
      "execution_count": 50,
      "metadata": {
        "id": "933qQEOSY1NJ"
      },
      "outputs": [],
      "source": [
        "# Define causal graph\n",
        "causal_graph = nx.DiGraph([\n",
        "    ('humidity','temp_C'),\n",
        "    ('humidity','wind_speed'),\n",
        "    ('humidity','precipitation'),\n",
        "    ('humidity','vegetation'),\n",
        "    ('humidity','FIRE_SIZE_CLASS'),\n",
        "\n",
        "    ('precipitation','wind_speed'),\n",
        "    ('precipitation','temp_C'),\n",
        "    ('precipitation','vegetation'),\n",
        "    ('precipitation','FIRE_SIZE_CLASS'),\n",
        "\n",
        "    ('wind_speed','temp_C'),\n",
        "    ('wind_speed','population_density'),\n",
        "    ('wind_speed','FIRE_SIZE_CLASS'),\n",
        "\n",
        "    ('temp_C','vegetation'),\n",
        "    ('temp_C','population_density'),\n",
        "    ('temp_C','FIRE_SIZE_CLASS'),\n",
        "\n",
        "    ('population_density','vegetation'),\n",
        "    ('population_density','FIRE_SIZE_CLASS'),\n",
        "\n",
        "    ('vegetation','FIRE_SIZE_CLASS'),\n",
        "])"
      ]
    },
    {
      "cell_type": "code",
      "execution_count": 53,
      "metadata": {
        "id": "9FJvbQGSY1PQ"
      },
      "outputs": [],
      "source": [
        "def set_best_mechanisms(causal_model, data):\n",
        "    auto_assignment_summary = gcm.auto.assign_causal_mechanisms(causal_model, data, override_models=True)\n",
        "    for node in causal_model.graph.nodes:\n",
        "        parents = list(causal_model.graph.predecessors(node))\n",
        "\n",
        "        if not parents:\n",
        "            # Root node → use empirical distribution\n",
        "            causal_model.set_causal_mechanism(node, EmpiricalDistribution())\n",
        "\n",
        "        elif node in ['population_density', 'vegetation']:\n",
        "            # Use LinearRegression for these specific nodes\n",
        "            lin_model = LinearRegression()\n",
        "            wrapped_model = SklearnRegressionModel(lin_model)\n",
        "            causal_model.set_causal_mechanism(node, AdditiveNoiseModel(wrapped_model))\n",
        "\n",
        "        elif not node == 'FIRE_SIZE_CLASS':\n",
        "            # Use XGBoost for remaining internal nodes\n",
        "            xgb_model = XGBRegressor(n_estimators=100, max_depth=4, verbosity=0)\n",
        "            wrapped_model = SklearnRegressionModel(xgb_model)\n",
        "            causal_model.set_causal_mechanism(node, AdditiveNoiseModel(wrapped_model))"
      ]
    },
    {
      "cell_type": "code",
      "execution_count": 54,
      "metadata": {
        "colab": {
          "base_uri": "https://localhost:8080/",
          "height": 1000
        },
        "id": "4rYrS_9DY7dW",
        "outputId": "9762e16a-aee3-4c45-f2dd-c146f2366106"
      },
      "outputs": [
        {
          "output_type": "stream",
          "name": "stderr",
          "text": [
            "Fitting causal mechanism of node population_density: 100%|██████████| 7/7 [00:04<00:00,  1.59it/s]\n",
            "Evaluating causal mechanisms...: 100%|██████████| 7/7 [01:29<00:00, 12.80s/it]\n",
            "Test permutations of given graph: 100%|██████████| 50/50 [00:36<00:00,  1.39it/s]\n"
          ]
        },
        {
          "output_type": "display_data",
          "data": {
            "text/plain": [
              "<Figure size 800x300 with 1 Axes>"
            ],
            "image/png": "[encoded data removed]"
          },
          "metadata": {}
        },
        {
          "output_type": "stream",
          "name": "stdout",
          "text": [
            "Evaluated the performance of the causal mechanisms and the invertibility assumption of the causal mechanisms and the overall average KL divergence between generated and observed distribution and the graph structure. The results are as follows:\n",
            "\n",
            "==== Evaluation of Causal Mechanisms ====\n",
            "The used evaluation metrics are:\n",
            "- KL divergence (only for root-nodes): Evaluates the divergence between the generated and the observed distribution.\n",
            "- Mean Squared Error (MSE): Evaluates the average squared differences between the observed values and the conditional expectation of the causal mechanisms.\n",
            "- Normalized MSE (NMSE): The MSE normalized by the standard deviation for better comparison.\n",
            "- R2 coefficient: Indicates how much variance is explained by the conditional expectations of the mechanisms. Note, however, that this can be misleading for nonlinear relationships.\n",
            "- F1 score (only for categorical non-root nodes): The harmonic mean of the precision and recall indicating the goodness of the underlying classifier model.\n",
            "- (normalized) Continuous Ranked Probability Score (CRPS): The CRPS generalizes the Mean Absolute Percentage Error to probabilistic predictions. This gives insights into the accuracy and calibration of the causal mechanisms.\n",
            "NOTE: Every metric focuses on different aspects and they might not consistently indicate a good or bad performance.\n",
            "We will mostly utilize the CRPS for comparing and interpreting the performance of the mechanisms, since this captures the most important properties for the causal model.\n",
            "\n",
            "--- Node humidity\n",
            "- The KL divergence between generated and observed distribution is 0.013915982014376726.\n",
            "The estimated KL divergence indicates an overall very good representation of the data distribution.\n",
            "\n",
            "--- Node precipitation\n",
            "- The MSE is 11.247946181989098.\n",
            "- The NMSE is 0.9669655056944979.\n",
            "- The R2 coefficient is 0.06496551484976912.\n",
            "- The normalized CRPS is 0.35789643020168904.\n",
            "The estimated CRPS indicates only a fair model performance. Note, however, that a high CRPS could also result from a small signal to noise ratio.\n",
            "\n",
            "--- Node wind_speed\n",
            "- The MSE is 2.063607755617531.\n",
            "- The NMSE is 0.9592379171561444.\n",
            "- The R2 coefficient is 0.07985646145463476.\n",
            "- The normalized CRPS is 0.5157222345213046.\n",
            "The estimated CRPS indicates only a fair model performance. Note, however, that a high CRPS could also result from a small signal to noise ratio.\n",
            "\n",
            "--- Node temp_C\n",
            "- The MSE is 23.039697164766046.\n",
            "- The NMSE is 0.7287115632506125.\n",
            "- The R2 coefficient is 0.46895240705703545.\n",
            "- The normalized CRPS is 0.40765768641725925.\n",
            "The estimated CRPS indicates only a fair model performance. Note, however, that a high CRPS could also result from a small signal to noise ratio.\n",
            "\n",
            "--- Node population_density\n",
            "- The MSE is 781765.1124625154.\n",
            "- The NMSE is 0.9934730646713407.\n",
            "- The R2 coefficient is 0.013007328040629162.\n",
            "- The normalized CRPS is 0.16839228172020068.\n",
            "The estimated CRPS indicates a very good model performance.\n",
            "\n",
            "--- Node vegetation\n",
            "- The MSE is 986345.2872230426.\n",
            "- The NMSE is 0.9046997575248146.\n",
            "- The R2 coefficient is 0.18151141363879011.\n",
            "- The normalized CRPS is 0.5087032145579313.\n",
            "The estimated CRPS indicates only a fair model performance. Note, however, that a high CRPS could also result from a small signal to noise ratio.\n",
            "\n",
            "--- Node FIRE_SIZE_CLASS\n",
            "- The F1 score is 0.18401979554559167.\n",
            "- The normalized CRPS is 0.09892104187529724.\n",
            "The estimated CRPS indicates a very good model performance.\n",
            "\n",
            "==== Evaluation of Invertible Functional Causal Model Assumption ====\n",
            "\n",
            "--- The model assumption for node temp_C is rejected with a p-value of 0.0028380130883493004 (after potential adjustment) and a significance level of 0.05.\n",
            "This implies that the model assumption might not be valid. This is, the relationship cannot be represent with this type of mechanism or there is a hidden confounder between the node and its parents.\n",
            "\n",
            "--- The model assumption for node wind_speed is rejected with a p-value of 8.156392228286791e-11 (after potential adjustment) and a significance level of 0.05.\n",
            "This implies that the model assumption might not be valid. This is, the relationship cannot be represent with this type of mechanism or there is a hidden confounder between the node and its parents.\n",
            "\n",
            "--- The model assumption for node precipitation is rejected with a p-value of 1.061142304026319e-05 (after potential adjustment) and a significance level of 0.05.\n",
            "This implies that the model assumption might not be valid. This is, the relationship cannot be represent with this type of mechanism or there is a hidden confounder between the node and its parents.\n",
            "\n",
            "--- The model assumption for node vegetation is not rejected with a p-value of 0.5789225203462034 (after potential adjustment) and a significance level of 0.05.\n",
            "This implies that the model assumption might be valid.\n",
            "\n",
            "--- The model assumption for node population_density is not rejected with a p-value of 0.13328803133020317 (after potential adjustment) and a significance level of 0.05.\n",
            "This implies that the model assumption might be valid.\n",
            "\n",
            "Note that these results are based on statistical independence tests, and the fact that the assumption was not rejected does not necessarily imply that it is correct. There is just no evidence against it.\n",
            "\n",
            "==== Evaluation of Generated Distribution ====\n",
            "The overall average KL divergence between the generated and observed distribution is 1.6415373608190298\n",
            "The estimated KL divergence indicates some significant mismatches between the distributions.\n",
            "\n",
            "==== Evaluation of the Causal Graph Structure ====\n",
            "+-------------------------------------------------------------------------------------------------------+\n",
            "|                                         Falsification Summary                                         |\n",
            "+-------------------------------------------------------------------------------------------------------+\n",
            "| The given DAG is informative because 0 / 50 of the permutations lie in the Markov                     |\n",
            "| equivalence class of the given DAG (p-value: 0.00).                                                   |\n",
            "| The given DAG violates 2/3 LMCs and is better than 34.0% of the permuted DAGs (p-value: 0.66).        |\n",
            "| Based on the provided significance level (0.2) and because the DAG is informative,                    |\n",
            "| we reject the DAG.                                                                                    |\n",
            "+-------------------------------------------------------------------------------------------------------+\n",
            "\n",
            "==== NOTE ====\n",
            "Always double check the made model assumptions with respect to the graph structure and choice of causal mechanisms.\n",
            "All these evaluations give some insight into the goodness of the causal model, but should not be overinterpreted, since some causal relationships can be intrinsically hard to model. Furthermore, many algorithms are fairly robust against misspecifications or poor performances of causal mechanisms.\n"
          ]
        }
      ],
      "source": [
        "causal_model_mix = gcm.StructuralCausalModel(causal_graph)\n",
        "set_best_mechanisms(causal_model_mix, ary_data)\n",
        "gcm.fit(causal_model_mix, ary_data)\n",
        "evaluation = gcm.evaluate_causal_model(causal_model_mix, ary_data)\n",
        "print(evaluation)"
      ]
    },
    {
      "cell_type": "markdown",
      "metadata": {
        "id": "rf1lzDnfbPYe"
      },
      "source": [
        "# Further Optimised with Ridge"
      ]
    },
    {
      "cell_type": "code",
      "execution_count": null,
      "metadata": {
        "id": "gE-iy8QwcNOv"
      },
      "outputs": [],
      "source": [
        "# Define causal graph\n",
        "causal_graph = nx.DiGraph([\n",
        "    ('humidity','temp_C'),\n",
        "    ('humidity','wind_speed'),\n",
        "    ('humidity','precipitation'),\n",
        "    ('humidity','vegetation'),\n",
        "    ('humidity','FIRE_SIZE_CLASS_NUM'),\n",
        "\n",
        "    ('precipitation','wind_speed'),\n",
        "    ('precipitation','temp_C'),\n",
        "    ('precipitation','vegetation'),\n",
        "    ('precipitation','FIRE_SIZE_CLASS_NUM'),\n",
        "\n",
        "    ('wind_speed','temp_C'),\n",
        "    ('wind_speed','population_density'),\n",
        "    ('wind_speed','FIRE_SIZE_CLASS_NUM'),\n",
        "\n",
        "    ('temp_C','vegetation'),\n",
        "    ('temp_C','population_density'),\n",
        "    ('temp_C','FIRE_SIZE_CLASS_NUM'),\n",
        "\n",
        "    ('population_density','vegetation'),\n",
        "    ('population_density','FIRE_SIZE_CLASS_NUM'),\n",
        "\n",
        "    ('vegetation','FIRE_SIZE_CLASS_NUM'),\n",
        "])"
      ]
    },
    {
      "cell_type": "code",
      "execution_count": null,
      "metadata": {
        "id": "CtpYbbyXbRkz"
      },
      "outputs": [],
      "source": [
        "def set_refined_mechanisms(causal_model, data):\n",
        "    for node in causal_model.graph.nodes:\n",
        "        parents = list(causal_model.graph.predecessors(node))\n",
        "\n",
        "        if not parents:\n",
        "            # Root node → use empirical distribution\n",
        "            causal_model.set_causal_mechanism(node, EmpiricalDistribution())\n",
        "\n",
        "        elif node == 'population_density':\n",
        "            # Use Ridge regression for population_density\n",
        "            ridge_model = Ridge(alpha=1.0)\n",
        "            wrapped_model = SklearnRegressionModel(ridge_model)\n",
        "            causal_model.set_causal_mechanism(node, AdditiveNoiseModel(wrapped_model))\n",
        "\n",
        "        elif node in ['vegetation', 'FIRE_SIZE_CLASS_NUM']:\n",
        "            # Use LinearRegression for these specific nodes\n",
        "            lin_model = LinearRegression()\n",
        "            wrapped_model = SklearnRegressionModel(lin_model)\n",
        "            causal_model.set_causal_mechanism(node, AdditiveNoiseModel(wrapped_model))\n",
        "\n",
        "        else:\n",
        "            # Use XGBoost for remaining internal nodes\n",
        "            xgb_model = XGBRegressor(n_estimators=100, max_depth=4, verbosity=0)\n",
        "            wrapped_model = SklearnRegressionModel(xgb_model)\n",
        "            causal_model.set_causal_mechanism(node, AdditiveNoiseModel(wrapped_model))"
      ]
    },
    {
      "cell_type": "code",
      "execution_count": null,
      "metadata": {
        "id": "cfPPZ35HbWij"
      },
      "outputs": [],
      "source": [
        "causal_model_refined = gcm.StructuralCausalModel(causal_graph)\n",
        "set_refined_mechanisms(causal_model_refined, ary_data)\n",
        "gcm.fit(causal_model_refined, ary_data)\n",
        "evaluation = gcm.evaluate_causal_model(causal_model_refined, ary_data)\n",
        "print(evaluation)"
      ]
    },
    {
      "cell_type": "markdown",
      "source": [
        "# Visualizing Output"
      ],
      "metadata": {
        "id": "YjPU5vtdnkNF"
      }
    },
    {
      "cell_type": "markdown",
      "source": [
        "## Linear Model (n=1)"
      ],
      "metadata": {
        "id": "kbC6fwsxnnI_"
      }
    },
    {
      "cell_type": "code",
      "source": [
        "from sklearn.model_selection import train_test_split\n",
        "\n",
        "# 1. Split the dataset\n",
        "train_data, test_data = train_test_split(ary_data, test_size=0.2, random_state=42)\n",
        "\n",
        "# 2. Define graph and model\n",
        "causal_model = gcm.StructuralCausalModel(causal_graph)\n",
        "print(gcm.auto.assign_causal_mechanisms(causal_model, train_data))\n",
        "\n",
        "# 3. Fit on training data only (no evaluation)\n",
        "gcm.fit(causal_model, train_data)\n",
        "evaluation = gcm.evaluate_causal_model(causal_model_1, ary_data)\n",
        "print(evaluation)"
      ],
      "metadata": {
        "id": "4Lg19lX0pF7g"
      },
      "execution_count": null,
      "outputs": []
    },
    {
      "cell_type": "code",
      "source": [
        "import matplotlib.pyplot as plt\n",
        "\n",
        "def extract_linear_coefficients(causal_model):\n",
        "    edge_coefs = {}\n",
        "\n",
        "    for child in causal_model.graph.nodes:\n",
        "        try:\n",
        "            mechanism = gcm.auto.get_causal_mechanism(causal_model, child)\n",
        "        except Exception:\n",
        "            continue\n",
        "\n",
        "        if not hasattr(mechanism, \"prediction_model\"):\n",
        "            continue\n",
        "\n",
        "        model = mechanism.prediction_model\n",
        "\n",
        "        # If model is a pipeline, grab the last step (assumed to be LinearRegression)\n",
        "        if hasattr(model, \"named_steps\"):\n",
        "            final_model = model.named_steps.get(\"linearregression\", None)\n",
        "        elif hasattr(model, \"steps\"):\n",
        "            final_model = model.steps[-1][1]  # Last step is the regressor\n",
        "        else:\n",
        "            final_model = model  # Fallback\n",
        "\n",
        "        if hasattr(final_model, \"coef_\"):\n",
        "            parents = list(causal_model.graph.predecessors(child))\n",
        "            for i, parent in enumerate(parents):\n",
        "                edge_coefs[(parent, child)] = final_model.coef_[i]\n",
        "\n",
        "    return edge_coefs\n",
        "\n",
        "\n"
      ],
      "metadata": {
        "id": "VCH2gwEKsGzK"
      },
      "execution_count": null,
      "outputs": []
    },
    {
      "cell_type": "code",
      "source": [
        "extract_linear_coefficients(causal_model)"
      ],
      "metadata": {
        "id": "YzKy-ardpUDq"
      },
      "execution_count": null,
      "outputs": []
    },
    {
      "cell_type": "code",
      "source": [
        "def inspect_mechanism_types(causal_model):\n",
        "    types = {}\n",
        "    for node in causal_model.graph.nodes:\n",
        "        try:\n",
        "            mech = gcm.auto.get_causal_mechanism(causal_model, node)\n",
        "            types[node] = type(mech).__name__\n",
        "        except Exception:\n",
        "            types[node] = \"None\"\n",
        "    return types"
      ],
      "metadata": {
        "id": "8g5Nsrartioi"
      },
      "execution_count": null,
      "outputs": []
    },
    {
      "cell_type": "code",
      "source": [
        "inspect_mechanism_types(causal_model)"
      ],
      "metadata": {
        "id": "ujOGB_wOtlTF"
      },
      "execution_count": null,
      "outputs": []
    },
    {
      "cell_type": "code",
      "source": [
        "import numpy as np\n",
        "\n",
        "for node, mechanism in causal_model._causal_mechanisms.items():\n",
        "    if hasattr(mechanism, 'noise_model'):\n",
        "        mechanism.noise_model = lambda n: np.zeros(n)"
      ],
      "metadata": {
        "id": "Z_DGKRbNxp4w"
      },
      "execution_count": null,
      "outputs": []
    },
    {
      "cell_type": "code",
      "source": [
        "generated_data = gcm.draw_samples(causal_model, num_samples=10000)"
      ],
      "metadata": {
        "id": "4E0ABLhQwsku"
      },
      "execution_count": null,
      "outputs": []
    },
    {
      "cell_type": "code",
      "source": [
        "print(generated_data.head())"
      ],
      "metadata": {
        "id": "GJ4lG2mowu6F"
      },
      "execution_count": null,
      "outputs": []
    },
    {
      "cell_type": "code",
      "source": [
        "import seaborn as sns\n",
        "import matplotlib.pyplot as plt\n",
        "\n",
        "# Assuming your DataFrame is called df\n",
        "sns.pairplot(generated_data)\n",
        "plt.show()"
      ],
      "metadata": {
        "id": "rjNXOxt2xD6i"
      },
      "execution_count": null,
      "outputs": []
    },
    {
      "cell_type": "code",
      "source": [
        "import seaborn as sns\n",
        "import matplotlib.pyplot as plt\n",
        "\n",
        "cols = ['humidity', 'precipitation', 'wind_speed', 'temp_C',\n",
        "        'population_density', 'vegetation', 'FIRE_SIZE_CLASS_NUM']\n",
        "n = len(cols)\n",
        "\n",
        "fig, axes = plt.subplots(n, n, figsize=(16, 16), sharex='col', sharey='row')\n",
        "\n",
        "for i, row_var in enumerate(cols):\n",
        "    for j, col_var in enumerate(cols):\n",
        "        ax = axes[i, j]\n",
        "        if i == j:\n",
        "            sns.histplot(generated_data[row_var], ax=ax, bins=20, color='gray')\n",
        "        else:\n",
        "            sns.regplot(\n",
        "                data=generated_data,\n",
        "                x=col_var,\n",
        "                y=row_var,\n",
        "                ax=ax,\n",
        "                scatter=False,   # No scatter points\n",
        "                line_kws={'color': 'blue'}\n",
        "            )\n",
        "        if i == n - 1:\n",
        "            ax.set_xlabel(col_var, rotation=45)\n",
        "        else:\n",
        "            ax.set_xlabel(\"\")\n",
        "            ax.set_xticklabels([])\n",
        "        if j == 0:\n",
        "            ax.set_ylabel(row_var)\n",
        "        else:\n",
        "            ax.set_ylabel(\"\")\n",
        "            ax.set_yticklabels([])\n",
        "\n",
        "plt.tight_layout()\n",
        "plt.show()"
      ],
      "metadata": {
        "id": "au7P-GVJyHL-"
      },
      "execution_count": null,
      "outputs": []
    }
  ],
  "metadata": {
    "colab": {
      "collapsed_sections": [
        "op0ww6wEKBYL",
        "gGRysY0PKcnb",
        "PuTQVyTLScAd",
        "rf1lzDnfbPYe",
        "YjPU5vtdnkNF",
        "kbC6fwsxnnI_"
      ],
      "provenance": []
    },
    "kernelspec": {
      "display_name": "Python 3",
      "name": "python3"
    },
    "language_info": {
      "name": "python"
    }
  },
  "nbformat": 4,
  "nbformat_minor": 0
}