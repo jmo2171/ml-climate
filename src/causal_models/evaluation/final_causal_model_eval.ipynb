{
  "nbformat": 4,
  "nbformat_minor": 0,
  "metadata": {
    "colab": {
      "provenance": []
    },
    "kernelspec": {
      "name": "python3",
      "display_name": "Python 3"
    },
    "language_info": {
      "name": "python"
    }
  },
  "cells": [
    {
      "cell_type": "markdown",
      "source": [
        "# Install and Imports"
      ],
      "metadata": {
        "id": "eVVS_W9lqnj8"
      }
    },
    {
      "cell_type": "code",
      "execution_count": 1,
      "metadata": {
        "colab": {
          "base_uri": "https://localhost:8080/"
        },
        "id": "pjH7He_mpr5r",
        "outputId": "f5beacd5-0730-4fa3-f0a8-7b36445463b1"
      },
      "outputs": [
        {
          "output_type": "stream",
          "name": "stdout",
          "text": [
            "Collecting dowhy\n",
            "  Downloading dowhy-0.12-py3-none-any.whl.metadata (18 kB)\n",
            "Collecting causal-learn>=0.1.3.0 (from dowhy)\n",
            "  Downloading causal_learn-0.1.4.1-py3-none-any.whl.metadata (4.6 kB)\n",
            "Requirement already satisfied: cvxpy>=1.2.2 in /usr/local/lib/python3.11/dist-packages (from dowhy) (1.6.5)\n",
            "Collecting cython<3.0 (from dowhy)\n",
            "  Downloading Cython-0.29.37-cp311-cp311-manylinux_2_17_x86_64.manylinux2014_x86_64.manylinux_2_24_x86_64.whl.metadata (3.1 kB)\n",
            "Requirement already satisfied: joblib>=1.1.0 in /usr/local/lib/python3.11/dist-packages (from dowhy) (1.4.2)\n",
            "Requirement already satisfied: networkx>=2.8.5 in /usr/local/lib/python3.11/dist-packages (from dowhy) (3.4.2)\n",
            "Requirement already satisfied: numba>=0.59 in /usr/local/lib/python3.11/dist-packages (from dowhy) (0.60.0)\n",
            "Requirement already satisfied: numpy>1.0 in /usr/local/lib/python3.11/dist-packages (from dowhy) (2.0.2)\n",
            "Requirement already satisfied: pandas>1.0 in /usr/local/lib/python3.11/dist-packages (from dowhy) (2.2.2)\n",
            "Requirement already satisfied: scikit-learn>1.0 in /usr/local/lib/python3.11/dist-packages (from dowhy) (1.6.1)\n",
            "Requirement already satisfied: scipy>=1.10 in /usr/local/lib/python3.11/dist-packages (from dowhy) (1.15.2)\n",
            "Requirement already satisfied: statsmodels>=0.13.5 in /usr/local/lib/python3.11/dist-packages (from dowhy) (0.14.4)\n",
            "Requirement already satisfied: sympy>=1.10.1 in /usr/local/lib/python3.11/dist-packages (from dowhy) (1.13.1)\n",
            "Requirement already satisfied: tqdm>=4.64.0 in /usr/local/lib/python3.11/dist-packages (from dowhy) (4.67.1)\n",
            "Requirement already satisfied: graphviz in /usr/local/lib/python3.11/dist-packages (from causal-learn>=0.1.3.0->dowhy) (0.20.3)\n",
            "Requirement already satisfied: matplotlib in /usr/local/lib/python3.11/dist-packages (from causal-learn>=0.1.3.0->dowhy) (3.10.0)\n",
            "Requirement already satisfied: pydot in /usr/local/lib/python3.11/dist-packages (from causal-learn>=0.1.3.0->dowhy) (3.0.4)\n",
            "Collecting momentchi2 (from causal-learn>=0.1.3.0->dowhy)\n",
            "  Downloading momentchi2-0.1.8-py3-none-any.whl.metadata (6.1 kB)\n",
            "Requirement already satisfied: osqp>=0.6.2 in /usr/local/lib/python3.11/dist-packages (from cvxpy>=1.2.2->dowhy) (1.0.3)\n",
            "Requirement already satisfied: clarabel>=0.5.0 in /usr/local/lib/python3.11/dist-packages (from cvxpy>=1.2.2->dowhy) (0.10.0)\n",
            "Requirement already satisfied: scs>=3.2.4.post1 in /usr/local/lib/python3.11/dist-packages (from cvxpy>=1.2.2->dowhy) (3.2.7.post2)\n",
            "Requirement already satisfied: llvmlite<0.44,>=0.43.0dev0 in /usr/local/lib/python3.11/dist-packages (from numba>=0.59->dowhy) (0.43.0)\n",
            "Requirement already satisfied: python-dateutil>=2.8.2 in /usr/local/lib/python3.11/dist-packages (from pandas>1.0->dowhy) (2.9.0.post0)\n",
            "Requirement already satisfied: pytz>=2020.1 in /usr/local/lib/python3.11/dist-packages (from pandas>1.0->dowhy) (2025.2)\n",
            "Requirement already satisfied: tzdata>=2022.7 in /usr/local/lib/python3.11/dist-packages (from pandas>1.0->dowhy) (2025.2)\n",
            "Requirement already satisfied: threadpoolctl>=3.1.0 in /usr/local/lib/python3.11/dist-packages (from scikit-learn>1.0->dowhy) (3.6.0)\n",
            "Requirement already satisfied: patsy>=0.5.6 in /usr/local/lib/python3.11/dist-packages (from statsmodels>=0.13.5->dowhy) (1.0.1)\n",
            "Requirement already satisfied: packaging>=21.3 in /usr/local/lib/python3.11/dist-packages (from statsmodels>=0.13.5->dowhy) (24.2)\n",
            "Requirement already satisfied: mpmath<1.4,>=1.1.0 in /usr/local/lib/python3.11/dist-packages (from sympy>=1.10.1->dowhy) (1.3.0)\n",
            "Requirement already satisfied: jinja2 in /usr/local/lib/python3.11/dist-packages (from osqp>=0.6.2->cvxpy>=1.2.2->dowhy) (3.1.6)\n",
            "Requirement already satisfied: setuptools in /usr/local/lib/python3.11/dist-packages (from osqp>=0.6.2->cvxpy>=1.2.2->dowhy) (75.2.0)\n",
            "Requirement already satisfied: six>=1.5 in /usr/local/lib/python3.11/dist-packages (from python-dateutil>=2.8.2->pandas>1.0->dowhy) (1.17.0)\n",
            "Requirement already satisfied: contourpy>=1.0.1 in /usr/local/lib/python3.11/dist-packages (from matplotlib->causal-learn>=0.1.3.0->dowhy) (1.3.2)\n",
            "Requirement already satisfied: cycler>=0.10 in /usr/local/lib/python3.11/dist-packages (from matplotlib->causal-learn>=0.1.3.0->dowhy) (0.12.1)\n",
            "Requirement already satisfied: fonttools>=4.22.0 in /usr/local/lib/python3.11/dist-packages (from matplotlib->causal-learn>=0.1.3.0->dowhy) (4.57.0)\n",
            "Requirement already satisfied: kiwisolver>=1.3.1 in /usr/local/lib/python3.11/dist-packages (from matplotlib->causal-learn>=0.1.3.0->dowhy) (1.4.8)\n",
            "Requirement already satisfied: pillow>=8 in /usr/local/lib/python3.11/dist-packages (from matplotlib->causal-learn>=0.1.3.0->dowhy) (11.2.1)\n",
            "Requirement already satisfied: pyparsing>=2.3.1 in /usr/local/lib/python3.11/dist-packages (from matplotlib->causal-learn>=0.1.3.0->dowhy) (3.2.3)\n",
            "Requirement already satisfied: MarkupSafe>=2.0 in /usr/local/lib/python3.11/dist-packages (from jinja2->osqp>=0.6.2->cvxpy>=1.2.2->dowhy) (3.0.2)\n",
            "Downloading dowhy-0.12-py3-none-any.whl (398 kB)\n",
            "\u001b[2K   \u001b[90m━━━━━━━━━━━━━━━━━━━━━━━━━━━━━━━━━━━━━━━━\u001b[0m \u001b[32m398.4/398.4 kB\u001b[0m \u001b[31m8.9 MB/s\u001b[0m eta \u001b[36m0:00:00\u001b[0m\n",
            "\u001b[?25hDownloading causal_learn-0.1.4.1-py3-none-any.whl (192 kB)\n",
            "\u001b[2K   \u001b[90m━━━━━━━━━━━━━━━━━━━━━━━━━━━━━━━━━━━━━━━━\u001b[0m \u001b[32m192.6/192.6 kB\u001b[0m \u001b[31m13.9 MB/s\u001b[0m eta \u001b[36m0:00:00\u001b[0m\n",
            "\u001b[?25hDownloading Cython-0.29.37-cp311-cp311-manylinux_2_17_x86_64.manylinux2014_x86_64.manylinux_2_24_x86_64.whl (1.9 MB)\n",
            "\u001b[2K   \u001b[90m━━━━━━━━━━━━━━━━━━━━━━━━━━━━━━━━━━━━━━━━\u001b[0m \u001b[32m1.9/1.9 MB\u001b[0m \u001b[31m35.7 MB/s\u001b[0m eta \u001b[36m0:00:00\u001b[0m\n",
            "\u001b[?25hDownloading momentchi2-0.1.8-py3-none-any.whl (11 kB)\n",
            "Installing collected packages: cython, momentchi2, causal-learn, dowhy\n",
            "  Attempting uninstall: cython\n",
            "    Found existing installation: Cython 3.0.12\n",
            "    Uninstalling Cython-3.0.12:\n",
            "      Successfully uninstalled Cython-3.0.12\n",
            "Successfully installed causal-learn-0.1.4.1 cython-0.29.37 dowhy-0.12 momentchi2-0.1.8\n",
            "Collecting scikit-learn==1.4.2\n",
            "  Downloading scikit_learn-1.4.2-cp311-cp311-manylinux_2_17_x86_64.manylinux2014_x86_64.whl.metadata (11 kB)\n",
            "Requirement already satisfied: numpy>=1.19.5 in /usr/local/lib/python3.11/dist-packages (from scikit-learn==1.4.2) (2.0.2)\n",
            "Requirement already satisfied: scipy>=1.6.0 in /usr/local/lib/python3.11/dist-packages (from scikit-learn==1.4.2) (1.15.2)\n",
            "Requirement already satisfied: joblib>=1.2.0 in /usr/local/lib/python3.11/dist-packages (from scikit-learn==1.4.2) (1.4.2)\n",
            "Requirement already satisfied: threadpoolctl>=2.0.0 in /usr/local/lib/python3.11/dist-packages (from scikit-learn==1.4.2) (3.6.0)\n",
            "Downloading scikit_learn-1.4.2-cp311-cp311-manylinux_2_17_x86_64.manylinux2014_x86_64.whl (12.1 MB)\n",
            "\u001b[2K   \u001b[90m━━━━━━━━━━━━━━━━━━━━━━━━━━━━━━━━━━━━━━━━\u001b[0m \u001b[32m12.1/12.1 MB\u001b[0m \u001b[31m56.4 MB/s\u001b[0m eta \u001b[36m0:00:00\u001b[0m\n",
            "\u001b[?25hInstalling collected packages: scikit-learn\n",
            "  Attempting uninstall: scikit-learn\n",
            "    Found existing installation: scikit-learn 1.6.1\n",
            "    Uninstalling scikit-learn-1.6.1:\n",
            "      Successfully uninstalled scikit-learn-1.6.1\n",
            "Successfully installed scikit-learn-1.4.2\n"
          ]
        }
      ],
      "source": [
        "! pip install dowhy\n",
        "! pip install scikit-learn==1.4.2"
      ]
    },
    {
      "cell_type": "code",
      "source": [
        "import sklearn\n",
        "import pandas as pd\n",
        "import dowhy\n",
        "from dowhy import CausalModel, gcm\n",
        "import networkx as nx\n",
        "import numpy as np\n",
        "from dowhy.gcm.falsify import FalsifyConst, falsify_graph, plot_local_insights, run_validations, apply_suggestions\n",
        "from sklearn.ensemble import RandomForestRegressor\n",
        "from sklearn.linear_model import RidgeCV, Ridge\n",
        "from sklearn.pipeline import make_pipeline\n",
        "from sklearn.preprocessing import PolynomialFeatures\n",
        "import dowhy.gcm as gcm\n",
        "from dowhy.gcm.ml import SklearnRegressionModel\n",
        "from dowhy.gcm import AdditiveNoiseModel, EmpiricalDistribution"
      ],
      "metadata": {
        "id": "eZljea5pqN_o"
      },
      "execution_count": 2,
      "outputs": []
    },
    {
      "cell_type": "markdown",
      "source": [
        "# Data Manipulation"
      ],
      "metadata": {
        "id": "ZGPWWZ01qtwa"
      }
    },
    {
      "cell_type": "code",
      "source": [
        "data = pd.read_csv(\"long_2000_mean_fire_earth_data.csv\")\n",
        "data['temp_C'] = (data['min_temp_C'] + data['max_temp_C'])/2\n",
        "drop_cols = ['FOD_ID', 'FIRE_NAME', 'DISCOVERY_DATE', 'STAT_CAUSE_DESCR', 'STATE', 'LATITUDE', 'LONGITUDE', 'date', 'dead_fuel_100']\n",
        "data = data.drop(columns=drop_cols)\n",
        "\n",
        "# Mapping dictionary\n",
        "class_mapping = {'A': 1, 'B': 2, 'C': 3, 'D': 4, 'E': 5, 'F': 6, 'G': 7, 'H': 8}\n",
        "\n",
        "# Apply the mapping\n",
        "data['FIRE_SIZE_CLASS_NUM'] = data['FIRE_SIZE_CLASS'].map(class_mapping)\n",
        "data = data.dropna()\n",
        "data_np = data.to_numpy()\n",
        "\n",
        "print(data.columns.tolist())"
      ],
      "metadata": {
        "colab": {
          "base_uri": "https://localhost:8080/"
        },
        "id": "EfjfJVUAqSDW",
        "outputId": "5ce66d1a-6bb7-4873-907f-293ad4756035"
      },
      "execution_count": 3,
      "outputs": [
        {
          "output_type": "stream",
          "name": "stdout",
          "text": [
            "['FIRE_SIZE', 'FIRE_SIZE_CLASS', 'FIRE_YEAR', 'CONT_DATE', 'DURATION_DAYS', 'DISCOVERY_DOY', 'dead_fuel_1000', 'energy_release', 'humidity', 'max_temp_C', 'min_temp_C', 'precipitation', 'wind_speed', 'population_density', 'vegetation', 'drought_index', 'temp_C', 'FIRE_SIZE_CLASS_NUM']\n"
          ]
        }
      ]
    },
    {
      "cell_type": "code",
      "source": [
        "ary_data = data.drop(columns=['dead_fuel_1000',\n",
        "                              'energy_release',\n",
        "                              #'population_density',\n",
        "                              #'drought_index',\n",
        "                              #'vegetation',\n",
        "                              #'precipitation',\n",
        "                              #'wind_speed',\n",
        "                              'max_temp_C',\n",
        "                              'min_temp_C',\n",
        "                              'DISCOVERY_DOY',\n",
        "                              'CONT_DATE',\n",
        "                              'DURATION_DAYS',\n",
        "                              'FIRE_SIZE_CLASS_NUM',\n",
        "                              'FIRE_SIZE',\n",
        "                              ])\n",
        "ary_data = ary_data.dropna()\n",
        "ary_data_np = ary_data.to_numpy()\n",
        "print(ary_data.columns.tolist())"
      ],
      "metadata": {
        "colab": {
          "base_uri": "https://localhost:8080/"
        },
        "id": "DrgREavaqXk8",
        "outputId": "66adae33-45a1-472f-ffac-d2ac0f01d048"
      },
      "execution_count": 4,
      "outputs": [
        {
          "output_type": "stream",
          "name": "stdout",
          "text": [
            "['FIRE_SIZE_CLASS', 'FIRE_YEAR', 'humidity', 'precipitation', 'wind_speed', 'population_density', 'vegetation', 'drought_index', 'temp_C']\n"
          ]
        }
      ]
    },
    {
      "cell_type": "markdown",
      "source": [
        "# Time Based Split"
      ],
      "metadata": {
        "id": "kbAZuZKPrGfZ"
      }
    },
    {
      "cell_type": "code",
      "source": [
        "print(sorted(ary_data['FIRE_YEAR'].unique()))\n",
        "train_split = ary_data[ary_data['FIRE_YEAR'] < 2014]\n",
        "test_split = ary_data[ary_data['FIRE_YEAR'] >= 2014]\n",
        "print(train_split.shape[0]/ary_data.shape[0])\n",
        "print(test_split.shape[0]/ary_data.shape[0])"
      ],
      "metadata": {
        "colab": {
          "base_uri": "https://localhost:8080/"
        },
        "id": "bAHBIIhUrIH9",
        "outputId": "f56d78a0-3c3a-4f22-88f9-0faeb25a87a5"
      },
      "execution_count": 5,
      "outputs": [
        {
          "output_type": "stream",
          "name": "stdout",
          "text": [
            "[np.int64(2000), np.int64(2001), np.int64(2002), np.int64(2003), np.int64(2004), np.int64(2005), np.int64(2006), np.int64(2007), np.int64(2008), np.int64(2009), np.int64(2010), np.int64(2011), np.int64(2012), np.int64(2013), np.int64(2014), np.int64(2015)]\n",
            "0.8085884514345564\n",
            "0.1914115485654436\n"
          ]
        }
      ]
    },
    {
      "cell_type": "code",
      "source": [
        "ary_data = ary_data.drop(columns=['FIRE_YEAR'])\n",
        "train_split = train_split.drop(columns=['FIRE_YEAR'])\n",
        "test_split = test_split.drop(columns=['FIRE_YEAR'])"
      ],
      "metadata": {
        "id": "2EmgvrAIsKZP"
      },
      "execution_count": 6,
      "outputs": []
    },
    {
      "cell_type": "markdown",
      "source": [
        "## Model"
      ],
      "metadata": {
        "id": "T1cZtViiqwj7"
      }
    },
    {
      "cell_type": "code",
      "source": [
        "# Define causal graph\n",
        "causal_graph = nx.DiGraph([\n",
        "\n",
        "    ('humidity','FIRE_SIZE_CLASS'),\n",
        "    ('humidity', 'vegetation'),\n",
        "    ('humidity', 'precipitation'),\n",
        "\n",
        "    ('precipitation','drought_index'),\n",
        "    ('precipitation','temp_C'),\n",
        "\n",
        "    ('wind_speed','FIRE_SIZE_CLASS'),\n",
        "\n",
        "    ('drought_index','FIRE_SIZE_CLASS'),\n",
        "\n",
        "    ('temp_C','FIRE_SIZE_CLASS'),\n",
        "    ('temp_C','vegetation'),\n",
        "    ('temp_C','population_density'),\n",
        "    ('temp_C','wind_speed'),\n",
        "\n",
        "    ('vegetation','FIRE_SIZE_CLASS'),\n",
        "\n",
        "    ('population_density','FIRE_SIZE_CLASS'),\n",
        "    ('population_density','vegetation'),\n",
        "\n",
        "    ('drought_index','vegetation'),\n",
        "])"
      ],
      "metadata": {
        "id": "s8ghp77Eqdwe"
      },
      "execution_count": 7,
      "outputs": []
    },
    {
      "cell_type": "code",
      "source": [
        "# Create causal model\n",
        "causal_model = gcm.StructuralCausalModel(causal_graph)\n",
        "auto_assignment_summary = gcm.auto.assign_causal_mechanisms(causal_model, train_split)\n",
        "print(auto_assignment_summary)"
      ],
      "metadata": {
        "colab": {
          "base_uri": "https://localhost:8080/"
        },
        "id": "wSkIehlxqiBE",
        "outputId": "69275fa2-2b7e-45ba-dda9-d43fe60bdd0a"
      },
      "execution_count": 8,
      "outputs": [
        {
          "output_type": "stream",
          "name": "stdout",
          "text": [
            "When using this auto assignment function, the given data is used to automatically assign a causal mechanism to each node. Note that causal mechanisms can also be customized and assigned manually.\n",
            "The following types of causal mechanisms are considered for the automatic selection:\n",
            "\n",
            "If root node:\n",
            "An empirical distribution, i.e., the distribution is represented by randomly sampling from the provided data. This provides a flexible and non-parametric way to model the marginal distribution and is valid for all types of data modalities.\n",
            "\n",
            "If non-root node and the data is continuous:\n",
            "Additive Noise Models (ANM) of the form X_i = f(PA_i) + N_i, where PA_i are the parents of X_i and the unobserved noise N_i is assumed to be independent of PA_i.To select the best model for f, different regression models are evaluated and the model with the smallest mean squared error is selected.Note that minimizing the mean squared error here is equivalent to selecting the best choice of an ANM.\n",
            "\n",
            "If non-root node and the data is discrete:\n",
            "Discrete Additive Noise Models have almost the same definition as non-discrete ANMs, but come with an additional constraint for f to only return discrete values.\n",
            "Note that 'discrete' here refers to numerical values with an order. If the data is categorical, consider representing them as strings to ensure proper model selection.\n",
            "\n",
            "If non-root node and the data is categorical:\n",
            "A functional causal model based on a classifier, i.e., X_i = f(PA_i, N_i).\n",
            "Here, N_i follows a uniform distribution on [0, 1] and is used to randomly sample a class (category) using the conditional probability distribution produced by a classification model.Here, different model classes are evaluated using the (negative) F1 score and the best performing model class is selected.\n",
            "\n",
            "In total, 8 nodes were analyzed:\n",
            "\n",
            "--- Node: humidity\n",
            "Node humidity is a root node. Therefore, assigning 'Empirical Distribution' to the node representing the marginal distribution.\n",
            "\n",
            "--- Node: precipitation\n",
            "Node precipitation is a non-root node with continuous data. Assigning 'AdditiveNoiseModel using LinearRegression' to the node.\n",
            "This represents the causal relationship as precipitation := f(humidity) + N.\n",
            "For the model selection, the following models were evaluated on the mean squared error (MSE) metric:\n",
            "LinearRegression: 9.247780844238758\n",
            "Pipeline(steps=[('polynomialfeatures', PolynomialFeatures(include_bias=False)),\n",
            "                ('linearregression', LinearRegression)]): 9.249542110093142\n",
            "HistGradientBoostingRegressor: 9.276874325781753\n",
            "\n",
            "--- Node: drought_index\n",
            "Node drought_index is a non-root node with continuous data. Assigning 'AdditiveNoiseModel using LinearRegression' to the node.\n",
            "This represents the causal relationship as drought_index := f(precipitation) + N.\n",
            "For the model selection, the following models were evaluated on the mean squared error (MSE) metric:\n",
            "LinearRegression: 4.912201432706856\n",
            "Pipeline(steps=[('polynomialfeatures', PolynomialFeatures(include_bias=False)),\n",
            "                ('linearregression', LinearRegression)]): 4.915537085429081\n",
            "HistGradientBoostingRegressor: 4.9186639369593905\n",
            "\n",
            "--- Node: temp_C\n",
            "Node temp_C is a non-root node with continuous data. Assigning 'AdditiveNoiseModel using HistGradientBoostingRegressor' to the node.\n",
            "This represents the causal relationship as temp_C := f(precipitation) + N.\n",
            "For the model selection, the following models were evaluated on the mean squared error (MSE) metric:\n",
            "HistGradientBoostingRegressor: 39.849624691301095\n",
            "Pipeline(steps=[('polynomialfeatures', PolynomialFeatures(include_bias=False)),\n",
            "                ('linearregression', LinearRegression)]): 40.535772977047124\n",
            "LinearRegression: 40.59981771850978\n",
            "\n",
            "--- Node: population_density\n",
            "Node population_density is a non-root node with continuous data. Assigning 'AdditiveNoiseModel using Pipeline' to the node.\n",
            "This represents the causal relationship as population_density := f(temp_C) + N.\n",
            "For the model selection, the following models were evaluated on the mean squared error (MSE) metric:\n",
            "Pipeline(steps=[('polynomialfeatures', PolynomialFeatures(include_bias=False)),\n",
            "                ('linearregression', LinearRegression)]): 25040.111847985485\n",
            "HistGradientBoostingRegressor: 25094.38617783007\n",
            "LinearRegression: 25202.723066798044\n",
            "\n",
            "--- Node: wind_speed\n",
            "Node wind_speed is a non-root node with continuous data. Assigning 'AdditiveNoiseModel using HistGradientBoostingRegressor' to the node.\n",
            "This represents the causal relationship as wind_speed := f(temp_C) + N.\n",
            "For the model selection, the following models were evaluated on the mean squared error (MSE) metric:\n",
            "HistGradientBoostingRegressor: 1.9993867836671655\n",
            "Pipeline(steps=[('polynomialfeatures', PolynomialFeatures(include_bias=False)),\n",
            "                ('linearregression', LinearRegression)]): 1.9999561410965214\n",
            "LinearRegression: 2.0141476798590654\n",
            "\n",
            "--- Node: vegetation\n",
            "Node vegetation is a non-root node with discrete data. Assigning 'Discrete AdditiveNoiseModel using HistGradientBoostingRegressor' to the node.\n",
            "This represents the discrete causal relationship as vegetation := f(drought_index,humidity,population_density,temp_C) + N.\n",
            "For the model selection, the following models were evaluated on the mean squared error (MSE) metric:\n",
            "HistGradientBoostingRegressor: 807040.570629731\n",
            "LinearRegression: 938374.0665737469\n",
            "Pipeline(steps=[('polynomialfeatures', PolynomialFeatures(include_bias=False)),\n",
            "                ('linearregression', LinearRegression)]): 945568.3797637427\n",
            "\n",
            "--- Node: FIRE_SIZE_CLASS\n",
            "Node FIRE_SIZE_CLASS is a non-root node with categorical data. Assigning 'Classifier FCM based on HistGradientBoostingClassifier()' to the node.\n",
            "This represents the causal relationship as FIRE_SIZE_CLASS := f(drought_index,humidity,population_density,temp_C,vegetation,wind_speed,N).\n",
            "For the model selection, the following models were evaluated on the (negative) F1 metric:\n",
            "HistGradientBoostingClassifier: -0.17686737438804007\n",
            "LogisticRegression(max_iter=10000): -0.12270528359716855\n",
            "\n",
            "===Note===\n",
            "Note, based on the selected auto assignment quality, the set of evaluated models changes.\n",
            "For more insights toward the quality of the fitted graphical causal model, consider using the evaluate_causal_model function after fitting the causal mechanisms.\n"
          ]
        }
      ]
    },
    {
      "cell_type": "code",
      "source": [
        "# Fit and evaluate\n",
        "gcm.fit(causal_model, train_split)\n",
        "evaluation = gcm.evaluate_causal_model(\n",
        "    causal_model,\n",
        "    data=test_split\n",
        ")\n",
        "print(evaluation)"
      ],
      "metadata": {
        "colab": {
          "base_uri": "https://localhost:8080/",
          "height": 1000
        },
        "id": "u_BS9NjuqkLw",
        "outputId": "28917372-f903-44dc-8512-26ee47b03f2f"
      },
      "execution_count": 9,
      "outputs": [
        {
          "output_type": "stream",
          "name": "stderr",
          "text": [
            "Fitting causal mechanism of node population_density: 100%|██████████| 8/8 [00:04<00:00,  1.97it/s]\n",
            "Evaluating causal mechanisms...: 100%|██████████| 8/8 [01:02<00:00,  7.87s/it]\n",
            "Test permutations of given graph: 100%|██████████| 50/50 [01:12<00:00,  1.45s/it]\n"
          ]
        },
        {
          "output_type": "display_data",
          "data": {
            "text/plain": [
              "<Figure size 800x300 with 1 Axes>"
            ],
            "image/png": "[encoded data removed]"
          },
          "metadata": {}
        },
        {
          "output_type": "stream",
          "name": "stdout",
          "text": [
            "Evaluated the performance of the causal mechanisms and the invertibility assumption of the causal mechanisms and the overall average KL divergence between generated and observed distribution and the graph structure. The results are as follows:\n",
            "\n",
            "==== Evaluation of Causal Mechanisms ====\n",
            "The used evaluation metrics are:\n",
            "- KL divergence (only for root-nodes): Evaluates the divergence between the generated and the observed distribution.\n",
            "- Mean Squared Error (MSE): Evaluates the average squared differences between the observed values and the conditional expectation of the causal mechanisms.\n",
            "- Normalized MSE (NMSE): The MSE normalized by the standard deviation for better comparison.\n",
            "- R2 coefficient: Indicates how much variance is explained by the conditional expectations of the mechanisms. Note, however, that this can be misleading for nonlinear relationships.\n",
            "- F1 score (only for categorical non-root nodes): The harmonic mean of the precision and recall indicating the goodness of the underlying classifier model.\n",
            "- (normalized) Continuous Ranked Probability Score (CRPS): The CRPS generalizes the Mean Absolute Percentage Error to probabilistic predictions. This gives insights into the accuracy and calibration of the causal mechanisms.\n",
            "NOTE: Every metric focuses on different aspects and they might not consistently indicate a good or bad performance.\n",
            "We will mostly utilize the CRPS for comparing and interpreting the performance of the mechanisms, since this captures the most important properties for the causal model.\n",
            "\n",
            "--- Node humidity\n",
            "- The KL divergence between generated and observed distribution is 0.02380561954586503.\n",
            "The estimated KL divergence indicates an overall very good representation of the data distribution.\n",
            "\n",
            "--- Node precipitation\n",
            "- The MSE is 19.67674187719758.\n",
            "- The NMSE is 0.9769868982136132.\n",
            "- The R2 coefficient is 0.04545389022504389.\n",
            "- The normalized CRPS is 0.3528423906171481.\n",
            "The estimated CRPS indicates only a fair model performance. Note, however, that a high CRPS could also result from a small signal to noise ratio.\n",
            "\n",
            "--- Node drought_index\n",
            "- The MSE is 3.948108846763702.\n",
            "- The NMSE is 0.9995314900908161.\n",
            "- The R2 coefficient is 0.0009364388518311228.\n",
            "- The normalized CRPS is 0.575702379530915.\n",
            "The estimated CRPS indicates only a fair model performance. Note, however, that a high CRPS could also result from a small signal to noise ratio.\n",
            "\n",
            "--- Node temp_C\n",
            "- The MSE is 52.32561514814314.\n",
            "- The NMSE is 0.998592452403123.\n",
            "- The R2 coefficient is 0.002810799142287479.\n",
            "- The normalized CRPS is 0.5599713426078315.\n",
            "The estimated CRPS indicates only a fair model performance. Note, however, that a high CRPS could also result from a small signal to noise ratio.\n",
            "\n",
            "--- Node population_density\n",
            "- The MSE is 3814507.2433888456.\n",
            "- The NMSE is 0.9921932988226569.\n",
            "- The R2 coefficient is 0.015537789998708185.\n",
            "- The normalized CRPS is 0.2514300900137302.\n",
            "The estimated CRPS indicates a good model performance.\n",
            "\n",
            "--- Node wind_speed\n",
            "- The MSE is 2.2480371377152473.\n",
            "- The NMSE is 0.930179532186821.\n",
            "- The R2 coefficient is 0.13470481331293493.\n",
            "- The normalized CRPS is 0.5028980421564702.\n",
            "The estimated CRPS indicates only a fair model performance. Note, however, that a high CRPS could also result from a small signal to noise ratio.\n",
            "\n",
            "--- Node vegetation\n",
            "- The MSE is 856315.6366029128.\n",
            "- The NMSE is 0.7638031045377698.\n",
            "- The R2 coefficient is 0.4165294997988779.\n",
            "- The normalized CRPS is 0.4285634412914049.\n",
            "The estimated CRPS indicates only a fair model performance. Note, however, that a high CRPS could also result from a small signal to noise ratio.\n",
            "\n",
            "--- Node FIRE_SIZE_CLASS\n",
            "- The F1 score is 0.2249512437661155.\n",
            "- The normalized CRPS is 0.08745441072761388.\n",
            "The estimated CRPS indicates a very good model performance.\n",
            "\n",
            "==== Evaluation of Invertible Functional Causal Model Assumption ====\n",
            "\n",
            "--- The model assumption for node vegetation is rejected with a p-value of 0.0 (after potential adjustment) and a significance level of 0.05.\n",
            "This implies that the model assumption might not be valid. This is, the relationship cannot be represent with this type of mechanism or there is a hidden confounder between the node and its parents.\n",
            "\n",
            "--- The model assumption for node precipitation is rejected with a p-value of 5.818596937601228e-08 (after potential adjustment) and a significance level of 0.05.\n",
            "This implies that the model assumption might not be valid. This is, the relationship cannot be represent with this type of mechanism or there is a hidden confounder between the node and its parents.\n",
            "\n",
            "--- The model assumption for node drought_index is rejected with a p-value of 0.024957935253840935 (after potential adjustment) and a significance level of 0.05.\n",
            "This implies that the model assumption might not be valid. This is, the relationship cannot be represent with this type of mechanism or there is a hidden confounder between the node and its parents.\n",
            "\n",
            "--- The model assumption for node temp_C is not rejected with a p-value of 1.0 (after potential adjustment) and a significance level of 0.05.\n",
            "This implies that the model assumption might be valid.\n",
            "\n",
            "--- The model assumption for node wind_speed is rejected with a p-value of 0.0 (after potential adjustment) and a significance level of 0.05.\n",
            "This implies that the model assumption might not be valid. This is, the relationship cannot be represent with this type of mechanism or there is a hidden confounder between the node and its parents.\n",
            "\n",
            "--- The model assumption for node population_density is rejected with a p-value of 5.301478256392045e-08 (after potential adjustment) and a significance level of 0.05.\n",
            "This implies that the model assumption might not be valid. This is, the relationship cannot be represent with this type of mechanism or there is a hidden confounder between the node and its parents.\n",
            "\n",
            "Note that these results are based on statistical independence tests, and the fact that the assumption was not rejected does not necessarily imply that it is correct. There is just no evidence against it.\n",
            "\n",
            "==== Evaluation of Generated Distribution ====\n",
            "The overall average KL divergence between the generated and observed distribution is 1.2706500742271685\n",
            "The estimated KL divergence indicates some mismatches between the distributions.\n",
            "\n",
            "==== Evaluation of the Causal Graph Structure ====\n",
            "+-------------------------------------------------------------------------------------------------------+\n",
            "|                                         Falsification Summary                                         |\n",
            "+-------------------------------------------------------------------------------------------------------+\n",
            "| The given DAG is informative because 0 / 50 of the permutations lie in the Markov                     |\n",
            "| equivalence class of the given DAG (p-value: 0.00).                                                   |\n",
            "| The given DAG violates 9/18 LMCs and is better than 94.0% of the permuted DAGs (p-value: 0.06).       |\n",
            "| Based on the provided significance level (0.2) and because the DAG is informative,                    |\n",
            "| we do not reject the DAG.                                                                             |\n",
            "+-------------------------------------------------------------------------------------------------------+\n",
            "\n",
            "==== NOTE ====\n",
            "Always double check the made model assumptions with respect to the graph structure and choice of causal mechanisms.\n",
            "All these evaluations give some insight into the goodness of the causal model, but should not be overinterpreted, since some causal relationships can be intrinsically hard to model. Furthermore, many algorithms are fairly robust against misspecifications or poor performances of causal mechanisms.\n"
          ]
        }
      ]
    },
    {
      "cell_type": "markdown",
      "source": [
        "# Random Split"
      ],
      "metadata": {
        "id": "JXm6IXhJx4NT"
      }
    },
    {
      "cell_type": "markdown",
      "source": [
        "## Model"
      ],
      "metadata": {
        "id": "6Gybw20Vx876"
      }
    },
    {
      "cell_type": "code",
      "source": [
        "from sklearn.model_selection import train_test_split\n",
        "\n",
        "train_split, test_split = train_test_split(ary_data, test_size=0.2)"
      ],
      "metadata": {
        "id": "BFJTACX_yI0H"
      },
      "execution_count": 15,
      "outputs": []
    },
    {
      "cell_type": "code",
      "source": [
        "# Define causal graph\n",
        "causal_graph = nx.DiGraph([\n",
        "\n",
        "    ('humidity','FIRE_SIZE_CLASS'),\n",
        "    ('humidity', 'vegetation'),\n",
        "    ('humidity', 'precipitation'),\n",
        "\n",
        "    ('precipitation','drought_index'),\n",
        "    ('precipitation','temp_C'),\n",
        "\n",
        "    ('wind_speed','FIRE_SIZE_CLASS'),\n",
        "\n",
        "    ('drought_index','FIRE_SIZE_CLASS'),\n",
        "\n",
        "    ('temp_C','FIRE_SIZE_CLASS'),\n",
        "    ('temp_C','vegetation'),\n",
        "    ('temp_C','population_density'),\n",
        "    ('temp_C','wind_speed'),\n",
        "\n",
        "    ('vegetation','FIRE_SIZE_CLASS'),\n",
        "\n",
        "    ('population_density','FIRE_SIZE_CLASS'),\n",
        "    ('population_density','vegetation'),\n",
        "\n",
        "    ('drought_index','vegetation'),\n",
        "])"
      ],
      "metadata": {
        "id": "k8F2HK_Bx8I1"
      },
      "execution_count": 16,
      "outputs": []
    },
    {
      "cell_type": "code",
      "source": [
        "# Create causal model\n",
        "causal_model = gcm.StructuralCausalModel(causal_graph)\n",
        "auto_assignment_summary = gcm.auto.assign_causal_mechanisms(causal_model, train_split)\n",
        "print(auto_assignment_summary)"
      ],
      "metadata": {
        "colab": {
          "base_uri": "https://localhost:8080/"
        },
        "id": "XeWoY5wKx_ba",
        "outputId": "6bffdf2b-03eb-439c-ff97-32951481d48f"
      },
      "execution_count": 17,
      "outputs": [
        {
          "output_type": "stream",
          "name": "stdout",
          "text": [
            "When using this auto assignment function, the given data is used to automatically assign a causal mechanism to each node. Note that causal mechanisms can also be customized and assigned manually.\n",
            "The following types of causal mechanisms are considered for the automatic selection:\n",
            "\n",
            "If root node:\n",
            "An empirical distribution, i.e., the distribution is represented by randomly sampling from the provided data. This provides a flexible and non-parametric way to model the marginal distribution and is valid for all types of data modalities.\n",
            "\n",
            "If non-root node and the data is continuous:\n",
            "Additive Noise Models (ANM) of the form X_i = f(PA_i) + N_i, where PA_i are the parents of X_i and the unobserved noise N_i is assumed to be independent of PA_i.To select the best model for f, different regression models are evaluated and the model with the smallest mean squared error is selected.Note that minimizing the mean squared error here is equivalent to selecting the best choice of an ANM.\n",
            "\n",
            "If non-root node and the data is discrete:\n",
            "Discrete Additive Noise Models have almost the same definition as non-discrete ANMs, but come with an additional constraint for f to only return discrete values.\n",
            "Note that 'discrete' here refers to numerical values with an order. If the data is categorical, consider representing them as strings to ensure proper model selection.\n",
            "\n",
            "If non-root node and the data is categorical:\n",
            "A functional causal model based on a classifier, i.e., X_i = f(PA_i, N_i).\n",
            "Here, N_i follows a uniform distribution on [0, 1] and is used to randomly sample a class (category) using the conditional probability distribution produced by a classification model.Here, different model classes are evaluated using the (negative) F1 score and the best performing model class is selected.\n",
            "\n",
            "In total, 8 nodes were analyzed:\n",
            "\n",
            "--- Node: humidity\n",
            "Node humidity is a root node. Therefore, assigning 'Empirical Distribution' to the node representing the marginal distribution.\n",
            "\n",
            "--- Node: precipitation\n",
            "Node precipitation is a non-root node with continuous data. Assigning 'AdditiveNoiseModel using LinearRegression' to the node.\n",
            "This represents the causal relationship as precipitation := f(humidity) + N.\n",
            "For the model selection, the following models were evaluated on the mean squared error (MSE) metric:\n",
            "LinearRegression: 11.246154377295795\n",
            "Pipeline(steps=[('polynomialfeatures', PolynomialFeatures(include_bias=False)),\n",
            "                ('linearregression', LinearRegression)]): 11.249640709283131\n",
            "HistGradientBoostingRegressor: 11.258181782046254\n",
            "\n",
            "--- Node: drought_index\n",
            "Node drought_index is a non-root node with continuous data. Assigning 'AdditiveNoiseModel using LinearRegression' to the node.\n",
            "This represents the causal relationship as drought_index := f(precipitation) + N.\n",
            "For the model selection, the following models were evaluated on the mean squared error (MSE) metric:\n",
            "LinearRegression: 4.74707149239499\n",
            "Pipeline(steps=[('polynomialfeatures', PolynomialFeatures(include_bias=False)),\n",
            "                ('linearregression', LinearRegression)]): 4.7471116114881236\n",
            "HistGradientBoostingRegressor: 4.7496621910438535\n",
            "\n",
            "--- Node: temp_C\n",
            "Node temp_C is a non-root node with continuous data. Assigning 'AdditiveNoiseModel using HistGradientBoostingRegressor' to the node.\n",
            "This represents the causal relationship as temp_C := f(precipitation) + N.\n",
            "For the model selection, the following models were evaluated on the mean squared error (MSE) metric:\n",
            "HistGradientBoostingRegressor: 42.65964354730419\n",
            "Pipeline(steps=[('polynomialfeatures', PolynomialFeatures(include_bias=False)),\n",
            "                ('linearregression', LinearRegression)]): 43.39562247283301\n",
            "LinearRegression: 43.44656377975985\n",
            "\n",
            "--- Node: population_density\n",
            "Node population_density is a non-root node with continuous data. Assigning 'AdditiveNoiseModel using Pipeline' to the node.\n",
            "This represents the causal relationship as population_density := f(temp_C) + N.\n",
            "For the model selection, the following models were evaluated on the mean squared error (MSE) metric:\n",
            "Pipeline(steps=[('polynomialfeatures', PolynomialFeatures(include_bias=False)),\n",
            "                ('linearregression', LinearRegression)]): 812908.9316994563\n",
            "LinearRegression: 816105.3957862221\n",
            "HistGradientBoostingRegressor: 816318.8010209607\n",
            "\n",
            "--- Node: wind_speed\n",
            "Node wind_speed is a non-root node with continuous data. Assigning 'AdditiveNoiseModel using HistGradientBoostingRegressor' to the node.\n",
            "This represents the causal relationship as wind_speed := f(temp_C) + N.\n",
            "For the model selection, the following models were evaluated on the mean squared error (MSE) metric:\n",
            "HistGradientBoostingRegressor: 2.0359535082862226\n",
            "Pipeline(steps=[('polynomialfeatures', PolynomialFeatures(include_bias=False)),\n",
            "                ('linearregression', LinearRegression)]): 2.0436156120972533\n",
            "LinearRegression: 2.061339542048056\n",
            "\n",
            "--- Node: vegetation\n",
            "Node vegetation is a non-root node with discrete data. Assigning 'Discrete AdditiveNoiseModel using HistGradientBoostingRegressor' to the node.\n",
            "This represents the discrete causal relationship as vegetation := f(drought_index,humidity,population_density,temp_C) + N.\n",
            "For the model selection, the following models were evaluated on the mean squared error (MSE) metric:\n",
            "HistGradientBoostingRegressor: 794997.7941144493\n",
            "Pipeline(steps=[('polynomialfeatures', PolynomialFeatures(include_bias=False)),\n",
            "                ('linearregression', LinearRegression)]): 938170.14337528\n",
            "LinearRegression: 986091.0034929315\n",
            "\n",
            "--- Node: FIRE_SIZE_CLASS\n",
            "Node FIRE_SIZE_CLASS is a non-root node with categorical data. Assigning 'Classifier FCM based on HistGradientBoostingClassifier()' to the node.\n",
            "This represents the causal relationship as FIRE_SIZE_CLASS := f(drought_index,humidity,population_density,temp_C,vegetation,wind_speed,N).\n",
            "For the model selection, the following models were evaluated on the (negative) F1 metric:\n",
            "HistGradientBoostingClassifier: -0.18034127049281218\n",
            "LogisticRegression(max_iter=10000): -0.11386958267982691\n",
            "\n",
            "===Note===\n",
            "Note, based on the selected auto assignment quality, the set of evaluated models changes.\n",
            "For more insights toward the quality of the fitted graphical causal model, consider using the evaluate_causal_model function after fitting the causal mechanisms.\n"
          ]
        }
      ]
    },
    {
      "cell_type": "code",
      "source": [
        "# Fit and evaluate\n",
        "gcm.fit(causal_model, train_split)\n",
        "evaluation = gcm.evaluate_causal_model(\n",
        "    causal_model,\n",
        "    data=test_split\n",
        ")\n",
        "print(evaluation)"
      ],
      "metadata": {
        "colab": {
          "base_uri": "https://localhost:8080/",
          "height": 1000
        },
        "id": "BWCBFo9ryA9k",
        "outputId": "2203f8fd-b787-46cd-c072-c10be9afdb67"
      },
      "execution_count": 18,
      "outputs": [
        {
          "output_type": "stream",
          "name": "stderr",
          "text": [
            "Fitting causal mechanism of node population_density: 100%|██████████| 8/8 [00:05<00:00,  1.51it/s]\n",
            "Evaluating causal mechanisms...: 100%|██████████| 8/8 [00:59<00:00,  7.48s/it]\n",
            "Test permutations of given graph: 100%|██████████| 50/50 [01:08<00:00,  1.38s/it]\n"
          ]
        },
        {
          "output_type": "display_data",
          "data": {
            "text/plain": [
              "<Figure size 800x300 with 1 Axes>"
            ],
            "image/png": "[encoded data removed]"
          },
          "metadata": {}
        },
        {
          "output_type": "stream",
          "name": "stdout",
          "text": [
            "Evaluated the performance of the causal mechanisms and the invertibility assumption of the causal mechanisms and the overall average KL divergence between generated and observed distribution and the graph structure. The results are as follows:\n",
            "\n",
            "==== Evaluation of Causal Mechanisms ====\n",
            "The used evaluation metrics are:\n",
            "- KL divergence (only for root-nodes): Evaluates the divergence between the generated and the observed distribution.\n",
            "- Mean Squared Error (MSE): Evaluates the average squared differences between the observed values and the conditional expectation of the causal mechanisms.\n",
            "- Normalized MSE (NMSE): The MSE normalized by the standard deviation for better comparison.\n",
            "- R2 coefficient: Indicates how much variance is explained by the conditional expectations of the mechanisms. Note, however, that this can be misleading for nonlinear relationships.\n",
            "- F1 score (only for categorical non-root nodes): The harmonic mean of the precision and recall indicating the goodness of the underlying classifier model.\n",
            "- (normalized) Continuous Ranked Probability Score (CRPS): The CRPS generalizes the Mean Absolute Percentage Error to probabilistic predictions. This gives insights into the accuracy and calibration of the causal mechanisms.\n",
            "NOTE: Every metric focuses on different aspects and they might not consistently indicate a good or bad performance.\n",
            "We will mostly utilize the CRPS for comparing and interpreting the performance of the mechanisms, since this captures the most important properties for the causal model.\n",
            "\n",
            "--- Node humidity\n",
            "- The KL divergence between generated and observed distribution is 0.014594671080950236.\n",
            "The estimated KL divergence indicates an overall very good representation of the data distribution.\n",
            "\n",
            "--- Node precipitation\n",
            "- The MSE is 11.261330194501292.\n",
            "- The NMSE is 0.9629727809894261.\n",
            "- The R2 coefficient is 0.07268043264318762.\n",
            "- The normalized CRPS is 0.36552795450875847.\n",
            "The estimated CRPS indicates only a fair model performance. Note, however, that a high CRPS could also result from a small signal to noise ratio.\n",
            "\n",
            "--- Node drought_index\n",
            "- The MSE is 4.681452542704744.\n",
            "- The NMSE is 1.0003824478061436.\n",
            "- The R2 coefficient is -0.0007651885914218059.\n",
            "- The normalized CRPS is 0.5568679901542725.\n",
            "The estimated CRPS indicates only a fair model performance. Note, however, that a high CRPS could also result from a small signal to noise ratio.\n",
            "\n",
            "--- Node temp_C\n",
            "- The MSE is 42.29965003696537.\n",
            "- The NMSE is 0.9933650181481262.\n",
            "- The R2 coefficient is 0.0132162644400716.\n",
            "- The normalized CRPS is 0.5542989523475568.\n",
            "The estimated CRPS indicates only a fair model performance. Note, however, that a high CRPS could also result from a small signal to noise ratio.\n",
            "\n",
            "--- Node population_density\n",
            "- The MSE is 663328.5874311242.\n",
            "- The NMSE is 0.9962045071007287.\n",
            "- The R2 coefficient is 0.00755750156620989.\n",
            "- The normalized CRPS is 0.15417935294156973.\n",
            "The estimated CRPS indicates a very good model performance.\n",
            "\n",
            "--- Node wind_speed\n",
            "- The MSE is 2.044332773905489.\n",
            "- The NMSE is 0.9614880552760361.\n",
            "- The R2 coefficient is 0.07551577203490614.\n",
            "- The normalized CRPS is 0.5172049107920095.\n",
            "The estimated CRPS indicates only a fair model performance. Note, however, that a high CRPS could also result from a small signal to noise ratio.\n",
            "\n",
            "--- Node vegetation\n",
            "- The MSE is 827597.1362348225.\n",
            "- The NMSE is 0.8261839736370036.\n",
            "- The R2 coefficient is 0.3173186050425811.\n",
            "- The normalized CRPS is 0.46637947925466694.\n",
            "The estimated CRPS indicates only a fair model performance. Note, however, that a high CRPS could also result from a small signal to noise ratio.\n",
            "\n",
            "--- Node FIRE_SIZE_CLASS\n",
            "- The F1 score is 0.183947452959989.\n",
            "- The normalized CRPS is 0.10359990183959929.\n",
            "The estimated CRPS indicates a very good model performance.\n",
            "\n",
            "==== Evaluation of Invertible Functional Causal Model Assumption ====\n",
            "\n",
            "--- The model assumption for node vegetation is not rejected with a p-value of 1.0 (after potential adjustment) and a significance level of 0.05.\n",
            "This implies that the model assumption might be valid.\n",
            "\n",
            "--- The model assumption for node precipitation is rejected with a p-value of 0.004121959648786255 (after potential adjustment) and a significance level of 0.05.\n",
            "This implies that the model assumption might not be valid. This is, the relationship cannot be represent with this type of mechanism or there is a hidden confounder between the node and its parents.\n",
            "\n",
            "--- The model assumption for node drought_index is not rejected with a p-value of 1.0 (after potential adjustment) and a significance level of 0.05.\n",
            "This implies that the model assumption might be valid.\n",
            "\n",
            "--- The model assumption for node temp_C is not rejected with a p-value of 1.0 (after potential adjustment) and a significance level of 0.05.\n",
            "This implies that the model assumption might be valid.\n",
            "\n",
            "--- The model assumption for node wind_speed is rejected with a p-value of 1.4521717162097048e-12 (after potential adjustment) and a significance level of 0.05.\n",
            "This implies that the model assumption might not be valid. This is, the relationship cannot be represent with this type of mechanism or there is a hidden confounder between the node and its parents.\n",
            "\n",
            "--- The model assumption for node population_density is rejected with a p-value of 1.406871176223845e-06 (after potential adjustment) and a significance level of 0.05.\n",
            "This implies that the model assumption might not be valid. This is, the relationship cannot be represent with this type of mechanism or there is a hidden confounder between the node and its parents.\n",
            "\n",
            "Note that these results are based on statistical independence tests, and the fact that the assumption was not rejected does not necessarily imply that it is correct. There is just no evidence against it.\n",
            "\n",
            "==== Evaluation of Generated Distribution ====\n",
            "The overall average KL divergence between the generated and observed distribution is 1.3098290438381759\n",
            "The estimated KL divergence indicates some mismatches between the distributions.\n",
            "\n",
            "==== Evaluation of the Causal Graph Structure ====\n",
            "+-------------------------------------------------------------------------------------------------------+\n",
            "|                                         Falsification Summary                                         |\n",
            "+-------------------------------------------------------------------------------------------------------+\n",
            "| The given DAG is informative because 0 / 50 of the permutations lie in the Markov                     |\n",
            "| equivalence class of the given DAG (p-value: 0.00).                                                   |\n",
            "| The given DAG violates 8/18 LMCs and is better than 94.0% of the permuted DAGs (p-value: 0.06).       |\n",
            "| Based on the provided significance level (0.2) and because the DAG is informative,                    |\n",
            "| we do not reject the DAG.                                                                             |\n",
            "+-------------------------------------------------------------------------------------------------------+\n",
            "\n",
            "==== NOTE ====\n",
            "Always double check the made model assumptions with respect to the graph structure and choice of causal mechanisms.\n",
            "All these evaluations give some insight into the goodness of the causal model, but should not be overinterpreted, since some causal relationships can be intrinsically hard to model. Furthermore, many algorithms are fairly robust against misspecifications or poor performances of causal mechanisms.\n"
          ]
        }
      ]
    }
  ]
}